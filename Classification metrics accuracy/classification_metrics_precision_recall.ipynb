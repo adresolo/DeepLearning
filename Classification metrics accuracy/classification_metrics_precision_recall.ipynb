{
  "cells": [
    {
      "cell_type": "code",
      "execution_count": 1,
      "metadata": {
        "id": "oseC_nj55T5A"
      },
      "outputs": [],
      "source": [
        "import pandas as pd\n",
        "import numpy as np\n",
        "import matplotlib.pyplot as plt\n",
        "import seaborn as sns\n",
        "import matplotlib\n",
        "\n",
        "matplotlib.rcParams.update({'font.size': 14})"
      ]
    },
    {
      "cell_type": "markdown",
      "metadata": {
        "id": "C-mDBnzI52x2"
      },
      "source": [
        "**Metrics** in machine learning are needed to evaluate the quality of a model's performance, to understand how well the model has memorized patterns from the training sample.  \n",
        "\n",
        "Today we continue to look at metrics for the **classification task**. For this task, we want our models to predict the correct object class label as often as possible.\n",
        "\n",
        "<img src='https://static.javatpoint.com/tutorial/machine-learning/images/classification-algorithm-in-machine-learning.png' width=600>\n"
      ]
    },
    {
      "cell_type": "markdown",
      "metadata": {
        "id": "GeVL9WAdKkGv"
      },
      "source": [
        "The accuracy metric has a couple of problems:\n",
        "- The metric is biased on samples with class imbalance\n",
        "- It is impossible to give weights for different errors"
      ]
    },
    {
      "cell_type": "markdown",
      "metadata": {
        "id": "0zsy50ywK-87"
      },
      "source": [
        "So one wants to introduce a metric that sidesteps these problems."
      ]
    },
    {
      "cell_type": "markdown",
      "metadata": {
        "id": "F1Sdqov32DLc"
      },
      "source": [
        "## Data"
      ]
    },
    {
      "cell_type": "markdown",
      "metadata": {
        "id": "r93dpOiwLtOs"
      },
      "source": [
        "Let's remember what mistakes were made with the credit scoring model.\n",
        "\n",
        "Class 0 marks clients who will not repay the loan, and class 1 marks clients who will.\n",
        "The sample has no class imbalance, 5 objects with class 0 and 5 with class 1."
      ]
    },
    {
      "cell_type": "code",
      "execution_count": 2,
      "metadata": {
        "colab": {
          "base_uri": "https://localhost:8080/",
          "height": 359
        },
        "id": "NJhZlK0GLkJW",
        "outputId": "e28624e3-1a58-42d3-c1c2-db9c69209038"
      },
      "outputs": [
        {
          "data": {
            "text/html": [
              "<div>\n",
              "<style scoped>\n",
              "    .dataframe tbody tr th:only-of-type {\n",
              "        vertical-align: middle;\n",
              "    }\n",
              "\n",
              "    .dataframe tbody tr th {\n",
              "        vertical-align: top;\n",
              "    }\n",
              "\n",
              "    .dataframe thead th {\n",
              "        text-align: right;\n",
              "    }\n",
              "</style>\n",
              "<table border=\"1\" class=\"dataframe\">\n",
              "  <thead>\n",
              "    <tr style=\"text-align: right;\">\n",
              "      <th></th>\n",
              "      <th>clients</th>\n",
              "      <th>first_model</th>\n",
              "      <th>second_model</th>\n",
              "    </tr>\n",
              "  </thead>\n",
              "  <tbody>\n",
              "    <tr>\n",
              "      <th>0</th>\n",
              "      <td>0</td>\n",
              "      <td>0</td>\n",
              "      <td>0</td>\n",
              "    </tr>\n",
              "    <tr>\n",
              "      <th>1</th>\n",
              "      <td>0</td>\n",
              "      <td>0</td>\n",
              "      <td>0</td>\n",
              "    </tr>\n",
              "    <tr>\n",
              "      <th>2</th>\n",
              "      <td>0</td>\n",
              "      <td>1</td>\n",
              "      <td>0</td>\n",
              "    </tr>\n",
              "    <tr>\n",
              "      <th>3</th>\n",
              "      <td>0</td>\n",
              "      <td>1</td>\n",
              "      <td>0</td>\n",
              "    </tr>\n",
              "    <tr>\n",
              "      <th>4</th>\n",
              "      <td>0</td>\n",
              "      <td>1</td>\n",
              "      <td>0</td>\n",
              "    </tr>\n",
              "    <tr>\n",
              "      <th>5</th>\n",
              "      <td>1</td>\n",
              "      <td>1</td>\n",
              "      <td>1</td>\n",
              "    </tr>\n",
              "    <tr>\n",
              "      <th>6</th>\n",
              "      <td>1</td>\n",
              "      <td>1</td>\n",
              "      <td>1</td>\n",
              "    </tr>\n",
              "    <tr>\n",
              "      <th>7</th>\n",
              "      <td>1</td>\n",
              "      <td>1</td>\n",
              "      <td>0</td>\n",
              "    </tr>\n",
              "    <tr>\n",
              "      <th>8</th>\n",
              "      <td>1</td>\n",
              "      <td>1</td>\n",
              "      <td>0</td>\n",
              "    </tr>\n",
              "    <tr>\n",
              "      <th>9</th>\n",
              "      <td>1</td>\n",
              "      <td>1</td>\n",
              "      <td>0</td>\n",
              "    </tr>\n",
              "  </tbody>\n",
              "</table>\n",
              "</div>"
            ],
            "text/plain": [
              "   clients  first_model  second_model\n",
              "0        0            0             0\n",
              "1        0            0             0\n",
              "2        0            1             0\n",
              "3        0            1             0\n",
              "4        0            1             0\n",
              "5        1            1             1\n",
              "6        1            1             1\n",
              "7        1            1             0\n",
              "8        1            1             0\n",
              "9        1            1             0"
            ]
          },
          "execution_count": 2,
          "metadata": {},
          "output_type": "execute_result"
        }
      ],
      "source": [
        "clients = [0, 0, 0, 0, 0,\n",
        "           1, 1, 1, 1, 1]\n",
        "first_model_pred = [0, 0, 1, 1, 1,\n",
        "                    1, 1, 1, 1, 1]\n",
        "second_model_pred = [0, 0, 0, 0, 0,\n",
        "                     1, 1, 0, 0, 0]\n",
        "\n",
        "\n",
        "df = pd.DataFrame({\n",
        "    'clients': clients,\n",
        "    'first_model': first_model_pred,\n",
        "    'second_model': second_model_pred\n",
        "})\n",
        "\n",
        "df"
      ]
    },
    {
      "cell_type": "markdown",
      "metadata": {
        "id": "P2W7ZvbgLkJT"
      },
      "source": [
        "We got two models with different errors."
      ]
    },
    {
      "cell_type": "code",
      "execution_count": 3,
      "metadata": {
        "id": "Xf-SPUFoMNJR"
      },
      "outputs": [],
      "source": [
        "# Let's see if the models are working correctly\n",
        "df['first_model_right'] = df['clients'] == df['first_model']\n",
        "df['second_model_right'] = df['clients'] == df['second_model']"
      ]
    },
    {
      "cell_type": "markdown",
      "metadata": {
        "id": "HI2qGCriNwPe"
      },
      "source": [
        "Let's consider class 1 as **target**, i.e. we will consider quality metrics relative to the first class.  \n",
        "\n",
        "In the situation when the model predicts class 1, we will say that the model *performed*, since it predicted the target class.   \n",
        "And in the situation when the model predicts 0 class, we will say that the model *did not work*, i.e. it *missed* the object, did not see the target class in it."
      ]
    },
    {
      "cell_type": "code",
      "execution_count": 4,
      "metadata": {
        "colab": {
          "base_uri": "https://localhost:8080/",
          "height": 142
        },
        "id": "uJf6k8iTMePL",
        "outputId": "2e574183-3ef2-4102-bc20-bfddd78789e4"
      },
      "outputs": [
        {
          "data": {
            "text/html": [
              "<div>\n",
              "<style scoped>\n",
              "    .dataframe tbody tr th:only-of-type {\n",
              "        vertical-align: middle;\n",
              "    }\n",
              "\n",
              "    .dataframe tbody tr th {\n",
              "        vertical-align: top;\n",
              "    }\n",
              "\n",
              "    .dataframe thead th {\n",
              "        text-align: right;\n",
              "    }\n",
              "</style>\n",
              "<table border=\"1\" class=\"dataframe\">\n",
              "  <thead>\n",
              "    <tr style=\"text-align: right;\">\n",
              "      <th></th>\n",
              "      <th>clients</th>\n",
              "      <th>first_model</th>\n",
              "    </tr>\n",
              "  </thead>\n",
              "  <tbody>\n",
              "    <tr>\n",
              "      <th>2</th>\n",
              "      <td>0</td>\n",
              "      <td>1</td>\n",
              "    </tr>\n",
              "    <tr>\n",
              "      <th>3</th>\n",
              "      <td>0</td>\n",
              "      <td>1</td>\n",
              "    </tr>\n",
              "    <tr>\n",
              "      <th>4</th>\n",
              "      <td>0</td>\n",
              "      <td>1</td>\n",
              "    </tr>\n",
              "  </tbody>\n",
              "</table>\n",
              "</div>"
            ],
            "text/plain": [
              "   clients  first_model\n",
              "2        0            1\n",
              "3        0            1\n",
              "4        0            1"
            ]
          },
          "execution_count": 4,
          "metadata": {},
          "output_type": "execute_result"
        }
      ],
      "source": [
        "# Let's output the errors of the first model\n",
        "df[~df['first_model_right']][['clients', 'first_model']]"
      ]
    },
    {
      "cell_type": "markdown",
      "metadata": {
        "id": "eVSXjCSwMePV"
      },
      "source": [
        "In these errors, the first model approved a loan to customers who would not repay it. For zero (non-target class), the first (target class) was predicted, so it *failed*.  \n",
        "This error is called a *false positive* or **False Positive**."
      ]
    },
    {
      "cell_type": "code",
      "execution_count": 5,
      "metadata": {
        "colab": {
          "base_uri": "https://localhost:8080/",
          "height": 142
        },
        "id": "AeKi4cjFMePX",
        "outputId": "1d29b711-4ff1-4b72-d7b6-4a0880ac7232"
      },
      "outputs": [
        {
          "data": {
            "text/html": [
              "<div>\n",
              "<style scoped>\n",
              "    .dataframe tbody tr th:only-of-type {\n",
              "        vertical-align: middle;\n",
              "    }\n",
              "\n",
              "    .dataframe tbody tr th {\n",
              "        vertical-align: top;\n",
              "    }\n",
              "\n",
              "    .dataframe thead th {\n",
              "        text-align: right;\n",
              "    }\n",
              "</style>\n",
              "<table border=\"1\" class=\"dataframe\">\n",
              "  <thead>\n",
              "    <tr style=\"text-align: right;\">\n",
              "      <th></th>\n",
              "      <th>clients</th>\n",
              "      <th>second_model</th>\n",
              "    </tr>\n",
              "  </thead>\n",
              "  <tbody>\n",
              "    <tr>\n",
              "      <th>7</th>\n",
              "      <td>1</td>\n",
              "      <td>0</td>\n",
              "    </tr>\n",
              "    <tr>\n",
              "      <th>8</th>\n",
              "      <td>1</td>\n",
              "      <td>0</td>\n",
              "    </tr>\n",
              "    <tr>\n",
              "      <th>9</th>\n",
              "      <td>1</td>\n",
              "      <td>0</td>\n",
              "    </tr>\n",
              "  </tbody>\n",
              "</table>\n",
              "</div>"
            ],
            "text/plain": [
              "   clients  second_model\n",
              "7        1             0\n",
              "8        1             0\n",
              "9        1             0"
            ]
          },
          "execution_count": 5,
          "metadata": {},
          "output_type": "execute_result"
        }
      ],
      "source": [
        "# Let's output the errors of the second model\n",
        "df[~df['second_model_right']][['clients', 'second_model']]"
      ]
    },
    {
      "cell_type": "markdown",
      "metadata": {
        "id": "XLdUkkstMePb"
      },
      "source": [
        "It's the other way around. In these errors, the second model did not approve the loan to those clients who could pay for it. The model responds to objects with the first (target class) class with a null, i.e. it *skips* the objects, does not respond to them.\n",
        "\n",
        "This error is called *false skip* or **False Negative**. The model did not give loans to people who were able to repay everything."
      ]
    },
    {
      "cell_type": "markdown",
      "metadata": {
        "id": "LnpCaZAkRhkP"
      },
      "source": [
        "In addition to errors, there are also good triggers when a model responds to class 1 with class 1:"
      ]
    },
    {
      "cell_type": "code",
      "execution_count": 6,
      "metadata": {
        "colab": {
          "base_uri": "https://localhost:8080/",
          "height": 111
        },
        "id": "y0Y-5H5MRqH0",
        "outputId": "479712bf-dc14-4e6b-c481-e6f235d64310"
      },
      "outputs": [
        {
          "data": {
            "text/html": [
              "<div>\n",
              "<style scoped>\n",
              "    .dataframe tbody tr th:only-of-type {\n",
              "        vertical-align: middle;\n",
              "    }\n",
              "\n",
              "    .dataframe tbody tr th {\n",
              "        vertical-align: top;\n",
              "    }\n",
              "\n",
              "    .dataframe thead th {\n",
              "        text-align: right;\n",
              "    }\n",
              "</style>\n",
              "<table border=\"1\" class=\"dataframe\">\n",
              "  <thead>\n",
              "    <tr style=\"text-align: right;\">\n",
              "      <th></th>\n",
              "      <th>clients</th>\n",
              "      <th>second_model</th>\n",
              "    </tr>\n",
              "  </thead>\n",
              "  <tbody>\n",
              "    <tr>\n",
              "      <th>5</th>\n",
              "      <td>1</td>\n",
              "      <td>1</td>\n",
              "    </tr>\n",
              "    <tr>\n",
              "      <th>6</th>\n",
              "      <td>1</td>\n",
              "      <td>1</td>\n",
              "    </tr>\n",
              "  </tbody>\n",
              "</table>\n",
              "</div>"
            ],
            "text/plain": [
              "   clients  second_model\n",
              "5        1             1\n",
              "6        1             1"
            ]
          },
          "execution_count": 6,
          "metadata": {},
          "output_type": "execute_result"
        }
      ],
      "source": [
        "# Let's look at situations where the model answers 1 class correctly\n",
        "df[(df['second_model_right']) & (df['clients'])][['clients', 'second_model']]"
      ]
    },
    {
      "cell_type": "markdown",
      "metadata": {
        "id": "IJQl50RfR9Cs"
      },
      "source": [
        "This correct behavior is called *true triggering* or **True Positive**. The model gives credit to the right people."
      ]
    },
    {
      "cell_type": "markdown",
      "metadata": {
        "id": "KKr4bz9MSMbH"
      },
      "source": [
        "And the second good situation, with true skips, is when the model responds to 0 class with zero class:"
      ]
    },
    {
      "cell_type": "code",
      "execution_count": 7,
      "metadata": {
        "colab": {
          "base_uri": "https://localhost:8080/",
          "height": 204
        },
        "id": "_zkR03DjSMbI",
        "outputId": "8f7c52e3-5e17-4aeb-fc83-e3638510ddca"
      },
      "outputs": [
        {
          "data": {
            "text/html": [
              "<div>\n",
              "<style scoped>\n",
              "    .dataframe tbody tr th:only-of-type {\n",
              "        vertical-align: middle;\n",
              "    }\n",
              "\n",
              "    .dataframe tbody tr th {\n",
              "        vertical-align: top;\n",
              "    }\n",
              "\n",
              "    .dataframe thead th {\n",
              "        text-align: right;\n",
              "    }\n",
              "</style>\n",
              "<table border=\"1\" class=\"dataframe\">\n",
              "  <thead>\n",
              "    <tr style=\"text-align: right;\">\n",
              "      <th></th>\n",
              "      <th>clients</th>\n",
              "      <th>second_model</th>\n",
              "    </tr>\n",
              "  </thead>\n",
              "  <tbody>\n",
              "    <tr>\n",
              "      <th>0</th>\n",
              "      <td>0</td>\n",
              "      <td>0</td>\n",
              "    </tr>\n",
              "    <tr>\n",
              "      <th>1</th>\n",
              "      <td>0</td>\n",
              "      <td>0</td>\n",
              "    </tr>\n",
              "    <tr>\n",
              "      <th>2</th>\n",
              "      <td>0</td>\n",
              "      <td>0</td>\n",
              "    </tr>\n",
              "    <tr>\n",
              "      <th>3</th>\n",
              "      <td>0</td>\n",
              "      <td>0</td>\n",
              "    </tr>\n",
              "    <tr>\n",
              "      <th>4</th>\n",
              "      <td>0</td>\n",
              "      <td>0</td>\n",
              "    </tr>\n",
              "  </tbody>\n",
              "</table>\n",
              "</div>"
            ],
            "text/plain": [
              "   clients  second_model\n",
              "0        0             0\n",
              "1        0             0\n",
              "2        0             0\n",
              "3        0             0\n",
              "4        0             0"
            ]
          },
          "execution_count": 7,
          "metadata": {},
          "output_type": "execute_result"
        }
      ],
      "source": [
        "# Let's look at the situations when the model responds correctly to 0 class\n",
        "df[(df['second_model_right']) & ~(df['clients'])][['clients', 'second_model']]"
      ]
    },
    {
      "cell_type": "markdown",
      "metadata": {
        "id": "QJOSbVuGSMbK"
      },
      "source": [
        "This correct behavior is called *true omission* or **True Negative**. The model does not give credit to bad customers."
      ]
    },
    {
      "cell_type": "markdown",
      "metadata": {
        "id": "d3usgUWRdx3X"
      },
      "source": [
        "## Confusion Matrix"
      ]
    },
    {
      "cell_type": "markdown",
      "metadata": {
        "id": "LlhY7FloRboI"
      },
      "source": [
        "We'll formalize everything into a matrix:\n",
        "\n",
        "|  <empty>   | $$y = 1$$ | $$y = 0$$ |\n",
        "--- | --- | ---\n",
        "| __$$a(x) = 1$$__  |  True Positive TP    |  False Positive  FP   |\n",
        "| __$$a(x) = 0$$__ |   False Negative FN    |   True Negative TN   |\n",
        "\n",
        "\n",
        "The matrix has the true answers on the top and the algorithm's answers on the left. When the algorithm assigns an object to class \"1\", we say that it *works*, and when it assigns it to \"0\", we say that it *misses*.\n",
        "- If the algorithm worked (predicted 1) and the object really belongs to class \"1\", we get True Positive (**True Positive, TP**) - ALL RIGHT\n",
        "- If the algorithm worked (predicted 1), but the object does not belong to class \"1\", it is a false positive (**False Positive, FP**) - ERROR.\n",
        "- If the algorithm misses an object (predicted 0) and its true class is \"1\", it is a false pass/false negative (**False Negative, FN**) - ERROR\n",
        "- If the algorithm misses an object (predicted 0) and the true class of the object is \"0\", it is a true skip (**True Negative, TN**) - ALL TRUE"
      ]
    },
    {
      "cell_type": "markdown",
      "metadata": {
        "id": "-DibMejbblb2"
      },
      "source": [
        "We can construct this error matrix for our problem for the first model, it is available in `sklearn` in the `metrics` module and is called `confusion_matrix`."
      ]
    },
    {
      "cell_type": "code",
      "execution_count": 8,
      "metadata": {
        "colab": {
          "base_uri": "https://localhost:8080/"
        },
        "id": "kHToZL4ubk1K",
        "outputId": "7ecce2af-af5a-47d9-d727-748efb45c6e4"
      },
      "outputs": [
        {
          "data": {
            "text/plain": [
              "array([[2, 3],\n",
              "       [0, 5]])"
            ]
          },
          "execution_count": 8,
          "metadata": {},
          "output_type": "execute_result"
        }
      ],
      "source": [
        "from sklearn.metrics import confusion_matrix\n",
        "\n",
        "confusion_matrix(df['clients'], df['first_model'])"
      ]
    },
    {
      "cell_type": "markdown",
      "metadata": {
        "id": "ukqfL0_1b9Fa"
      },
      "source": [
        "But it is easy to get confused here where are the true values, where are the model predictions, where is class zero and where is class one, so it is better to visualize the error matrix via heatmap."
      ]
    },
    {
      "cell_type": "code",
      "execution_count": 9,
      "metadata": {
        "colab": {
          "base_uri": "https://localhost:8080/",
          "height": 307
        },
        "id": "cpo4D77DcE4-",
        "outputId": "08d900a0-64c1-439a-9d24-4239905f1cb0"
      },
      "outputs": [
        {
          "data": {
            "image/png": "[encoded data removed]",
            "text/plain": [
              "<Figure size 640x480 with 2 Axes>"
            ]
          },
          "metadata": {},
          "output_type": "display_data"
        }
      ],
      "source": [
        "cm = confusion_matrix(df['clients'], df['first_model'])\n",
        "sns.heatmap(cm, annot=True)\n",
        "\n",
        "plt.title('confusion matrix')\n",
        "plt.xlabel('prediction')\n",
        "plt.ylabel('groud truth');"
      ]
    },
    {
      "cell_type": "markdown",
      "metadata": {
        "id": "RUSMtY5WdkVW"
      },
      "source": [
        "And now we see that we have 2 pieces of TN, 5 pieces of TP, and 3 pieces of FP errors, when the model responded to the true zero class with 1 class."
      ]
    },
    {
      "cell_type": "markdown",
      "metadata": {
        "id": "Kn6DE98TUc-V"
      },
      "source": [
        "Two good metrics are based on these TP, TN, FP, FN - Precision and Recall."
      ]
    },
    {
      "cell_type": "markdown",
      "metadata": {
        "id": "BFuWVgnmUi6k"
      },
      "source": [
        "**Precision** represents the *fraction of true positives* of the total number of positives. It shows how much confidence can be placed in the classification algorithm in the event of a trigger\n",
        "\n",
        "$$precision(a, X) = \\frac{TP}{TP+FP}.$$\n",
        "\n",
        "**Recall** counts as *the fraction of objects true of class \"1\"* that the algorithm has assigned to that class\n",
        "\n",
        "$$recall(a, X) = \\frac{TP}{TP+FN},$$\n",
        "\n",
        "here $TP+FN$ will be the whole list of objects of class \"1\".\n",
        "\n",
        "\n",
        "The metrics can vary from 0 to 1, where 0 - the model never got it right, all its predictions are wrong, and 1 - the model predicted everything perfectly."
      ]
    },
    {
      "cell_type": "markdown",
      "metadata": {
        "id": "XmsM42XTZClb"
      },
      "source": [
        "There is a very nice picture that can be used to demonstrate how the metrics for classification are calculated.  \n",
        "- The left rectangular darkened area is the area of target objects, these are our customers with 1 class\n",
        "- The right bright rectangular area is the area of irrelevant objects with a grade 0, where customers do not return loans to us\n",
        "- What is highlighted in the circle - these are the objects on which the model worked, predicted the 1st class\n",
        "- And anything not included in the circle are objects that the model missed.\n",
        "\n",
        "<img src='https://hsto.org/webt/so/oy/7k/sooy7k2lckgmsla2lgugjlisvh8.png' width=700>"
      ]
    },
    {
      "cell_type": "markdown",
      "metadata": {
        "id": "dJeqjDa9Uu6i"
      },
      "source": [
        "And now let's go through each metric individually."
      ]
    },
    {
      "cell_type": "markdown",
      "metadata": {
        "id": "2tRoCPawUzeT"
      },
      "source": [
        "## Precision"
      ]
    },
    {
      "cell_type": "markdown",
      "metadata": {
        "id": "14Ca8CUTa3aX"
      },
      "source": [
        "**Precision** is responsible for *classification purity*, calculated as true actuations divided by all actuations in general.\n",
        "\n",
        "$$precision(a, X) = \\frac{TP}{TP+FP}$$\n",
        "\n",
        "Ideally, the denominator is equal to the numerator, in which case the metric will be equal to 1. The precision metric minimizes **False Positive** errors; it is good if there are no such errors at all, then only the objects we need will be classified as the target class."
      ]
    },
    {
      "cell_type": "markdown",
      "metadata": {
        "id": "8iDU7o8zem37"
      },
      "source": [
        "Let's calculate the precision for the first class for the two models."
      ]
    },
    {
      "cell_type": "markdown",
      "metadata": {
        "id": "_Xz7_9YOeyKK"
      },
      "source": [
        "### First model"
      ]
    },
    {
      "cell_type": "markdown",
      "metadata": {
        "id": "tdESkaametwZ"
      },
      "source": [
        "First by hand using the error matrix:"
      ]
    },
    {
      "cell_type": "code",
      "execution_count": 10,
      "metadata": {
        "colab": {
          "base_uri": "https://localhost:8080/",
          "height": 359
        },
        "id": "RH5FRZHlepw4",
        "outputId": "a1af2ca9-a250-4e29-d781-8e08a6f60084"
      },
      "outputs": [
        {
          "data": {
            "text/html": [
              "<div>\n",
              "<style scoped>\n",
              "    .dataframe tbody tr th:only-of-type {\n",
              "        vertical-align: middle;\n",
              "    }\n",
              "\n",
              "    .dataframe tbody tr th {\n",
              "        vertical-align: top;\n",
              "    }\n",
              "\n",
              "    .dataframe thead th {\n",
              "        text-align: right;\n",
              "    }\n",
              "</style>\n",
              "<table border=\"1\" class=\"dataframe\">\n",
              "  <thead>\n",
              "    <tr style=\"text-align: right;\">\n",
              "      <th></th>\n",
              "      <th>clients</th>\n",
              "      <th>first_model</th>\n",
              "    </tr>\n",
              "  </thead>\n",
              "  <tbody>\n",
              "    <tr>\n",
              "      <th>0</th>\n",
              "      <td>0</td>\n",
              "      <td>0</td>\n",
              "    </tr>\n",
              "    <tr>\n",
              "      <th>1</th>\n",
              "      <td>0</td>\n",
              "      <td>0</td>\n",
              "    </tr>\n",
              "    <tr>\n",
              "      <th>2</th>\n",
              "      <td>0</td>\n",
              "      <td>1</td>\n",
              "    </tr>\n",
              "    <tr>\n",
              "      <th>3</th>\n",
              "      <td>0</td>\n",
              "      <td>1</td>\n",
              "    </tr>\n",
              "    <tr>\n",
              "      <th>4</th>\n",
              "      <td>0</td>\n",
              "      <td>1</td>\n",
              "    </tr>\n",
              "    <tr>\n",
              "      <th>5</th>\n",
              "      <td>1</td>\n",
              "      <td>1</td>\n",
              "    </tr>\n",
              "    <tr>\n",
              "      <th>6</th>\n",
              "      <td>1</td>\n",
              "      <td>1</td>\n",
              "    </tr>\n",
              "    <tr>\n",
              "      <th>7</th>\n",
              "      <td>1</td>\n",
              "      <td>1</td>\n",
              "    </tr>\n",
              "    <tr>\n",
              "      <th>8</th>\n",
              "      <td>1</td>\n",
              "      <td>1</td>\n",
              "    </tr>\n",
              "    <tr>\n",
              "      <th>9</th>\n",
              "      <td>1</td>\n",
              "      <td>1</td>\n",
              "    </tr>\n",
              "  </tbody>\n",
              "</table>\n",
              "</div>"
            ],
            "text/plain": [
              "   clients  first_model\n",
              "0        0            0\n",
              "1        0            0\n",
              "2        0            1\n",
              "3        0            1\n",
              "4        0            1\n",
              "5        1            1\n",
              "6        1            1\n",
              "7        1            1\n",
              "8        1            1\n",
              "9        1            1"
            ]
          },
          "execution_count": 10,
          "metadata": {},
          "output_type": "execute_result"
        }
      ],
      "source": [
        "df[['clients', 'first_model']]"
      ]
    },
    {
      "cell_type": "code",
      "execution_count": 11,
      "metadata": {
        "colab": {
          "base_uri": "https://localhost:8080/"
        },
        "id": "U8u_lcLHe6eo",
        "outputId": "053ad3ae-a01d-421a-f6a5-c3b7530c88a2"
      },
      "outputs": [
        {
          "data": {
            "text/plain": [
              "0.625"
            ]
          },
          "execution_count": 11,
          "metadata": {},
          "output_type": "execute_result"
        }
      ],
      "source": [
        "cm = confusion_matrix(df['clients'], df['first_model'])\n",
        "tp = cm[1][1]\n",
        "fp = cm[0][1]\n",
        "\n",
        "precision_1_model = tp / (tp + fp)\n",
        "precision_1_model"
      ]
    },
    {
      "cell_type": "markdown",
      "metadata": {
        "id": "HtIGqfXXfVaT"
      },
      "source": [
        "And now also with the `precision_score` function from `sklearn`."
      ]
    },
    {
      "cell_type": "code",
      "execution_count": 12,
      "metadata": {
        "colab": {
          "base_uri": "https://localhost:8080/"
        },
        "id": "DWyFgdQXfa3P",
        "outputId": "fb550986-f761-4b5d-c556-9d2654d8ae7e"
      },
      "outputs": [
        {
          "data": {
            "text/plain": [
              "0.625"
            ]
          },
          "execution_count": 12,
          "metadata": {},
          "output_type": "execute_result"
        }
      ],
      "source": [
        "from sklearn.metrics import precision_score\n",
        "\n",
        "precision_score(df['clients'], df['first_model'])"
      ]
    },
    {
      "cell_type": "markdown",
      "metadata": {
        "id": "HloETfJpfj-I"
      },
      "source": [
        "The metric is 0.625, we correctly classified 5 objects, and we assigned a total of 8 objects to the first class, which gave us the value of $\\frac{5}{8} = 0.625$"
      ]
    },
    {
      "cell_type": "markdown",
      "metadata": {
        "id": "UrSZpN7We0SZ"
      },
      "source": [
        "### Second model"
      ]
    },
    {
      "cell_type": "markdown",
      "metadata": {
        "id": "yKuy8hSKf5On"
      },
      "source": [
        "First by hand using the error matrix:"
      ]
    },
    {
      "cell_type": "code",
      "execution_count": 13,
      "metadata": {
        "colab": {
          "base_uri": "https://localhost:8080/",
          "height": 359
        },
        "id": "WRrAIJ_Qe19X",
        "outputId": "c29690be-f177-4ca0-ac2f-5b4038eff4fc"
      },
      "outputs": [
        {
          "data": {
            "text/html": [
              "<div>\n",
              "<style scoped>\n",
              "    .dataframe tbody tr th:only-of-type {\n",
              "        vertical-align: middle;\n",
              "    }\n",
              "\n",
              "    .dataframe tbody tr th {\n",
              "        vertical-align: top;\n",
              "    }\n",
              "\n",
              "    .dataframe thead th {\n",
              "        text-align: right;\n",
              "    }\n",
              "</style>\n",
              "<table border=\"1\" class=\"dataframe\">\n",
              "  <thead>\n",
              "    <tr style=\"text-align: right;\">\n",
              "      <th></th>\n",
              "      <th>clients</th>\n",
              "      <th>second_model</th>\n",
              "    </tr>\n",
              "  </thead>\n",
              "  <tbody>\n",
              "    <tr>\n",
              "      <th>0</th>\n",
              "      <td>0</td>\n",
              "      <td>0</td>\n",
              "    </tr>\n",
              "    <tr>\n",
              "      <th>1</th>\n",
              "      <td>0</td>\n",
              "      <td>0</td>\n",
              "    </tr>\n",
              "    <tr>\n",
              "      <th>2</th>\n",
              "      <td>0</td>\n",
              "      <td>0</td>\n",
              "    </tr>\n",
              "    <tr>\n",
              "      <th>3</th>\n",
              "      <td>0</td>\n",
              "      <td>0</td>\n",
              "    </tr>\n",
              "    <tr>\n",
              "      <th>4</th>\n",
              "      <td>0</td>\n",
              "      <td>0</td>\n",
              "    </tr>\n",
              "    <tr>\n",
              "      <th>5</th>\n",
              "      <td>1</td>\n",
              "      <td>1</td>\n",
              "    </tr>\n",
              "    <tr>\n",
              "      <th>6</th>\n",
              "      <td>1</td>\n",
              "      <td>1</td>\n",
              "    </tr>\n",
              "    <tr>\n",
              "      <th>7</th>\n",
              "      <td>1</td>\n",
              "      <td>0</td>\n",
              "    </tr>\n",
              "    <tr>\n",
              "      <th>8</th>\n",
              "      <td>1</td>\n",
              "      <td>0</td>\n",
              "    </tr>\n",
              "    <tr>\n",
              "      <th>9</th>\n",
              "      <td>1</td>\n",
              "      <td>0</td>\n",
              "    </tr>\n",
              "  </tbody>\n",
              "</table>\n",
              "</div>"
            ],
            "text/plain": [
              "   clients  second_model\n",
              "0        0             0\n",
              "1        0             0\n",
              "2        0             0\n",
              "3        0             0\n",
              "4        0             0\n",
              "5        1             1\n",
              "6        1             1\n",
              "7        1             0\n",
              "8        1             0\n",
              "9        1             0"
            ]
          },
          "execution_count": 13,
          "metadata": {},
          "output_type": "execute_result"
        }
      ],
      "source": [
        "df[['clients', 'second_model']]"
      ]
    },
    {
      "cell_type": "code",
      "execution_count": 14,
      "metadata": {
        "colab": {
          "base_uri": "https://localhost:8080/"
        },
        "id": "sAV_s-Adf5Or",
        "outputId": "c2d5fe7e-df53-483a-987b-96a874e499d2"
      },
      "outputs": [
        {
          "data": {
            "text/plain": [
              "1.0"
            ]
          },
          "execution_count": 14,
          "metadata": {},
          "output_type": "execute_result"
        }
      ],
      "source": [
        "cm = confusion_matrix(df['clients'], df['second_model'])\n",
        "tp = cm[1][1]\n",
        "fp = cm[0][1]\n",
        "\n",
        "precision_2_model = tp / (tp + fp)\n",
        "precision_2_model"
      ]
    },
    {
      "cell_type": "markdown",
      "metadata": {
        "id": "i3PejX7Ff5Os"
      },
      "source": [
        "And now also with the `precision_score` function from `sklearn`."
      ]
    },
    {
      "cell_type": "code",
      "execution_count": 15,
      "metadata": {
        "colab": {
          "base_uri": "https://localhost:8080/"
        },
        "id": "t8Uu1Sq5f5Ot",
        "outputId": "d30c81dc-185d-45fa-a0e9-5f8afb0c6600"
      },
      "outputs": [
        {
          "data": {
            "text/plain": [
              "1.0"
            ]
          },
          "execution_count": 15,
          "metadata": {},
          "output_type": "execute_result"
        }
      ],
      "source": [
        "from sklearn.metrics import precision_score\n",
        "\n",
        "precision_score(df['clients'], df['second_model'])"
      ]
    },
    {
      "cell_type": "markdown",
      "metadata": {
        "id": "NoQnj_9lf5Ou"
      },
      "source": [
        "The metric is equal to 1, we correctly classified two objects out of two that the model assigned to class 1, we get precision = $\\frac{2}{2} = 1$."
      ]
    },
    {
      "cell_type": "markdown",
      "metadata": {
        "id": "emPQu739gKAs"
      },
      "source": [
        "Now the two models don't seem as similar as they were when calculating the accuracy metric, on the precision metric the second model wins because it has no *false positives* **False Positive**, the model only gives credits to verified people, so it has a very *clean* classification performance."
      ]
    },
    {
      "cell_type": "markdown",
      "metadata": {
        "id": "aOiBltREeEVc"
      },
      "source": [
        "## Recall"
      ]
    },
    {
      "cell_type": "markdown",
      "metadata": {
        "id": "m_Vhpt9agbwx"
      },
      "source": [
        "Let's see how things are going with another metric."
      ]
    },
    {
      "cell_type": "markdown",
      "metadata": {
        "id": "1znK87Z_gj7U"
      },
      "source": [
        "\n",
        "**Recall** is responsible for the *number of classifications*, calculated as true actuations divided by the objects of the target class.\n",
        "\n",
        "\n",
        "$$recall(a, X) = \\frac{TP}{TP+FN}$$\n",
        "\n",
        "\n",
        "Ideally, when the denominator is equal to the numerator, in this case the metric will be equal to 1. The recall metric minimizes **False Negative** errors, it is good when there are no such errors, then we will find all possible objects of the target class and won't miss anyone."
      ]
    },
    {
      "cell_type": "markdown",
      "metadata": {
        "id": "diysBoREvsbe"
      },
      "source": [
        "Let's calculate the recall for the first class for the two models."
      ]
    },
    {
      "cell_type": "markdown",
      "metadata": {
        "id": "VTQN1EdSvscj"
      },
      "source": [
        "### First model"
      ]
    },
    {
      "cell_type": "markdown",
      "metadata": {
        "id": "ZOkuAKI7vscm"
      },
      "source": [
        "First by hand using the error matrix:"
      ]
    },
    {
      "cell_type": "code",
      "execution_count": 16,
      "metadata": {
        "colab": {
          "base_uri": "https://localhost:8080/",
          "height": 359
        },
        "id": "C-BcbV_avscq",
        "outputId": "389677c6-c71d-4775-c442-0a0133ab0585"
      },
      "outputs": [
        {
          "data": {
            "text/html": [
              "<div>\n",
              "<style scoped>\n",
              "    .dataframe tbody tr th:only-of-type {\n",
              "        vertical-align: middle;\n",
              "    }\n",
              "\n",
              "    .dataframe tbody tr th {\n",
              "        vertical-align: top;\n",
              "    }\n",
              "\n",
              "    .dataframe thead th {\n",
              "        text-align: right;\n",
              "    }\n",
              "</style>\n",
              "<table border=\"1\" class=\"dataframe\">\n",
              "  <thead>\n",
              "    <tr style=\"text-align: right;\">\n",
              "      <th></th>\n",
              "      <th>clients</th>\n",
              "      <th>first_model</th>\n",
              "    </tr>\n",
              "  </thead>\n",
              "  <tbody>\n",
              "    <tr>\n",
              "      <th>0</th>\n",
              "      <td>0</td>\n",
              "      <td>0</td>\n",
              "    </tr>\n",
              "    <tr>\n",
              "      <th>1</th>\n",
              "      <td>0</td>\n",
              "      <td>0</td>\n",
              "    </tr>\n",
              "    <tr>\n",
              "      <th>2</th>\n",
              "      <td>0</td>\n",
              "      <td>1</td>\n",
              "    </tr>\n",
              "    <tr>\n",
              "      <th>3</th>\n",
              "      <td>0</td>\n",
              "      <td>1</td>\n",
              "    </tr>\n",
              "    <tr>\n",
              "      <th>4</th>\n",
              "      <td>0</td>\n",
              "      <td>1</td>\n",
              "    </tr>\n",
              "    <tr>\n",
              "      <th>5</th>\n",
              "      <td>1</td>\n",
              "      <td>1</td>\n",
              "    </tr>\n",
              "    <tr>\n",
              "      <th>6</th>\n",
              "      <td>1</td>\n",
              "      <td>1</td>\n",
              "    </tr>\n",
              "    <tr>\n",
              "      <th>7</th>\n",
              "      <td>1</td>\n",
              "      <td>1</td>\n",
              "    </tr>\n",
              "    <tr>\n",
              "      <th>8</th>\n",
              "      <td>1</td>\n",
              "      <td>1</td>\n",
              "    </tr>\n",
              "    <tr>\n",
              "      <th>9</th>\n",
              "      <td>1</td>\n",
              "      <td>1</td>\n",
              "    </tr>\n",
              "  </tbody>\n",
              "</table>\n",
              "</div>"
            ],
            "text/plain": [
              "   clients  first_model\n",
              "0        0            0\n",
              "1        0            0\n",
              "2        0            1\n",
              "3        0            1\n",
              "4        0            1\n",
              "5        1            1\n",
              "6        1            1\n",
              "7        1            1\n",
              "8        1            1\n",
              "9        1            1"
            ]
          },
          "execution_count": 16,
          "metadata": {},
          "output_type": "execute_result"
        }
      ],
      "source": [
        "df[['clients', 'first_model']]"
      ]
    },
    {
      "cell_type": "code",
      "execution_count": 17,
      "metadata": {
        "colab": {
          "base_uri": "https://localhost:8080/"
        },
        "id": "9H0f0eUavscv",
        "outputId": "ef43a117-e013-4d94-c236-30e02eaa7454"
      },
      "outputs": [
        {
          "data": {
            "text/plain": [
              "1.0"
            ]
          },
          "execution_count": 17,
          "metadata": {},
          "output_type": "execute_result"
        }
      ],
      "source": [
        "cm = confusion_matrix(df['clients'], df['first_model'])\n",
        "tp = cm[1][1]\n",
        "fn = cm[1][0]\n",
        "\n",
        "recall_1_model = tp / (tp + fn)\n",
        "recall_1_model"
      ]
    },
    {
      "cell_type": "markdown",
      "metadata": {
        "id": "0VhDHM97vscy"
      },
      "source": [
        "And now also with the `recall_score` function from `sklearn`."
      ]
    },
    {
      "cell_type": "code",
      "execution_count": 18,
      "metadata": {
        "colab": {
          "base_uri": "https://localhost:8080/"
        },
        "id": "cQ89q_ugvscz",
        "outputId": "b14b770c-8898-4703-883f-7434c468ed51"
      },
      "outputs": [
        {
          "data": {
            "text/plain": [
              "1.0"
            ]
          },
          "execution_count": 18,
          "metadata": {},
          "output_type": "execute_result"
        }
      ],
      "source": [
        "from sklearn.metrics import recall_score\n",
        "\n",
        "recall_score(df['clients'], df['first_model'])"
      ]
    },
    {
      "cell_type": "markdown",
      "metadata": {
        "id": "WRAw2noovsc2"
      },
      "source": [
        "The metric is equal to 1, we correctly assigned five objects out of five to class 1, that is, we found all the objects of the target class that we could, as a result we got a value equal to $\\frac{5}{5} = 1$."
      ]
    },
    {
      "cell_type": "markdown",
      "metadata": {
        "id": "Jc3fMtr5vsc4"
      },
      "source": [
        "### Second model"
      ]
    },
    {
      "cell_type": "markdown",
      "metadata": {
        "id": "R7t-C3Ddvsc6"
      },
      "source": [
        "First by hand using the error matrix:"
      ]
    },
    {
      "cell_type": "code",
      "execution_count": 19,
      "metadata": {
        "colab": {
          "base_uri": "https://localhost:8080/",
          "height": 359
        },
        "id": "xwQC-ElAvsc7",
        "outputId": "3708d2ba-434e-43c4-c4ab-1a1ac7a2fd42"
      },
      "outputs": [
        {
          "data": {
            "text/html": [
              "<div>\n",
              "<style scoped>\n",
              "    .dataframe tbody tr th:only-of-type {\n",
              "        vertical-align: middle;\n",
              "    }\n",
              "\n",
              "    .dataframe tbody tr th {\n",
              "        vertical-align: top;\n",
              "    }\n",
              "\n",
              "    .dataframe thead th {\n",
              "        text-align: right;\n",
              "    }\n",
              "</style>\n",
              "<table border=\"1\" class=\"dataframe\">\n",
              "  <thead>\n",
              "    <tr style=\"text-align: right;\">\n",
              "      <th></th>\n",
              "      <th>clients</th>\n",
              "      <th>second_model</th>\n",
              "    </tr>\n",
              "  </thead>\n",
              "  <tbody>\n",
              "    <tr>\n",
              "      <th>0</th>\n",
              "      <td>0</td>\n",
              "      <td>0</td>\n",
              "    </tr>\n",
              "    <tr>\n",
              "      <th>1</th>\n",
              "      <td>0</td>\n",
              "      <td>0</td>\n",
              "    </tr>\n",
              "    <tr>\n",
              "      <th>2</th>\n",
              "      <td>0</td>\n",
              "      <td>0</td>\n",
              "    </tr>\n",
              "    <tr>\n",
              "      <th>3</th>\n",
              "      <td>0</td>\n",
              "      <td>0</td>\n",
              "    </tr>\n",
              "    <tr>\n",
              "      <th>4</th>\n",
              "      <td>0</td>\n",
              "      <td>0</td>\n",
              "    </tr>\n",
              "    <tr>\n",
              "      <th>5</th>\n",
              "      <td>1</td>\n",
              "      <td>1</td>\n",
              "    </tr>\n",
              "    <tr>\n",
              "      <th>6</th>\n",
              "      <td>1</td>\n",
              "      <td>1</td>\n",
              "    </tr>\n",
              "    <tr>\n",
              "      <th>7</th>\n",
              "      <td>1</td>\n",
              "      <td>0</td>\n",
              "    </tr>\n",
              "    <tr>\n",
              "      <th>8</th>\n",
              "      <td>1</td>\n",
              "      <td>0</td>\n",
              "    </tr>\n",
              "    <tr>\n",
              "      <th>9</th>\n",
              "      <td>1</td>\n",
              "      <td>0</td>\n",
              "    </tr>\n",
              "  </tbody>\n",
              "</table>\n",
              "</div>"
            ],
            "text/plain": [
              "   clients  second_model\n",
              "0        0             0\n",
              "1        0             0\n",
              "2        0             0\n",
              "3        0             0\n",
              "4        0             0\n",
              "5        1             1\n",
              "6        1             1\n",
              "7        1             0\n",
              "8        1             0\n",
              "9        1             0"
            ]
          },
          "execution_count": 19,
          "metadata": {},
          "output_type": "execute_result"
        }
      ],
      "source": [
        "df[['clients', 'second_model']]"
      ]
    },
    {
      "cell_type": "code",
      "execution_count": 20,
      "metadata": {
        "colab": {
          "base_uri": "https://localhost:8080/"
        },
        "id": "e2B2Mmecvsc-",
        "outputId": "fb21dcee-b47f-40d7-d220-2698eb62a241"
      },
      "outputs": [
        {
          "data": {
            "text/plain": [
              "0.4"
            ]
          },
          "execution_count": 20,
          "metadata": {},
          "output_type": "execute_result"
        }
      ],
      "source": [
        "cm = confusion_matrix(df['clients'], df['second_model'])\n",
        "tp = cm[1][1]\n",
        "fn = cm[1][0]\n",
        "\n",
        "recall_2_model = tp / (tp + fn)\n",
        "recall_2_model"
      ]
    },
    {
      "cell_type": "markdown",
      "metadata": {
        "id": "-ac2ZzfTvsc_"
      },
      "source": [
        "And now also with the `recall_score` function from `sklearn`."
      ]
    },
    {
      "cell_type": "code",
      "execution_count": 21,
      "metadata": {
        "colab": {
          "base_uri": "https://localhost:8080/"
        },
        "id": "Cm9DG4CsvsdA",
        "outputId": "3255389d-77bf-45bc-8650-3fda11c35d19"
      },
      "outputs": [
        {
          "data": {
            "text/plain": [
              "0.4"
            ]
          },
          "execution_count": 21,
          "metadata": {},
          "output_type": "execute_result"
        }
      ],
      "source": [
        "from sklearn.metrics import recall_score\n",
        "\n",
        "recall_score(df['clients'], df['second_model'])"
      ]
    },
    {
      "cell_type": "markdown",
      "metadata": {
        "id": "iOYuV2xtvsdC"
      },
      "source": [
        "The metric is equal to 0.4, we correctly assigned only two objects to the target class out of five possible ones, i.e. we made 3 false negative errors and got the recall metric equal to $\\frac{2}{5} = 0.4$."
      ]
    },
    {
      "cell_type": "markdown",
      "metadata": {
        "id": "uvC9XVESvsdD"
      },
      "source": [
        "Once again the models don't seem to be the same, their recall metrics are very different, now the first model looks more favorable as it has no *false omissions* **False Negative**, the model gave loans to all verified people and left no one without money."
      ]
    },
    {
      "cell_type": "markdown",
      "metadata": {
        "id": "Fz3VJtYBw3Gq"
      },
      "source": [
        "## Model Comparison"
      ]
    },
    {
      "cell_type": "markdown",
      "metadata": {
        "id": "nsmj0Cquw7gA"
      },
      "source": [
        "Let's compare our two models on class 1 prediction at 10 sites:\n",
        "\n",
        "|  <empty>   | first model | second model |\n",
        "--- | --- | ---\n",
        "| __precision__  |  0.625    |  1   |\n",
        "| __recall__ |   1    |   0.4   |\n",
        "\n",
        "One has a good recall and the other has a good precision, so now we can look at the bank's strategy and decide which is more important:\n",
        "- If the bank wants to make **more money**, then it is better to lend to *all* people who are able to pay it back, i.e. we are looking for a model with maximum *recall* - and this is the first model.\n",
        "- If the bank wants to **lose less**, then it's better to lend *only* to reliable people, which means looking for the model with the best *precision* - which is the second model.\n"
      ]
    },
    {
      "cell_type": "markdown",
      "metadata": {
        "id": "IoHK1woXcHkk"
      },
      "source": [
        "## Summary"
      ]
    },
    {
      "cell_type": "markdown",
      "metadata": {
        "id": "R4KYbNBiKOIo"
      },
      "source": [
        "<table>\n",
        "\n",
        "<tr>\n",
        "<td>\n",
        "Metric\n",
        "</td>\n",
        "\n",
        "<td>\n",
        "Formula\n",
        "</td>\n",
        "\n",
        "<td>\n",
        "Value ranges\n",
        "</td>\n",
        "\n",
        "<td>\n",
        "Ideal value\n",
        "</td>\n",
        "</tr>\n",
        "\n",
        "<tr>\n",
        "<td>\n",
        "Precision\n",
        "</td>\n",
        "\n",
        "<td>\n",
        "$$precision = \\frac{TP}{TP + FP}$$\n",
        "\n",
        "</td>\n",
        "\n",
        "<td>\n",
        "[0, 1]\n",
        "</td>\n",
        "\n",
        "<td>\n",
        "1\n",
        "</td>\n",
        "</tr>\n",
        "<td>\n",
        "Recall\n",
        "</td>\n",
        "\n",
        "<td>\n",
        "$$recall = \\frac{TP}{TP + FN}$$\n",
        "\n",
        "</td>\n",
        "\n",
        "<td>\n",
        "[0, 1]\n",
        "</td>\n",
        "\n",
        "<td>\n",
        "1\n",
        "</td>\n",
        "</tr>\n",
        "\n",
        "<table>"
      ]
    }
  ],
  "metadata": {
    "colab": {
      "provenance": []
    },
    "kernelspec": {
      "display_name": "Python 3",
      "name": "python3"
    },
    "language_info": {
      "codemirror_mode": {
        "name": "ipython",
        "version": 3
      },
      "file_extension": ".py",
      "mimetype": "text/x-python",
      "name": "python",
      "nbconvert_exporter": "python",
      "pygments_lexer": "ipython3",
      "version": "3.11.5"
    }
  },
  "nbformat": 4,
  "nbformat_minor": 0
}
