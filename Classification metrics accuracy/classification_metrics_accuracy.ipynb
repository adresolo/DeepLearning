{
  "cells": [
    {
      "cell_type": "code",
      "execution_count": 1,
      "metadata": {
        "id": "oseC_nj55T5A"
      },
      "outputs": [],
      "source": [
        "import pandas as pd\n",
        "import numpy as np\n",
        "import matplotlib.pyplot as plt"
      ]
    },
    {
      "cell_type": "markdown",
      "metadata": {
        "id": "C-mDBnzI52x2"
      },
      "source": [
        "Metrics in machine learning are needed to evaluate the quality of a model's performance in order to understand how well the model has memorized the patterns from the training sample.  \n",
        "\n",
        "Today we will consider metrics for the classification task - prediction of a nominal (qualitative) target variable. For such a task, we want our models to predict the correct object class label as often as possible.\n",
        "\n",
        "<img src='https://static.javatpoint.com/tutorial/machine-learning/images/classification-algorithm-in-machine-learning.png' width=600>\n",
        "\n",
        "\n",
        "To calculate different classification metrics, let's generate data using `sklearn`."
      ]
    },
    {
      "cell_type": "markdown",
      "metadata": {
        "id": "F1Sdqov32DLc"
      },
      "source": [
        "## Data generation"
      ]
    },
    {
      "cell_type": "markdown",
      "metadata": {
        "id": "rWoxvFl-2DLu"
      },
      "source": [
        "Let's work with a set of data for the classification task. Let's get the data consisting of two informative features (`n_features=2, n_informative=2`) in the amount of 20 pieces (`n_samples=20`) to predict one target variable, which will consist of two classes (`n_classes=2`), through the `make_classification` method."
      ]
    },
    {
      "cell_type": "code",
      "execution_count": 2,
      "metadata": {
        "colab": {
          "base_uri": "https://localhost:8080/"
        },
        "id": "vTo48syV2DLx",
        "outputId": "1949455d-4fdd-4108-d817-dc8481d7c443"
      },
      "outputs": [
        {
          "data": {
            "text/plain": [
              "(array([[ 0.24306743, -0.52734094],\n",
              "        [ 0.96417816, -0.37583852],\n",
              "        [-1.08486058,  0.00847624],\n",
              "        [-0.90653761,  3.3851625 ],\n",
              "        [ 1.33279979,  1.25629151],\n",
              "        [ 0.72576002,  0.53047004],\n",
              "        [-0.77546276, -0.9788468 ],\n",
              "        [ 1.03317819, -0.88253973],\n",
              "        [ 1.39939732,  3.2047161 ],\n",
              "        [-0.07784592, -0.67730036],\n",
              "        [ 1.2610877 , -1.3003902 ],\n",
              "        [-2.44391337, -0.56099989],\n",
              "        [-1.11064538,  0.7571574 ],\n",
              "        [-0.90474756,  0.59452911],\n",
              "        [-2.51019507, -0.30991259],\n",
              "        [ 0.9153728 ,  0.08016006],\n",
              "        [ 1.28700068, -1.90827144],\n",
              "        [-1.94625628, -0.53314708],\n",
              "        [-0.91390999,  2.05571391],\n",
              "        [-1.33222706, -0.85982898]]),\n",
              " array([1, 0, 1, 1, 1, 1, 0, 0, 1, 1, 0, 0, 1, 1, 0, 0, 0, 0, 1, 0]))"
            ]
          },
          "execution_count": 2,
          "metadata": {},
          "output_type": "execute_result"
        }
      ],
      "source": [
        "from sklearn import datasets\n",
        "\n",
        "\n",
        "X, y = datasets.make_classification(\n",
        "    n_samples=20,\n",
        "    n_features=2,\n",
        "    n_informative=2,\n",
        "    n_redundant=0,\n",
        "    n_classes=2,\n",
        "    random_state=2\n",
        ")\n",
        "\n",
        "X, y"
      ]
    },
    {
      "cell_type": "markdown",
      "metadata": {
        "id": "Zm1ctphG3yDb"
      },
      "source": [
        "We got 20 objects from two features, we can visualize them and do coloring depending on the class label:"
      ]
    },
    {
      "cell_type": "code",
      "execution_count": 3,
      "metadata": {
        "colab": {
          "base_uri": "https://localhost:8080/",
          "height": 388
        },
        "id": "usSqXwkW38ja",
        "outputId": "72b378d8-8285-44a0-88b0-fee2df61b4d3"
      },
      "outputs": [
        {
          "data": {
            "image/png": "[encoded data removed]",
            "text/plain": [
              "<Figure size 700x600 with 1 Axes>"
            ]
          },
          "metadata": {},
          "output_type": "display_data"
        }
      ],
      "source": [
        "plt.figure(figsize=(7, 6))\n",
        "\n",
        "class_0 = X[y == 0]\n",
        "class_1 = X[y == 1]\n",
        "plt.scatter(class_0[:, 0], class_0[:, 1], label='0 класс')\n",
        "plt.scatter(class_1[:, 0], class_1[:, 1], label='1 класс')\n",
        "\n",
        "plt.legend()\n",
        "plt.xlabel('X')\n",
        "plt.ylabel('y');"
      ]
    },
    {
      "cell_type": "markdown",
      "metadata": {
        "id": "IjDfPqP9vmJl"
      },
      "source": [
        "## Model training"
      ]
    },
    {
      "cell_type": "markdown",
      "metadata": {
        "id": "0YzNmTU377Y_"
      },
      "source": [
        "Take the linear model for classification logistic regression from `sklearn` and train on the sample."
      ]
    },
    {
      "cell_type": "code",
      "execution_count": 4,
      "metadata": {
        "colab": {
          "base_uri": "https://localhost:8080/"
        },
        "id": "vykLsbb60Cl0",
        "outputId": "34dc960b-f486-419f-ebf5-657823e9e8b9"
      },
      "outputs": [
        {
          "data": {
            "text/html": [
              "<style>#sk-container-id-1 {color: black;}#sk-container-id-1 pre{padding: 0;}#sk-container-id-1 div.sk-toggleable {background-color: white;}#sk-container-id-1 label.sk-toggleable__label {cursor: pointer;display: block;width: 100%;margin-bottom: 0;padding: 0.3em;box-sizing: border-box;text-align: center;}#sk-container-id-1 label.sk-toggleable__label-arrow:before {content: \"▸\";float: left;margin-right: 0.25em;color: #696969;}#sk-container-id-1 label.sk-toggleable__label-arrow:hover:before {color: black;}#sk-container-id-1 div.sk-estimator:hover label.sk-toggleable__label-arrow:before {color: black;}#sk-container-id-1 div.sk-toggleable__content {max-height: 0;max-width: 0;overflow: hidden;text-align: left;background-color: #f0f8ff;}#sk-container-id-1 div.sk-toggleable__content pre {margin: 0.2em;color: black;border-radius: 0.25em;background-color: #f0f8ff;}#sk-container-id-1 input.sk-toggleable__control:checked~div.sk-toggleable__content {max-height: 200px;max-width: 100%;overflow: auto;}#sk-container-id-1 input.sk-toggleable__control:checked~label.sk-toggleable__label-arrow:before {content: \"▾\";}#sk-container-id-1 div.sk-estimator input.sk-toggleable__control:checked~label.sk-toggleable__label {background-color: #d4ebff;}#sk-container-id-1 div.sk-label input.sk-toggleable__control:checked~label.sk-toggleable__label {background-color: #d4ebff;}#sk-container-id-1 input.sk-hidden--visually {border: 0;clip: rect(1px 1px 1px 1px);clip: rect(1px, 1px, 1px, 1px);height: 1px;margin: -1px;overflow: hidden;padding: 0;position: absolute;width: 1px;}#sk-container-id-1 div.sk-estimator {font-family: monospace;background-color: #f0f8ff;border: 1px dotted black;border-radius: 0.25em;box-sizing: border-box;margin-bottom: 0.5em;}#sk-container-id-1 div.sk-estimator:hover {background-color: #d4ebff;}#sk-container-id-1 div.sk-parallel-item::after {content: \"\";width: 100%;border-bottom: 1px solid gray;flex-grow: 1;}#sk-container-id-1 div.sk-label:hover label.sk-toggleable__label {background-color: #d4ebff;}#sk-container-id-1 div.sk-serial::before {content: \"\";position: absolute;border-left: 1px solid gray;box-sizing: border-box;top: 0;bottom: 0;left: 50%;z-index: 0;}#sk-container-id-1 div.sk-serial {display: flex;flex-direction: column;align-items: center;background-color: white;padding-right: 0.2em;padding-left: 0.2em;position: relative;}#sk-container-id-1 div.sk-item {position: relative;z-index: 1;}#sk-container-id-1 div.sk-parallel {display: flex;align-items: stretch;justify-content: center;background-color: white;position: relative;}#sk-container-id-1 div.sk-item::before, #sk-container-id-1 div.sk-parallel-item::before {content: \"\";position: absolute;border-left: 1px solid gray;box-sizing: border-box;top: 0;bottom: 0;left: 50%;z-index: -1;}#sk-container-id-1 div.sk-parallel-item {display: flex;flex-direction: column;z-index: 1;position: relative;background-color: white;}#sk-container-id-1 div.sk-parallel-item:first-child::after {align-self: flex-end;width: 50%;}#sk-container-id-1 div.sk-parallel-item:last-child::after {align-self: flex-start;width: 50%;}#sk-container-id-1 div.sk-parallel-item:only-child::after {width: 0;}#sk-container-id-1 div.sk-dashed-wrapped {border: 1px dashed gray;margin: 0 0.4em 0.5em 0.4em;box-sizing: border-box;padding-bottom: 0.4em;background-color: white;}#sk-container-id-1 div.sk-label label {font-family: monospace;font-weight: bold;display: inline-block;line-height: 1.2em;}#sk-container-id-1 div.sk-label-container {text-align: center;}#sk-container-id-1 div.sk-container {/* jupyter's `normalize.less` sets `[hidden] { display: none; }` but bootstrap.min.css set `[hidden] { display: none !important; }` so we also need the `!important` here to be able to override the default hidden behavior on the sphinx rendered scikit-learn.org. See: https://github.com/scikit-learn/scikit-learn/issues/21755 */display: inline-block !important;position: relative;}#sk-container-id-1 div.sk-text-repr-fallback {display: none;}</style><div id=\"sk-container-id-1\" class=\"sk-top-container\"><div class=\"sk-text-repr-fallback\"><pre>LogisticRegression()</pre><b>In a Jupyter environment, please rerun this cell to show the HTML representation or trust the notebook. <br />On GitHub, the HTML representation is unable to render, please try loading this page with nbviewer.org.</b></div><div class=\"sk-container\" hidden><div class=\"sk-item\"><div class=\"sk-estimator sk-toggleable\"><input class=\"sk-toggleable__control sk-hidden--visually\" id=\"sk-estimator-id-1\" type=\"checkbox\" checked><label for=\"sk-estimator-id-1\" class=\"sk-toggleable__label sk-toggleable__label-arrow\">LogisticRegression</label><div class=\"sk-toggleable__content\"><pre>LogisticRegression()</pre></div></div></div></div></div>"
            ],
            "text/plain": [
              "LogisticRegression()"
            ]
          },
          "execution_count": 4,
          "metadata": {},
          "output_type": "execute_result"
        }
      ],
      "source": [
        "from sklearn.linear_model import LogisticRegression\n",
        "\n",
        "logreg = LogisticRegression()\n",
        "logreg.fit(X, y)"
      ]
    },
    {
      "cell_type": "markdown",
      "metadata": {
        "id": "nsslHuuU8DCv"
      },
      "source": [
        "Now let's make predictions on the whole sample to see how well the model has learned to predict the target class label."
      ]
    },
    {
      "cell_type": "code",
      "execution_count": 5,
      "metadata": {
        "id": "Rm0Tg0Ch49QR"
      },
      "outputs": [],
      "source": [
        "pred = logreg.predict(X)"
      ]
    },
    {
      "cell_type": "markdown",
      "metadata": {
        "id": "dqhHoeahgeWc"
      },
      "source": [
        "## Metrics"
      ]
    },
    {
      "cell_type": "markdown",
      "metadata": {
        "id": "pfQH8RDc8K79"
      },
      "source": [
        "Let's display the true values of the target variable and the classes predicted by the model side by side."
      ]
    },
    {
      "cell_type": "code",
      "execution_count": 6,
      "metadata": {
        "colab": {
          "base_uri": "https://localhost:8080/",
          "height": 669
        },
        "id": "XsG7aYds-XsT",
        "outputId": "65f3d304-ffd2-432c-96a9-9c83b3982a23"
      },
      "outputs": [
        {
          "data": {
            "text/html": [
              "<div>\n",
              "<style scoped>\n",
              "    .dataframe tbody tr th:only-of-type {\n",
              "        vertical-align: middle;\n",
              "    }\n",
              "\n",
              "    .dataframe tbody tr th {\n",
              "        vertical-align: top;\n",
              "    }\n",
              "\n",
              "    .dataframe thead th {\n",
              "        text-align: right;\n",
              "    }\n",
              "</style>\n",
              "<table border=\"1\" class=\"dataframe\">\n",
              "  <thead>\n",
              "    <tr style=\"text-align: right;\">\n",
              "      <th></th>\n",
              "      <th>ground truth</th>\n",
              "      <th>prediction</th>\n",
              "    </tr>\n",
              "  </thead>\n",
              "  <tbody>\n",
              "    <tr>\n",
              "      <th>0</th>\n",
              "      <td>1</td>\n",
              "      <td>0</td>\n",
              "    </tr>\n",
              "    <tr>\n",
              "      <th>1</th>\n",
              "      <td>0</td>\n",
              "      <td>0</td>\n",
              "    </tr>\n",
              "    <tr>\n",
              "      <th>2</th>\n",
              "      <td>1</td>\n",
              "      <td>0</td>\n",
              "    </tr>\n",
              "    <tr>\n",
              "      <th>3</th>\n",
              "      <td>1</td>\n",
              "      <td>1</td>\n",
              "    </tr>\n",
              "    <tr>\n",
              "      <th>4</th>\n",
              "      <td>1</td>\n",
              "      <td>1</td>\n",
              "    </tr>\n",
              "    <tr>\n",
              "      <th>5</th>\n",
              "      <td>1</td>\n",
              "      <td>1</td>\n",
              "    </tr>\n",
              "    <tr>\n",
              "      <th>6</th>\n",
              "      <td>0</td>\n",
              "      <td>0</td>\n",
              "    </tr>\n",
              "    <tr>\n",
              "      <th>7</th>\n",
              "      <td>0</td>\n",
              "      <td>0</td>\n",
              "    </tr>\n",
              "    <tr>\n",
              "      <th>8</th>\n",
              "      <td>1</td>\n",
              "      <td>1</td>\n",
              "    </tr>\n",
              "    <tr>\n",
              "      <th>9</th>\n",
              "      <td>1</td>\n",
              "      <td>0</td>\n",
              "    </tr>\n",
              "    <tr>\n",
              "      <th>10</th>\n",
              "      <td>0</td>\n",
              "      <td>0</td>\n",
              "    </tr>\n",
              "    <tr>\n",
              "      <th>11</th>\n",
              "      <td>0</td>\n",
              "      <td>0</td>\n",
              "    </tr>\n",
              "    <tr>\n",
              "      <th>12</th>\n",
              "      <td>1</td>\n",
              "      <td>1</td>\n",
              "    </tr>\n",
              "    <tr>\n",
              "      <th>13</th>\n",
              "      <td>1</td>\n",
              "      <td>1</td>\n",
              "    </tr>\n",
              "    <tr>\n",
              "      <th>14</th>\n",
              "      <td>0</td>\n",
              "      <td>0</td>\n",
              "    </tr>\n",
              "    <tr>\n",
              "      <th>15</th>\n",
              "      <td>0</td>\n",
              "      <td>1</td>\n",
              "    </tr>\n",
              "    <tr>\n",
              "      <th>16</th>\n",
              "      <td>0</td>\n",
              "      <td>0</td>\n",
              "    </tr>\n",
              "    <tr>\n",
              "      <th>17</th>\n",
              "      <td>0</td>\n",
              "      <td>0</td>\n",
              "    </tr>\n",
              "    <tr>\n",
              "      <th>18</th>\n",
              "      <td>1</td>\n",
              "      <td>1</td>\n",
              "    </tr>\n",
              "    <tr>\n",
              "      <th>19</th>\n",
              "      <td>0</td>\n",
              "      <td>0</td>\n",
              "    </tr>\n",
              "  </tbody>\n",
              "</table>\n",
              "</div>"
            ],
            "text/plain": [
              "    ground truth  prediction\n",
              "0              1           0\n",
              "1              0           0\n",
              "2              1           0\n",
              "3              1           1\n",
              "4              1           1\n",
              "5              1           1\n",
              "6              0           0\n",
              "7              0           0\n",
              "8              1           1\n",
              "9              1           0\n",
              "10             0           0\n",
              "11             0           0\n",
              "12             1           1\n",
              "13             1           1\n",
              "14             0           0\n",
              "15             0           1\n",
              "16             0           0\n",
              "17             0           0\n",
              "18             1           1\n",
              "19             0           0"
            ]
          },
          "execution_count": 6,
          "metadata": {},
          "output_type": "execute_result"
        }
      ],
      "source": [
        "pred_df = pd.DataFrame({\n",
        "    'ground truth': y,\n",
        "    'prediction': pred\n",
        "})\n",
        "\n",
        "pred_df"
      ]
    },
    {
      "cell_type": "markdown",
      "metadata": {
        "id": "XbAHyoemGR6y"
      },
      "source": [
        "In the first line should have predicted 1 class, but the model predicted 0, but the next object has no problem, the target label is 0 class, predicted also zero class, we can further look at all objects and compare the truth with the predicted class."
      ]
    },
    {
      "cell_type": "markdown",
      "metadata": {
        "id": "qMv3Dc4vWwxM"
      },
      "source": [
        "## Accuracy"
      ]
    },
    {
      "cell_type": "markdown",
      "metadata": {
        "id": "eCkSzLcgWvGI"
      },
      "source": [
        "If we do this, we will know how many times the model answered correctly - this is our first Accuracy metric.\n",
        "\n",
        "\n",
        "This is the most obvious and simple way to calculate the quality of predictions:\n",
        "\n",
        "$$accuracy(a,x) = \\frac{1}{l} \\sum^{l}_{i=1}[a(x_{i})=y_{i}].$$\n",
        "\n",
        "\n",
        "The proportion of correct answers can vary from 0 to 1, where 0 is the model never got it right, all its predictions are wrong, and 1 is the model predicted everything perfectly."
      ]
    },
    {
      "cell_type": "markdown",
      "metadata": {
        "id": "m9_L4Gr9SIuI"
      },
      "source": [
        "Let's make a new column in the dataframe that will indicate whether our model guessed the true class, False if the prediction is wrong and True if it is correct:"
      ]
    },
    {
      "cell_type": "code",
      "execution_count": 7,
      "metadata": {
        "colab": {
          "base_uri": "https://localhost:8080/",
          "height": 669
        },
        "id": "y1JFnAKeR5tt",
        "outputId": "ab9ecd28-5fac-41d1-d8fb-0b96d7dea9d1"
      },
      "outputs": [
        {
          "data": {
            "text/html": [
              "<div>\n",
              "<style scoped>\n",
              "    .dataframe tbody tr th:only-of-type {\n",
              "        vertical-align: middle;\n",
              "    }\n",
              "\n",
              "    .dataframe tbody tr th {\n",
              "        vertical-align: top;\n",
              "    }\n",
              "\n",
              "    .dataframe thead th {\n",
              "        text-align: right;\n",
              "    }\n",
              "</style>\n",
              "<table border=\"1\" class=\"dataframe\">\n",
              "  <thead>\n",
              "    <tr style=\"text-align: right;\">\n",
              "      <th></th>\n",
              "      <th>ground truth</th>\n",
              "      <th>prediction</th>\n",
              "      <th>right</th>\n",
              "    </tr>\n",
              "  </thead>\n",
              "  <tbody>\n",
              "    <tr>\n",
              "      <th>0</th>\n",
              "      <td>1</td>\n",
              "      <td>0</td>\n",
              "      <td>False</td>\n",
              "    </tr>\n",
              "    <tr>\n",
              "      <th>1</th>\n",
              "      <td>0</td>\n",
              "      <td>0</td>\n",
              "      <td>True</td>\n",
              "    </tr>\n",
              "    <tr>\n",
              "      <th>2</th>\n",
              "      <td>1</td>\n",
              "      <td>0</td>\n",
              "      <td>False</td>\n",
              "    </tr>\n",
              "    <tr>\n",
              "      <th>3</th>\n",
              "      <td>1</td>\n",
              "      <td>1</td>\n",
              "      <td>True</td>\n",
              "    </tr>\n",
              "    <tr>\n",
              "      <th>4</th>\n",
              "      <td>1</td>\n",
              "      <td>1</td>\n",
              "      <td>True</td>\n",
              "    </tr>\n",
              "    <tr>\n",
              "      <th>5</th>\n",
              "      <td>1</td>\n",
              "      <td>1</td>\n",
              "      <td>True</td>\n",
              "    </tr>\n",
              "    <tr>\n",
              "      <th>6</th>\n",
              "      <td>0</td>\n",
              "      <td>0</td>\n",
              "      <td>True</td>\n",
              "    </tr>\n",
              "    <tr>\n",
              "      <th>7</th>\n",
              "      <td>0</td>\n",
              "      <td>0</td>\n",
              "      <td>True</td>\n",
              "    </tr>\n",
              "    <tr>\n",
              "      <th>8</th>\n",
              "      <td>1</td>\n",
              "      <td>1</td>\n",
              "      <td>True</td>\n",
              "    </tr>\n",
              "    <tr>\n",
              "      <th>9</th>\n",
              "      <td>1</td>\n",
              "      <td>0</td>\n",
              "      <td>False</td>\n",
              "    </tr>\n",
              "    <tr>\n",
              "      <th>10</th>\n",
              "      <td>0</td>\n",
              "      <td>0</td>\n",
              "      <td>True</td>\n",
              "    </tr>\n",
              "    <tr>\n",
              "      <th>11</th>\n",
              "      <td>0</td>\n",
              "      <td>0</td>\n",
              "      <td>True</td>\n",
              "    </tr>\n",
              "    <tr>\n",
              "      <th>12</th>\n",
              "      <td>1</td>\n",
              "      <td>1</td>\n",
              "      <td>True</td>\n",
              "    </tr>\n",
              "    <tr>\n",
              "      <th>13</th>\n",
              "      <td>1</td>\n",
              "      <td>1</td>\n",
              "      <td>True</td>\n",
              "    </tr>\n",
              "    <tr>\n",
              "      <th>14</th>\n",
              "      <td>0</td>\n",
              "      <td>0</td>\n",
              "      <td>True</td>\n",
              "    </tr>\n",
              "    <tr>\n",
              "      <th>15</th>\n",
              "      <td>0</td>\n",
              "      <td>1</td>\n",
              "      <td>False</td>\n",
              "    </tr>\n",
              "    <tr>\n",
              "      <th>16</th>\n",
              "      <td>0</td>\n",
              "      <td>0</td>\n",
              "      <td>True</td>\n",
              "    </tr>\n",
              "    <tr>\n",
              "      <th>17</th>\n",
              "      <td>0</td>\n",
              "      <td>0</td>\n",
              "      <td>True</td>\n",
              "    </tr>\n",
              "    <tr>\n",
              "      <th>18</th>\n",
              "      <td>1</td>\n",
              "      <td>1</td>\n",
              "      <td>True</td>\n",
              "    </tr>\n",
              "    <tr>\n",
              "      <th>19</th>\n",
              "      <td>0</td>\n",
              "      <td>0</td>\n",
              "      <td>True</td>\n",
              "    </tr>\n",
              "  </tbody>\n",
              "</table>\n",
              "</div>"
            ],
            "text/plain": [
              "    ground truth  prediction  right\n",
              "0              1           0  False\n",
              "1              0           0   True\n",
              "2              1           0  False\n",
              "3              1           1   True\n",
              "4              1           1   True\n",
              "5              1           1   True\n",
              "6              0           0   True\n",
              "7              0           0   True\n",
              "8              1           1   True\n",
              "9              1           0  False\n",
              "10             0           0   True\n",
              "11             0           0   True\n",
              "12             1           1   True\n",
              "13             1           1   True\n",
              "14             0           0   True\n",
              "15             0           1  False\n",
              "16             0           0   True\n",
              "17             0           0   True\n",
              "18             1           1   True\n",
              "19             0           0   True"
            ]
          },
          "execution_count": 7,
          "metadata": {},
          "output_type": "execute_result"
        }
      ],
      "source": [
        "pred_df['right'] = pred_df['ground truth'] == pred_df['prediction']\n",
        "pred_df"
      ]
    },
    {
      "cell_type": "markdown",
      "metadata": {
        "id": "abzZc-ZOc8sQ"
      },
      "source": [
        "Let's find the objects on which the model made a mistake:"
      ]
    },
    {
      "cell_type": "code",
      "execution_count": 8,
      "metadata": {
        "id": "pQXkw-MQc000"
      },
      "outputs": [],
      "source": [
        "wrong_objects_0_class = X[~(pred_df['right']) & (pred_df['ground truth'] == 0)]\n",
        "wrong_objects_1_class = X[~(pred_df['right']) & (pred_df['ground truth'] == 1)]"
      ]
    },
    {
      "cell_type": "markdown",
      "metadata": {
        "id": "nfyvGLiSeGSE"
      },
      "source": [
        "And we visualize by marking in green the class 1 objects on which the model erroneously made class zero predictions and in red the class 0 objects that the model erroneously assigned to class 1."
      ]
    },
    {
      "cell_type": "code",
      "execution_count": 9,
      "metadata": {
        "colab": {
          "base_uri": "https://localhost:8080/",
          "height": 388
        },
        "id": "hTTst9iNcwtZ",
        "outputId": "b217c49a-03dc-4d62-a938-7a2a119c83bd"
      },
      "outputs": [
        {
          "data": {
            "text/plain": [
              "Text(0, 0.5, 'y')"
            ]
          },
          "execution_count": 9,
          "metadata": {},
          "output_type": "execute_result"
        },
        {
          "data": {
            "image/png": "[encoded data removed]",
            "text/plain": [
              "<Figure size 700x600 with 1 Axes>"
            ]
          },
          "metadata": {},
          "output_type": "display_data"
        }
      ],
      "source": [
        "plt.figure(figsize=(7, 6))\n",
        "\n",
        "# visualization of class data\n",
        "class_0 = X[y == 0]\n",
        "class_1 = X[y == 1]\n",
        "plt.scatter(class_0[:, 0], class_0[:, 1], label='class 0')\n",
        "plt.scatter(class_1[:, 0], class_1[:, 1], label='class 1')\n",
        "\n",
        "# visualization of errors by class\n",
        "plt.scatter(wrong_objects_0_class[:, 0], wrong_objects_0_class[:, 1], c='r', label='Erroneously predicted 1', s=100)\n",
        "plt.scatter(wrong_objects_1_class[:, 0], wrong_objects_1_class[:, 1], c='g', label='Erroneously predicted 0', s=100)\n",
        "\n",
        "plt.legend()\n",
        "plt.xlabel('X')\n",
        "plt.ylabel('y')"
      ]
    },
    {
      "cell_type": "markdown",
      "metadata": {
        "id": "_qXFVSNTStrr"
      },
      "source": [
        "There were 4 errors.   \n",
        "Let's count how many times the model made a correct prediction:"
      ]
    },
    {
      "cell_type": "code",
      "execution_count": 10,
      "metadata": {
        "colab": {
          "base_uri": "https://localhost:8080/"
        },
        "id": "p9PMW2LPSxju",
        "outputId": "9e3e21f9-63f0-4f57-e6a6-5ef8bd3827c8"
      },
      "outputs": [
        {
          "data": {
            "text/plain": [
              "16"
            ]
          },
          "execution_count": 10,
          "metadata": {},
          "output_type": "execute_result"
        }
      ],
      "source": [
        "pred_df[pred_df['right'] == True].shape[0]"
      ]
    },
    {
      "cell_type": "markdown",
      "metadata": {
        "id": "c2UbExdpSUFy"
      },
      "source": [
        "Then we can calculate the proportion of correct answers (the number of True values divided by the number of objects):"
      ]
    },
    {
      "cell_type": "code",
      "execution_count": 11,
      "metadata": {
        "colab": {
          "base_uri": "https://localhost:8080/"
        },
        "id": "w6TILbHmSi1q",
        "outputId": "d128a7b2-f43b-4d94-83a6-6b1b987f54bf"
      },
      "outputs": [
        {
          "data": {
            "text/plain": [
              "0.8"
            ]
          },
          "execution_count": 11,
          "metadata": {},
          "output_type": "execute_result"
        }
      ],
      "source": [
        "pred_df['right'].sum() / pred_df.shape[0]"
      ]
    },
    {
      "cell_type": "markdown",
      "metadata": {
        "id": "-mfqm0F8I-T1"
      },
      "source": [
        "Or we can use the `sklearn` implementation:"
      ]
    },
    {
      "cell_type": "code",
      "execution_count": 12,
      "metadata": {
        "colab": {
          "base_uri": "https://localhost:8080/"
        },
        "id": "vRPmIgkvJDIh",
        "outputId": "eee551ba-4061-44a5-ea92-f3cf88c30e5b"
      },
      "outputs": [
        {
          "data": {
            "text/plain": [
              "0.8"
            ]
          },
          "execution_count": 12,
          "metadata": {},
          "output_type": "execute_result"
        }
      ],
      "source": [
        "from sklearn.metrics import accuracy_score\n",
        "\n",
        "accuracy_score(pred_df['ground truth'], pred_df['prediction'])"
      ]
    },
    {
      "cell_type": "markdown",
      "metadata": {
        "id": "oJMvriHpaf2Y"
      },
      "source": [
        "We got 0.8 or 80% - the proportion of correct predictions relative to all predictions."
      ]
    },
    {
      "cell_type": "markdown",
      "metadata": {
        "id": "1wyckUKOasiO"
      },
      "source": [
        "Metric accuracy is good, simple, but it has a couple of problems."
      ]
    },
    {
      "cell_type": "markdown",
      "metadata": {
        "id": "g_NorA2VWnWx"
      },
      "source": [
        "### Class imbalance"
      ]
    },
    {
      "cell_type": "markdown",
      "metadata": {
        "id": "1JrXT6U-Vbwy"
      },
      "source": [
        "Let's imagine that in our sample there are a lot of objects of the zero class and nothing of the first class, moreover, this happens very often, an example is the task of predicting fraudulent transactions, or it is also called fraud detection: there are a lot of ordinary transactions and very few transactions with malicious intent."
      ]
    },
    {
      "cell_type": "markdown",
      "metadata": {
        "id": "OIe4tAD4WLiT"
      },
      "source": [
        "Let us generate such a sample where there is a class imbalance, class 0 objects are 9 times more than class 1 objects (`weights=(0.9, 0.1)`).  \n",
        "For ease of understanding, we will assume that class 0 is normal transactions in the bank, and class 1 is suspicious fraudulent transactions."
      ]
    },
    {
      "cell_type": "code",
      "execution_count": 13,
      "metadata": {
        "colab": {
          "base_uri": "https://localhost:8080/"
        },
        "id": "7Eu61ZbRV5DV",
        "outputId": "ae843815-887f-4cb4-beb2-c3de040dbe48"
      },
      "outputs": [
        {
          "data": {
            "text/plain": [
              "(array([[ 0.66930255, -0.35556485],\n",
              "        [ 0.96417816, -0.37583852],\n",
              "        [-1.1177634 , -0.85116212],\n",
              "        [-0.26257856, -1.50684503],\n",
              "        [ 1.27004352, -2.01184296],\n",
              "        [ 0.72576002,  0.53047004],\n",
              "        [-0.77546276, -0.9788468 ],\n",
              "        [ 1.03317819, -0.88253973],\n",
              "        [ 0.7545933 ,  1.11410377],\n",
              "        [ 0.37973272,  0.79063286],\n",
              "        [ 1.2610877 , -1.3003902 ],\n",
              "        [-2.44391337, -0.56099989],\n",
              "        [-0.66010918, -1.0843706 ],\n",
              "        [-0.90474756,  0.59452911],\n",
              "        [-2.51019507, -0.30991259],\n",
              "        [ 0.9153728 ,  0.08016006],\n",
              "        [ 1.28700068, -1.90827144],\n",
              "        [-1.94625628, -0.53314708],\n",
              "        [-0.85711456, -1.16420714],\n",
              "        [-1.33222706, -0.85982898]]),\n",
              " array([0, 0, 0, 0, 0, 1, 0, 0, 0, 0, 0, 0, 0, 1, 0, 0, 0, 0, 0, 0]))"
            ]
          },
          "execution_count": 13,
          "metadata": {},
          "output_type": "execute_result"
        }
      ],
      "source": [
        "from sklearn import datasets\n",
        "\n",
        "\n",
        "X_disbalance, y_disbalance = datasets.make_classification(\n",
        "    n_samples=20,\n",
        "    n_features=2,\n",
        "    n_informative=2,\n",
        "    n_redundant=0,\n",
        "    n_classes=2,\n",
        "    random_state=2,\n",
        "    weights=(0.9, 0.1)\n",
        ")\n",
        "\n",
        "X_disbalance, y_disbalance"
      ]
    },
    {
      "cell_type": "markdown",
      "metadata": {
        "id": "BIWF5yD2V5Df"
      },
      "source": [
        "We get 20 objects, where 18 are zero class objects (normal transaction) and only 2 first class objects (fraudulent transaction), we visualize:"
      ]
    },
    {
      "cell_type": "code",
      "execution_count": 14,
      "metadata": {
        "colab": {
          "base_uri": "https://localhost:8080/",
          "height": 388
        },
        "id": "j11oMsWUV5Dg",
        "outputId": "5646525c-8180-4e63-fd0c-7b33b05c7201"
      },
      "outputs": [
        {
          "data": {
            "image/png": "[encoded data removed]",
            "text/plain": [
              "<Figure size 700x600 with 1 Axes>"
            ]
          },
          "metadata": {},
          "output_type": "display_data"
        }
      ],
      "source": [
        "plt.figure(figsize=(7, 6))\n",
        "\n",
        "class_0 = X_disbalance[y_disbalance == 0]\n",
        "class_1 = X_disbalance[y_disbalance == 1]\n",
        "plt.scatter(class_0[:, 0], class_0[:, 1], label='not frod')\n",
        "plt.scatter(class_1[:, 0], class_1[:, 1], label='frod')\n",
        "\n",
        "plt.legend()\n",
        "plt.xlabel('X')\n",
        "plt.ylabel('y');"
      ]
    },
    {
      "cell_type": "markdown",
      "metadata": {
        "id": "ut0nH88uW6Dw"
      },
      "source": [
        "If we take a constant model (`a(x) = 0`) that will always respond 0 class to any object it sees, we get a decent accuracy metric:"
      ]
    },
    {
      "cell_type": "code",
      "execution_count": 15,
      "metadata": {
        "colab": {
          "base_uri": "https://localhost:8080/"
        },
        "id": "by0A-6-mXLgR",
        "outputId": "c0f02cbe-dfa8-4656-b72c-bfae3c5cf55d"
      },
      "outputs": [
        {
          "data": {
            "text/plain": [
              "[0, 0, 0, 0, 0, 0, 0, 0, 0, 0, 0, 0, 0, 0, 0, 0, 0, 0, 0, 0]"
            ]
          },
          "execution_count": 15,
          "metadata": {},
          "output_type": "execute_result"
        }
      ],
      "source": [
        "pred = [0 for i in range(20)]\n",
        "pred"
      ]
    },
    {
      "cell_type": "code",
      "execution_count": 16,
      "metadata": {
        "colab": {
          "base_uri": "https://localhost:8080/",
          "height": 669
        },
        "id": "Hn6J1c9rXYD2",
        "outputId": "5c04e51f-cfd5-42d4-a1a8-a12f3f826699"
      },
      "outputs": [
        {
          "data": {
            "text/html": [
              "<div>\n",
              "<style scoped>\n",
              "    .dataframe tbody tr th:only-of-type {\n",
              "        vertical-align: middle;\n",
              "    }\n",
              "\n",
              "    .dataframe tbody tr th {\n",
              "        vertical-align: top;\n",
              "    }\n",
              "\n",
              "    .dataframe thead th {\n",
              "        text-align: right;\n",
              "    }\n",
              "</style>\n",
              "<table border=\"1\" class=\"dataframe\">\n",
              "  <thead>\n",
              "    <tr style=\"text-align: right;\">\n",
              "      <th></th>\n",
              "      <th>ground truth</th>\n",
              "      <th>prediction</th>\n",
              "    </tr>\n",
              "  </thead>\n",
              "  <tbody>\n",
              "    <tr>\n",
              "      <th>0</th>\n",
              "      <td>0</td>\n",
              "      <td>0</td>\n",
              "    </tr>\n",
              "    <tr>\n",
              "      <th>1</th>\n",
              "      <td>0</td>\n",
              "      <td>0</td>\n",
              "    </tr>\n",
              "    <tr>\n",
              "      <th>2</th>\n",
              "      <td>0</td>\n",
              "      <td>0</td>\n",
              "    </tr>\n",
              "    <tr>\n",
              "      <th>3</th>\n",
              "      <td>0</td>\n",
              "      <td>0</td>\n",
              "    </tr>\n",
              "    <tr>\n",
              "      <th>4</th>\n",
              "      <td>0</td>\n",
              "      <td>0</td>\n",
              "    </tr>\n",
              "    <tr>\n",
              "      <th>5</th>\n",
              "      <td>1</td>\n",
              "      <td>0</td>\n",
              "    </tr>\n",
              "    <tr>\n",
              "      <th>6</th>\n",
              "      <td>0</td>\n",
              "      <td>0</td>\n",
              "    </tr>\n",
              "    <tr>\n",
              "      <th>7</th>\n",
              "      <td>0</td>\n",
              "      <td>0</td>\n",
              "    </tr>\n",
              "    <tr>\n",
              "      <th>8</th>\n",
              "      <td>0</td>\n",
              "      <td>0</td>\n",
              "    </tr>\n",
              "    <tr>\n",
              "      <th>9</th>\n",
              "      <td>0</td>\n",
              "      <td>0</td>\n",
              "    </tr>\n",
              "    <tr>\n",
              "      <th>10</th>\n",
              "      <td>0</td>\n",
              "      <td>0</td>\n",
              "    </tr>\n",
              "    <tr>\n",
              "      <th>11</th>\n",
              "      <td>0</td>\n",
              "      <td>0</td>\n",
              "    </tr>\n",
              "    <tr>\n",
              "      <th>12</th>\n",
              "      <td>0</td>\n",
              "      <td>0</td>\n",
              "    </tr>\n",
              "    <tr>\n",
              "      <th>13</th>\n",
              "      <td>1</td>\n",
              "      <td>0</td>\n",
              "    </tr>\n",
              "    <tr>\n",
              "      <th>14</th>\n",
              "      <td>0</td>\n",
              "      <td>0</td>\n",
              "    </tr>\n",
              "    <tr>\n",
              "      <th>15</th>\n",
              "      <td>0</td>\n",
              "      <td>0</td>\n",
              "    </tr>\n",
              "    <tr>\n",
              "      <th>16</th>\n",
              "      <td>0</td>\n",
              "      <td>0</td>\n",
              "    </tr>\n",
              "    <tr>\n",
              "      <th>17</th>\n",
              "      <td>0</td>\n",
              "      <td>0</td>\n",
              "    </tr>\n",
              "    <tr>\n",
              "      <th>18</th>\n",
              "      <td>0</td>\n",
              "      <td>0</td>\n",
              "    </tr>\n",
              "    <tr>\n",
              "      <th>19</th>\n",
              "      <td>0</td>\n",
              "      <td>0</td>\n",
              "    </tr>\n",
              "  </tbody>\n",
              "</table>\n",
              "</div>"
            ],
            "text/plain": [
              "    ground truth  prediction\n",
              "0              0           0\n",
              "1              0           0\n",
              "2              0           0\n",
              "3              0           0\n",
              "4              0           0\n",
              "5              1           0\n",
              "6              0           0\n",
              "7              0           0\n",
              "8              0           0\n",
              "9              0           0\n",
              "10             0           0\n",
              "11             0           0\n",
              "12             0           0\n",
              "13             1           0\n",
              "14             0           0\n",
              "15             0           0\n",
              "16             0           0\n",
              "17             0           0\n",
              "18             0           0\n",
              "19             0           0"
            ]
          },
          "execution_count": 16,
          "metadata": {},
          "output_type": "execute_result"
        }
      ],
      "source": [
        "pred_df_disbalance = pd.DataFrame({\n",
        "    'ground truth': y_disbalance,\n",
        "    'prediction': pred\n",
        "})\n",
        "\n",
        "pred_df_disbalance"
      ]
    },
    {
      "cell_type": "markdown",
      "metadata": {
        "id": "XDy2RdGpXp_x"
      },
      "source": [
        "Let's make a new column in the dataframe that will indicate whether our model guessed the true class, False if the prediction is wrong and True if it is correct:"
      ]
    },
    {
      "cell_type": "code",
      "execution_count": 17,
      "metadata": {
        "colab": {
          "base_uri": "https://localhost:8080/",
          "height": 669
        },
        "id": "C5yt5YBYXqAG",
        "outputId": "1506a332-d9fe-4286-8fb4-a5109d114e15"
      },
      "outputs": [
        {
          "data": {
            "text/html": [
              "<div>\n",
              "<style scoped>\n",
              "    .dataframe tbody tr th:only-of-type {\n",
              "        vertical-align: middle;\n",
              "    }\n",
              "\n",
              "    .dataframe tbody tr th {\n",
              "        vertical-align: top;\n",
              "    }\n",
              "\n",
              "    .dataframe thead th {\n",
              "        text-align: right;\n",
              "    }\n",
              "</style>\n",
              "<table border=\"1\" class=\"dataframe\">\n",
              "  <thead>\n",
              "    <tr style=\"text-align: right;\">\n",
              "      <th></th>\n",
              "      <th>ground truth</th>\n",
              "      <th>prediction</th>\n",
              "      <th>right</th>\n",
              "    </tr>\n",
              "  </thead>\n",
              "  <tbody>\n",
              "    <tr>\n",
              "      <th>0</th>\n",
              "      <td>0</td>\n",
              "      <td>0</td>\n",
              "      <td>True</td>\n",
              "    </tr>\n",
              "    <tr>\n",
              "      <th>1</th>\n",
              "      <td>0</td>\n",
              "      <td>0</td>\n",
              "      <td>True</td>\n",
              "    </tr>\n",
              "    <tr>\n",
              "      <th>2</th>\n",
              "      <td>0</td>\n",
              "      <td>0</td>\n",
              "      <td>True</td>\n",
              "    </tr>\n",
              "    <tr>\n",
              "      <th>3</th>\n",
              "      <td>0</td>\n",
              "      <td>0</td>\n",
              "      <td>True</td>\n",
              "    </tr>\n",
              "    <tr>\n",
              "      <th>4</th>\n",
              "      <td>0</td>\n",
              "      <td>0</td>\n",
              "      <td>True</td>\n",
              "    </tr>\n",
              "    <tr>\n",
              "      <th>5</th>\n",
              "      <td>1</td>\n",
              "      <td>0</td>\n",
              "      <td>False</td>\n",
              "    </tr>\n",
              "    <tr>\n",
              "      <th>6</th>\n",
              "      <td>0</td>\n",
              "      <td>0</td>\n",
              "      <td>True</td>\n",
              "    </tr>\n",
              "    <tr>\n",
              "      <th>7</th>\n",
              "      <td>0</td>\n",
              "      <td>0</td>\n",
              "      <td>True</td>\n",
              "    </tr>\n",
              "    <tr>\n",
              "      <th>8</th>\n",
              "      <td>0</td>\n",
              "      <td>0</td>\n",
              "      <td>True</td>\n",
              "    </tr>\n",
              "    <tr>\n",
              "      <th>9</th>\n",
              "      <td>0</td>\n",
              "      <td>0</td>\n",
              "      <td>True</td>\n",
              "    </tr>\n",
              "    <tr>\n",
              "      <th>10</th>\n",
              "      <td>0</td>\n",
              "      <td>0</td>\n",
              "      <td>True</td>\n",
              "    </tr>\n",
              "    <tr>\n",
              "      <th>11</th>\n",
              "      <td>0</td>\n",
              "      <td>0</td>\n",
              "      <td>True</td>\n",
              "    </tr>\n",
              "    <tr>\n",
              "      <th>12</th>\n",
              "      <td>0</td>\n",
              "      <td>0</td>\n",
              "      <td>True</td>\n",
              "    </tr>\n",
              "    <tr>\n",
              "      <th>13</th>\n",
              "      <td>1</td>\n",
              "      <td>0</td>\n",
              "      <td>False</td>\n",
              "    </tr>\n",
              "    <tr>\n",
              "      <th>14</th>\n",
              "      <td>0</td>\n",
              "      <td>0</td>\n",
              "      <td>True</td>\n",
              "    </tr>\n",
              "    <tr>\n",
              "      <th>15</th>\n",
              "      <td>0</td>\n",
              "      <td>0</td>\n",
              "      <td>True</td>\n",
              "    </tr>\n",
              "    <tr>\n",
              "      <th>16</th>\n",
              "      <td>0</td>\n",
              "      <td>0</td>\n",
              "      <td>True</td>\n",
              "    </tr>\n",
              "    <tr>\n",
              "      <th>17</th>\n",
              "      <td>0</td>\n",
              "      <td>0</td>\n",
              "      <td>True</td>\n",
              "    </tr>\n",
              "    <tr>\n",
              "      <th>18</th>\n",
              "      <td>0</td>\n",
              "      <td>0</td>\n",
              "      <td>True</td>\n",
              "    </tr>\n",
              "    <tr>\n",
              "      <th>19</th>\n",
              "      <td>0</td>\n",
              "      <td>0</td>\n",
              "      <td>True</td>\n",
              "    </tr>\n",
              "  </tbody>\n",
              "</table>\n",
              "</div>"
            ],
            "text/plain": [
              "    ground truth  prediction  right\n",
              "0              0           0   True\n",
              "1              0           0   True\n",
              "2              0           0   True\n",
              "3              0           0   True\n",
              "4              0           0   True\n",
              "5              1           0  False\n",
              "6              0           0   True\n",
              "7              0           0   True\n",
              "8              0           0   True\n",
              "9              0           0   True\n",
              "10             0           0   True\n",
              "11             0           0   True\n",
              "12             0           0   True\n",
              "13             1           0  False\n",
              "14             0           0   True\n",
              "15             0           0   True\n",
              "16             0           0   True\n",
              "17             0           0   True\n",
              "18             0           0   True\n",
              "19             0           0   True"
            ]
          },
          "execution_count": 17,
          "metadata": {},
          "output_type": "execute_result"
        }
      ],
      "source": [
        "pred_df_disbalance['right'] = pred_df_disbalance['ground truth'] == pred_df_disbalance['prediction']\n",
        "pred_df_disbalance"
      ]
    },
    {
      "cell_type": "markdown",
      "metadata": {
        "id": "uRAaK0NPXqAI"
      },
      "source": [
        "Then we can calculate the proportion of correct answers (the number of True values divided by the number of objects):"
      ]
    },
    {
      "cell_type": "code",
      "execution_count": 18,
      "metadata": {
        "colab": {
          "base_uri": "https://localhost:8080/"
        },
        "id": "vc35JtgGXqAI",
        "outputId": "7bd80448-557d-4fd4-89fd-9f59158e8e02"
      },
      "outputs": [
        {
          "data": {
            "text/plain": [
              "0.9"
            ]
          },
          "execution_count": 18,
          "metadata": {},
          "output_type": "execute_result"
        }
      ],
      "source": [
        "pred_df_disbalance['right'].sum() / pred_df_disbalance.shape[0]"
      ]
    },
    {
      "cell_type": "markdown",
      "metadata": {
        "id": "q-S97R8ZXz_F"
      },
      "source": [
        "We get a very high proportion of correct answers, which tends to 1, but in fact, the model is useless, the algorithm always answers with zero class, the model will never answer with the first class. So, although the accuracy metric is high, but we cannot talk about a quality model here."
      ]
    },
    {
      "cell_type": "markdown",
      "metadata": {
        "id": "w6NuNMzfew48"
      },
      "source": [
        "Let's find the objects on which the model made a mistake:"
      ]
    },
    {
      "cell_type": "code",
      "execution_count": 19,
      "metadata": {
        "id": "cnZK08dFew4-"
      },
      "outputs": [],
      "source": [
        "wrong_objects_0_class = X_disbalance[~(pred_df_disbalance['right']) & (pred_df_disbalance['ground truth'] == 0)]\n",
        "wrong_objects_1_class = X_disbalance[~(pred_df_disbalance['right']) & (pred_df_disbalance['ground truth'] == 1)]"
      ]
    },
    {
      "cell_type": "markdown",
      "metadata": {
        "id": "XWW1Pyxvew5B"
      },
      "source": [
        "And we visualize by marking in green - objects with a fraudulent transaction that our constant model mistakenly assigned to the class of normal non-fraudulent transaction."
      ]
    },
    {
      "cell_type": "code",
      "execution_count": 20,
      "metadata": {
        "colab": {
          "base_uri": "https://localhost:8080/",
          "height": 388
        },
        "id": "QYqGiIz6ew5C",
        "outputId": "007d54f3-f141-418f-8d18-165b189a5244"
      },
      "outputs": [
        {
          "data": {
            "text/plain": [
              "Text(0, 0.5, 'y')"
            ]
          },
          "execution_count": 20,
          "metadata": {},
          "output_type": "execute_result"
        },
        {
          "data": {
            "image/png": "[encoded data removed]",
            "text/plain": [
              "<Figure size 700x600 with 1 Axes>"
            ]
          },
          "metadata": {},
          "output_type": "display_data"
        }
      ],
      "source": [
        "plt.figure(figsize=(7, 6))\n",
        "\n",
        "# visualization of class data\n",
        "class_0 = X_disbalance[y_disbalance == 0]\n",
        "class_1 = X_disbalance[y_disbalance == 1]\n",
        "plt.scatter(class_0[:, 0], class_0[:, 1], label='not frod')\n",
        "plt.scatter(class_1[:, 0], class_1[:, 1], label='frod')\n",
        "\n",
        "# visualization of errors by class\n",
        "plt.scatter(wrong_objects_0_class[:, 0], wrong_objects_0_class[:, 1], c='r', label='Misdirected frod', s=100)\n",
        "plt.scatter(wrong_objects_1_class[:, 0], wrong_objects_1_class[:, 1], c='g', label='Misdirected not frod', s=100)\n",
        "\n",
        "plt.legend()\n",
        "plt.xlabel('X')\n",
        "plt.ylabel('y')"
      ]
    },
    {
      "cell_type": "markdown",
      "metadata": {
        "id": "azI7ghrAew5E"
      },
      "source": [
        "There were 2 errors, we never found any fraudulent transaction, and accordingly we didn't even help the bank."
      ]
    },
    {
      "cell_type": "markdown",
      "metadata": {
        "id": "7QtK8gfXalla"
      },
      "source": [
        "### Mistakes have different prices"
      ]
    },
    {
      "cell_type": "markdown",
      "metadata": {
        "id": "s3G_IJcFQw_u"
      },
      "source": [
        "Now let's talk about another problem of accuracy metrics. We continue to familiarize ourselves with the tasks of banks, we have trained a model of credit scoring, with the help of which the bank makes a decision on granting a loan to a person.  \n",
        "The model predicts to whom the loan should be granted (a good citizen and will pay correctly), and to whom it should not be granted (a person constantly misses payments on the loan)."
      ]
    },
    {
      "cell_type": "markdown",
      "metadata": {
        "id": "cXZoDY1FRkv6"
      },
      "source": [
        "We have two models, let's test their work on 10 clients.   \n",
        "\n",
        "0 will mark clients who will not repay the loan, and 1 - who will repay.\n",
        "Predictions of the models are the same, 0 - the model predicts the non-repayment of the loan, so we do not give the loan, and 1 - the client will repay the loan, so we can be confident in him and give him the money."
      ]
    },
    {
      "cell_type": "code",
      "execution_count": 21,
      "metadata": {
        "colab": {
          "base_uri": "https://localhost:8080/",
          "height": 359
        },
        "id": "uFkcuTl1R417",
        "outputId": "22052ef0-3762-4201-c866-185b50c6290f"
      },
      "outputs": [
        {
          "data": {
            "text/html": [
              "<div>\n",
              "<style scoped>\n",
              "    .dataframe tbody tr th:only-of-type {\n",
              "        vertical-align: middle;\n",
              "    }\n",
              "\n",
              "    .dataframe tbody tr th {\n",
              "        vertical-align: top;\n",
              "    }\n",
              "\n",
              "    .dataframe thead th {\n",
              "        text-align: right;\n",
              "    }\n",
              "</style>\n",
              "<table border=\"1\" class=\"dataframe\">\n",
              "  <thead>\n",
              "    <tr style=\"text-align: right;\">\n",
              "      <th></th>\n",
              "      <th>clients</th>\n",
              "      <th>first_model</th>\n",
              "      <th>second_model</th>\n",
              "    </tr>\n",
              "  </thead>\n",
              "  <tbody>\n",
              "    <tr>\n",
              "      <th>0</th>\n",
              "      <td>0</td>\n",
              "      <td>0</td>\n",
              "      <td>0</td>\n",
              "    </tr>\n",
              "    <tr>\n",
              "      <th>1</th>\n",
              "      <td>0</td>\n",
              "      <td>0</td>\n",
              "      <td>0</td>\n",
              "    </tr>\n",
              "    <tr>\n",
              "      <th>2</th>\n",
              "      <td>0</td>\n",
              "      <td>1</td>\n",
              "      <td>0</td>\n",
              "    </tr>\n",
              "    <tr>\n",
              "      <th>3</th>\n",
              "      <td>0</td>\n",
              "      <td>1</td>\n",
              "      <td>0</td>\n",
              "    </tr>\n",
              "    <tr>\n",
              "      <th>4</th>\n",
              "      <td>0</td>\n",
              "      <td>1</td>\n",
              "      <td>0</td>\n",
              "    </tr>\n",
              "    <tr>\n",
              "      <th>5</th>\n",
              "      <td>1</td>\n",
              "      <td>1</td>\n",
              "      <td>1</td>\n",
              "    </tr>\n",
              "    <tr>\n",
              "      <th>6</th>\n",
              "      <td>1</td>\n",
              "      <td>1</td>\n",
              "      <td>1</td>\n",
              "    </tr>\n",
              "    <tr>\n",
              "      <th>7</th>\n",
              "      <td>1</td>\n",
              "      <td>1</td>\n",
              "      <td>0</td>\n",
              "    </tr>\n",
              "    <tr>\n",
              "      <th>8</th>\n",
              "      <td>1</td>\n",
              "      <td>1</td>\n",
              "      <td>0</td>\n",
              "    </tr>\n",
              "    <tr>\n",
              "      <th>9</th>\n",
              "      <td>1</td>\n",
              "      <td>1</td>\n",
              "      <td>0</td>\n",
              "    </tr>\n",
              "  </tbody>\n",
              "</table>\n",
              "</div>"
            ],
            "text/plain": [
              "   clients  first_model  second_model\n",
              "0        0            0             0\n",
              "1        0            0             0\n",
              "2        0            1             0\n",
              "3        0            1             0\n",
              "4        0            1             0\n",
              "5        1            1             1\n",
              "6        1            1             1\n",
              "7        1            1             0\n",
              "8        1            1             0\n",
              "9        1            1             0"
            ]
          },
          "execution_count": 21,
          "metadata": {},
          "output_type": "execute_result"
        }
      ],
      "source": [
        "clients = [0, 0, 0, 0, 0,\n",
        "           1, 1, 1, 1, 1]\n",
        "first_model_pred = [0, 0, 1, 1, 1,\n",
        "                    1, 1, 1, 1, 1]\n",
        "second_model_pred = [0, 0, 0, 0, 0,\n",
        "                     1, 1, 0, 0, 0]\n",
        "\n",
        "\n",
        "df = pd.DataFrame({\n",
        "    'clients': clients,\n",
        "    'first_model': first_model_pred,\n",
        "    'second_model': second_model_pred\n",
        "})\n",
        "\n",
        "df"
      ]
    },
    {
      "cell_type": "markdown",
      "metadata": {
        "id": "tbz2QPQkUOxb"
      },
      "source": [
        "The sample is balanced, 5 clients have class 0 and 5 have class 1. Let's look at the predictions of the models:\n",
        "1. The first one gives credit to 8 people, in the end 5 people pay back the credit and 3 do not pay back the credit\n",
        "2. The second model gives credit to 2 people, and all 2 pay back.\n",
        "\n",
        "Can you think of which model is better? Which model would you take to your bank to evaluate clients?"
      ]
    },
    {
      "cell_type": "markdown",
      "metadata": {
        "id": "zyuk10bjUqlJ"
      },
      "source": [
        "In fact, there is no right answer, it all depends on the bank's strategy.  \n",
        "- If the bank wants to make more money, it is better to give more loans, so it is better to use the first model.   \n",
        "- If the bank wants to lose less, it is better to give loans only to trusted people, so it is better to use the second model."
      ]
    },
    {
      "cell_type": "markdown",
      "metadata": {
        "id": "iWpK_h3QSoHj"
      },
      "source": [
        "That said, the accuracy metric will be the same on these two models, even though they are completely different."
      ]
    },
    {
      "cell_type": "code",
      "execution_count": 22,
      "metadata": {
        "colab": {
          "base_uri": "https://localhost:8080/",
          "height": 359
        },
        "id": "UU6yFTOWSnrT",
        "outputId": "d39f752f-29f0-4736-c9ff-34cff0c592bb"
      },
      "outputs": [
        {
          "data": {
            "text/html": [
              "<div>\n",
              "<style scoped>\n",
              "    .dataframe tbody tr th:only-of-type {\n",
              "        vertical-align: middle;\n",
              "    }\n",
              "\n",
              "    .dataframe tbody tr th {\n",
              "        vertical-align: top;\n",
              "    }\n",
              "\n",
              "    .dataframe thead th {\n",
              "        text-align: right;\n",
              "    }\n",
              "</style>\n",
              "<table border=\"1\" class=\"dataframe\">\n",
              "  <thead>\n",
              "    <tr style=\"text-align: right;\">\n",
              "      <th></th>\n",
              "      <th>clients</th>\n",
              "      <th>first_model</th>\n",
              "      <th>second_model</th>\n",
              "      <th>first_model_right</th>\n",
              "      <th>second_model_right</th>\n",
              "    </tr>\n",
              "  </thead>\n",
              "  <tbody>\n",
              "    <tr>\n",
              "      <th>0</th>\n",
              "      <td>0</td>\n",
              "      <td>0</td>\n",
              "      <td>0</td>\n",
              "      <td>True</td>\n",
              "      <td>True</td>\n",
              "    </tr>\n",
              "    <tr>\n",
              "      <th>1</th>\n",
              "      <td>0</td>\n",
              "      <td>0</td>\n",
              "      <td>0</td>\n",
              "      <td>True</td>\n",
              "      <td>True</td>\n",
              "    </tr>\n",
              "    <tr>\n",
              "      <th>2</th>\n",
              "      <td>0</td>\n",
              "      <td>1</td>\n",
              "      <td>0</td>\n",
              "      <td>False</td>\n",
              "      <td>True</td>\n",
              "    </tr>\n",
              "    <tr>\n",
              "      <th>3</th>\n",
              "      <td>0</td>\n",
              "      <td>1</td>\n",
              "      <td>0</td>\n",
              "      <td>False</td>\n",
              "      <td>True</td>\n",
              "    </tr>\n",
              "    <tr>\n",
              "      <th>4</th>\n",
              "      <td>0</td>\n",
              "      <td>1</td>\n",
              "      <td>0</td>\n",
              "      <td>False</td>\n",
              "      <td>True</td>\n",
              "    </tr>\n",
              "    <tr>\n",
              "      <th>5</th>\n",
              "      <td>1</td>\n",
              "      <td>1</td>\n",
              "      <td>1</td>\n",
              "      <td>True</td>\n",
              "      <td>True</td>\n",
              "    </tr>\n",
              "    <tr>\n",
              "      <th>6</th>\n",
              "      <td>1</td>\n",
              "      <td>1</td>\n",
              "      <td>1</td>\n",
              "      <td>True</td>\n",
              "      <td>True</td>\n",
              "    </tr>\n",
              "    <tr>\n",
              "      <th>7</th>\n",
              "      <td>1</td>\n",
              "      <td>1</td>\n",
              "      <td>0</td>\n",
              "      <td>True</td>\n",
              "      <td>False</td>\n",
              "    </tr>\n",
              "    <tr>\n",
              "      <th>8</th>\n",
              "      <td>1</td>\n",
              "      <td>1</td>\n",
              "      <td>0</td>\n",
              "      <td>True</td>\n",
              "      <td>False</td>\n",
              "    </tr>\n",
              "    <tr>\n",
              "      <th>9</th>\n",
              "      <td>1</td>\n",
              "      <td>1</td>\n",
              "      <td>0</td>\n",
              "      <td>True</td>\n",
              "      <td>False</td>\n",
              "    </tr>\n",
              "  </tbody>\n",
              "</table>\n",
              "</div>"
            ],
            "text/plain": [
              "   clients  first_model  second_model  first_model_right  second_model_right\n",
              "0        0            0             0               True                True\n",
              "1        0            0             0               True                True\n",
              "2        0            1             0              False                True\n",
              "3        0            1             0              False                True\n",
              "4        0            1             0              False                True\n",
              "5        1            1             1               True                True\n",
              "6        1            1             1               True                True\n",
              "7        1            1             0               True               False\n",
              "8        1            1             0               True               False\n",
              "9        1            1             0               True               False"
            ]
          },
          "execution_count": 22,
          "metadata": {},
          "output_type": "execute_result"
        }
      ],
      "source": [
        "df['first_model_right'] = df['clients'] == df['first_model']\n",
        "df['second_model_right'] = df['clients'] == df['second_model']\n",
        "\n",
        "df"
      ]
    },
    {
      "cell_type": "code",
      "execution_count": 23,
      "metadata": {
        "colab": {
          "base_uri": "https://localhost:8080/"
        },
        "id": "j8CbnOTxS1cC",
        "outputId": "63109b04-fe7a-47d8-e4db-944fb18828f9"
      },
      "outputs": [
        {
          "name": "stdout",
          "output_type": "stream",
          "text": [
            "Accuracy of the first model 0.7\n",
            "Accuracy of the second model 0.7\n"
          ]
        }
      ],
      "source": [
        "print(f\"Accuracy of the first model {df['first_model_right'].sum() / df.shape[0]}\")\n",
        "print(f\"Accuracy of the second model {df['second_model_right'].sum() / df.shape[0]}\")"
      ]
    },
    {
      "cell_type": "markdown",
      "metadata": {
        "id": "sEOiQCwcVTPV"
      },
      "source": [
        "This is because the accuracy metric only takes into account correct responses on all classes, so both models were equally good on this metric, because they both gave the same number of correct answers, 7 each, except that they had different errors. Let's find them.\n",
        "\n",
        "First, let's look at the first model's errors:"
      ]
    },
    {
      "cell_type": "code",
      "execution_count": 24,
      "metadata": {
        "colab": {
          "base_uri": "https://localhost:8080/",
          "height": 142
        },
        "id": "X9PkqZQwVs0c",
        "outputId": "39927fce-a47d-4387-e0b9-5db45af33d28"
      },
      "outputs": [
        {
          "data": {
            "text/html": [
              "<div>\n",
              "<style scoped>\n",
              "    .dataframe tbody tr th:only-of-type {\n",
              "        vertical-align: middle;\n",
              "    }\n",
              "\n",
              "    .dataframe tbody tr th {\n",
              "        vertical-align: top;\n",
              "    }\n",
              "\n",
              "    .dataframe thead th {\n",
              "        text-align: right;\n",
              "    }\n",
              "</style>\n",
              "<table border=\"1\" class=\"dataframe\">\n",
              "  <thead>\n",
              "    <tr style=\"text-align: right;\">\n",
              "      <th></th>\n",
              "      <th>clients</th>\n",
              "      <th>first_model</th>\n",
              "      <th>second_model</th>\n",
              "      <th>first_model_right</th>\n",
              "      <th>second_model_right</th>\n",
              "    </tr>\n",
              "  </thead>\n",
              "  <tbody>\n",
              "    <tr>\n",
              "      <th>2</th>\n",
              "      <td>0</td>\n",
              "      <td>1</td>\n",
              "      <td>0</td>\n",
              "      <td>False</td>\n",
              "      <td>True</td>\n",
              "    </tr>\n",
              "    <tr>\n",
              "      <th>3</th>\n",
              "      <td>0</td>\n",
              "      <td>1</td>\n",
              "      <td>0</td>\n",
              "      <td>False</td>\n",
              "      <td>True</td>\n",
              "    </tr>\n",
              "    <tr>\n",
              "      <th>4</th>\n",
              "      <td>0</td>\n",
              "      <td>1</td>\n",
              "      <td>0</td>\n",
              "      <td>False</td>\n",
              "      <td>True</td>\n",
              "    </tr>\n",
              "  </tbody>\n",
              "</table>\n",
              "</div>"
            ],
            "text/plain": [
              "   clients  first_model  second_model  first_model_right  second_model_right\n",
              "2        0            1             0              False                True\n",
              "3        0            1             0              False                True\n",
              "4        0            1             0              False                True"
            ]
          },
          "execution_count": 24,
          "metadata": {},
          "output_type": "execute_result"
        }
      ],
      "source": [
        "# sort by the error in the first_model_right column\n",
        "df[~df['first_model_right']]"
      ]
    },
    {
      "cell_type": "code",
      "execution_count": 25,
      "metadata": {
        "colab": {
          "base_uri": "https://localhost:8080/",
          "height": 142
        },
        "id": "YhXD27b4WBGE",
        "outputId": "4c1b4922-359b-4ab0-c6e6-827f3ddbdfda"
      },
      "outputs": [
        {
          "data": {
            "text/html": [
              "<div>\n",
              "<style scoped>\n",
              "    .dataframe tbody tr th:only-of-type {\n",
              "        vertical-align: middle;\n",
              "    }\n",
              "\n",
              "    .dataframe tbody tr th {\n",
              "        vertical-align: top;\n",
              "    }\n",
              "\n",
              "    .dataframe thead th {\n",
              "        text-align: right;\n",
              "    }\n",
              "</style>\n",
              "<table border=\"1\" class=\"dataframe\">\n",
              "  <thead>\n",
              "    <tr style=\"text-align: right;\">\n",
              "      <th></th>\n",
              "      <th>clients</th>\n",
              "      <th>first_model</th>\n",
              "    </tr>\n",
              "  </thead>\n",
              "  <tbody>\n",
              "    <tr>\n",
              "      <th>2</th>\n",
              "      <td>0</td>\n",
              "      <td>1</td>\n",
              "    </tr>\n",
              "    <tr>\n",
              "      <th>3</th>\n",
              "      <td>0</td>\n",
              "      <td>1</td>\n",
              "    </tr>\n",
              "    <tr>\n",
              "      <th>4</th>\n",
              "      <td>0</td>\n",
              "      <td>1</td>\n",
              "    </tr>\n",
              "  </tbody>\n",
              "</table>\n",
              "</div>"
            ],
            "text/plain": [
              "   clients  first_model\n",
              "2        0            1\n",
              "3        0            1\n",
              "4        0            1"
            ]
          },
          "execution_count": 25,
          "metadata": {},
          "output_type": "execute_result"
        }
      ],
      "source": [
        "# and derive only the true values and predictions by the first model\n",
        "df[~df['first_model_right']][['clients', 'first_model']]"
      ]
    },
    {
      "cell_type": "markdown",
      "metadata": {
        "id": "OB2eGnrYWJxa"
      },
      "source": [
        "In these three errors, the first model mistakenly made a loan to 3 people who had no plans to pay it back."
      ]
    },
    {
      "cell_type": "markdown",
      "metadata": {
        "id": "j71opfswWThv"
      },
      "source": [
        "Now it's the turn of the second model:"
      ]
    },
    {
      "cell_type": "code",
      "execution_count": 26,
      "metadata": {
        "colab": {
          "base_uri": "https://localhost:8080/",
          "height": 142
        },
        "id": "MLvFP3S-WThx",
        "outputId": "42600e16-485a-4d0d-fc9e-97c7141c9723"
      },
      "outputs": [
        {
          "data": {
            "text/html": [
              "<div>\n",
              "<style scoped>\n",
              "    .dataframe tbody tr th:only-of-type {\n",
              "        vertical-align: middle;\n",
              "    }\n",
              "\n",
              "    .dataframe tbody tr th {\n",
              "        vertical-align: top;\n",
              "    }\n",
              "\n",
              "    .dataframe thead th {\n",
              "        text-align: right;\n",
              "    }\n",
              "</style>\n",
              "<table border=\"1\" class=\"dataframe\">\n",
              "  <thead>\n",
              "    <tr style=\"text-align: right;\">\n",
              "      <th></th>\n",
              "      <th>clients</th>\n",
              "      <th>first_model</th>\n",
              "      <th>second_model</th>\n",
              "      <th>first_model_right</th>\n",
              "      <th>second_model_right</th>\n",
              "    </tr>\n",
              "  </thead>\n",
              "  <tbody>\n",
              "    <tr>\n",
              "      <th>7</th>\n",
              "      <td>1</td>\n",
              "      <td>1</td>\n",
              "      <td>0</td>\n",
              "      <td>True</td>\n",
              "      <td>False</td>\n",
              "    </tr>\n",
              "    <tr>\n",
              "      <th>8</th>\n",
              "      <td>1</td>\n",
              "      <td>1</td>\n",
              "      <td>0</td>\n",
              "      <td>True</td>\n",
              "      <td>False</td>\n",
              "    </tr>\n",
              "    <tr>\n",
              "      <th>9</th>\n",
              "      <td>1</td>\n",
              "      <td>1</td>\n",
              "      <td>0</td>\n",
              "      <td>True</td>\n",
              "      <td>False</td>\n",
              "    </tr>\n",
              "  </tbody>\n",
              "</table>\n",
              "</div>"
            ],
            "text/plain": [
              "   clients  first_model  second_model  first_model_right  second_model_right\n",
              "7        1            1             0               True               False\n",
              "8        1            1             0               True               False\n",
              "9        1            1             0               True               False"
            ]
          },
          "execution_count": 26,
          "metadata": {},
          "output_type": "execute_result"
        }
      ],
      "source": [
        "# sort by the error in the second_model_right column\n",
        "df[~df['second_model_right']]"
      ]
    },
    {
      "cell_type": "code",
      "execution_count": 27,
      "metadata": {
        "colab": {
          "base_uri": "https://localhost:8080/",
          "height": 142
        },
        "id": "TWqOxQAdWTh2",
        "outputId": "20bcce9f-5540-4855-e123-1d9912e8d4e3"
      },
      "outputs": [
        {
          "data": {
            "text/html": [
              "<div>\n",
              "<style scoped>\n",
              "    .dataframe tbody tr th:only-of-type {\n",
              "        vertical-align: middle;\n",
              "    }\n",
              "\n",
              "    .dataframe tbody tr th {\n",
              "        vertical-align: top;\n",
              "    }\n",
              "\n",
              "    .dataframe thead th {\n",
              "        text-align: right;\n",
              "    }\n",
              "</style>\n",
              "<table border=\"1\" class=\"dataframe\">\n",
              "  <thead>\n",
              "    <tr style=\"text-align: right;\">\n",
              "      <th></th>\n",
              "      <th>clients</th>\n",
              "      <th>second_model</th>\n",
              "    </tr>\n",
              "  </thead>\n",
              "  <tbody>\n",
              "    <tr>\n",
              "      <th>7</th>\n",
              "      <td>1</td>\n",
              "      <td>0</td>\n",
              "    </tr>\n",
              "    <tr>\n",
              "      <th>8</th>\n",
              "      <td>1</td>\n",
              "      <td>0</td>\n",
              "    </tr>\n",
              "    <tr>\n",
              "      <th>9</th>\n",
              "      <td>1</td>\n",
              "      <td>0</td>\n",
              "    </tr>\n",
              "  </tbody>\n",
              "</table>\n",
              "</div>"
            ],
            "text/plain": [
              "   clients  second_model\n",
              "7        1             0\n",
              "8        1             0\n",
              "9        1             0"
            ]
          },
          "execution_count": 27,
          "metadata": {},
          "output_type": "execute_result"
        }
      ],
      "source": [
        "# and derive only the true values and predictions by the second model\n",
        "df[~df['second_model_right']][['clients', 'second_model']]"
      ]
    },
    {
      "cell_type": "markdown",
      "metadata": {
        "id": "SLLC7EJmWTh3"
      },
      "source": [
        "And here it's the other way around. The model did not approve loans to people who were able to pay everything correctly."
      ]
    },
    {
      "cell_type": "markdown",
      "metadata": {
        "id": "h9PcRkeyWrqF"
      },
      "source": [
        "These are the different errors that can affect our models and the decisions we make about the usefulness of trained algorithms in different ways."
      ]
    },
    {
      "cell_type": "markdown",
      "metadata": {
        "id": "IoHK1woXcHkk"
      },
      "source": [
        "## Summary"
      ]
    },
    {
      "cell_type": "markdown",
      "metadata": {
        "id": "R4KYbNBiKOIo"
      },
      "source": [
        "<table>\n",
        "\n",
        "<tr>\n",
        "<td>\n",
        "Metric\n",
        "</td>\n",
        "\n",
        "<td>\n",
        "Formula\n",
        "</td>\n",
        "\n",
        "<td>\n",
        "Value ranges\n",
        "</td>\n",
        "\n",
        "<td>\n",
        "Ideal value\n",
        "</td>\n",
        "</tr>\n",
        "\n",
        "<tr>\n",
        "<td>\n",
        "Accuracy\n",
        "</td>\n",
        "\n",
        "<td>\n",
        "$$accuracy(a,x) = \\frac{1}{l} \\sum^{l}_{i=1}[a(x_{i})=y_{i}].$$\n",
        "\n",
        "</td>\n",
        "\n",
        "<td>\n",
        "[0, 1]\n",
        "</td>\n",
        "\n",
        "<td>\n",
        "1\n",
        "</td>\n",
        "</tr>\n",
        "\n",
        "<table>"
      ]
    }
  ],
  "metadata": {
    "colab": {
      "provenance": [],
      "toc_visible": true
    },
    "kernelspec": {
      "display_name": "Python 3",
      "name": "python3"
    },
    "language_info": {
      "codemirror_mode": {
        "name": "ipython",
        "version": 3
      },
      "file_extension": ".py",
      "mimetype": "text/x-python",
      "name": "python",
      "nbconvert_exporter": "python",
      "pygments_lexer": "ipython3",
      "version": "3.11.5"
    }
  },
  "nbformat": 4,
  "nbformat_minor": 0
}
