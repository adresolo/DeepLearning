{
  "cells": [
    {
      "cell_type": "code",
      "execution_count": 94,
      "metadata": {
        "id": "FIaQlaQ6BtqD"
      },
      "outputs": [],
      "source": [
        "import pandas as pd\n",
        "import numpy as np\n",
        "import matplotlib.pyplot as plt\n",
        "import seaborn as sns\n",
        "import matplotlib\n",
        "\n",
        "matplotlib.rcParams.update({'font.size': 14})\n",
        "pd.set_option('display.max_columns', 10)"
      ]
    },
    {
      "cell_type": "markdown",
      "metadata": {
        "id": "AsqaA2C3BtqG"
      },
      "source": [
        "**Metrics** in machine learning are needed to evaluate the quality of a model's performance, to understand how well the model has memorized patterns from the training sample.  \n",
        "\n",
        "Today we continue to look at metrics for the **classification task**. For this task, we want our models to predict the correct object class label as often as possible.\n",
        "\n",
        "<img src='https://static.javatpoint.com/tutorial/machine-learning/images/classification-algorithm-in-machine-learning.png' width=600>\n"
      ]
    },
    {
      "cell_type": "markdown",
      "metadata": {
        "id": "wCCz2PatjF56"
      },
      "source": [
        "## Retrieving data"
      ]
    },
    {
      "cell_type": "markdown",
      "metadata": {
        "id": "xIvd3uwCqowD"
      },
      "source": [
        "We will consider the ROC-AUC metric on a binary classification task. Let us take a dataset from the standard datasets in `sklearn` on breast cancer prediction `load_breast_cancer`.\n",
        "\n",
        "There are 569 objects and 30 features."
      ]
    },
    {
      "cell_type": "code",
      "execution_count": 95,
      "metadata": {
        "id": "7Po3tmGgqPqY"
      },
      "outputs": [],
      "source": [
        "from sklearn.datasets import load_breast_cancer\n",
        "\n",
        "\n",
        "data = load_breast_cancer()"
      ]
    },
    {
      "cell_type": "markdown",
      "metadata": {
        "id": "_dwRn4d3a1tK"
      },
      "source": [
        "Let's wrap the data in a dataframe."
      ]
    },
    {
      "cell_type": "code",
      "execution_count": 96,
      "metadata": {
        "colab": {
          "base_uri": "https://localhost:8080/",
          "height": 514
        },
        "id": "HA7gVZ2FrXp5",
        "outputId": "4ecd8599-00ca-4669-a423-e907bf069d43"
      },
      "outputs": [
        {
          "data": {
            "text/html": [
              "<div>\n",
              "<style scoped>\n",
              "    .dataframe tbody tr th:only-of-type {\n",
              "        vertical-align: middle;\n",
              "    }\n",
              "\n",
              "    .dataframe tbody tr th {\n",
              "        vertical-align: top;\n",
              "    }\n",
              "\n",
              "    .dataframe thead th {\n",
              "        text-align: right;\n",
              "    }\n",
              "</style>\n",
              "<table border=\"1\" class=\"dataframe\">\n",
              "  <thead>\n",
              "    <tr style=\"text-align: right;\">\n",
              "      <th></th>\n",
              "      <th>mean radius</th>\n",
              "      <th>mean texture</th>\n",
              "      <th>mean perimeter</th>\n",
              "      <th>mean area</th>\n",
              "      <th>mean smoothness</th>\n",
              "      <th>...</th>\n",
              "      <th>worst compactness</th>\n",
              "      <th>worst concavity</th>\n",
              "      <th>worst concave points</th>\n",
              "      <th>worst symmetry</th>\n",
              "      <th>worst fractal dimension</th>\n",
              "    </tr>\n",
              "  </thead>\n",
              "  <tbody>\n",
              "    <tr>\n",
              "      <th>0</th>\n",
              "      <td>17.99</td>\n",
              "      <td>10.38</td>\n",
              "      <td>122.80</td>\n",
              "      <td>1001.0</td>\n",
              "      <td>0.11840</td>\n",
              "      <td>...</td>\n",
              "      <td>0.66560</td>\n",
              "      <td>0.7119</td>\n",
              "      <td>0.2654</td>\n",
              "      <td>0.4601</td>\n",
              "      <td>0.11890</td>\n",
              "    </tr>\n",
              "    <tr>\n",
              "      <th>1</th>\n",
              "      <td>20.57</td>\n",
              "      <td>17.77</td>\n",
              "      <td>132.90</td>\n",
              "      <td>1326.0</td>\n",
              "      <td>0.08474</td>\n",
              "      <td>...</td>\n",
              "      <td>0.18660</td>\n",
              "      <td>0.2416</td>\n",
              "      <td>0.1860</td>\n",
              "      <td>0.2750</td>\n",
              "      <td>0.08902</td>\n",
              "    </tr>\n",
              "    <tr>\n",
              "      <th>2</th>\n",
              "      <td>19.69</td>\n",
              "      <td>21.25</td>\n",
              "      <td>130.00</td>\n",
              "      <td>1203.0</td>\n",
              "      <td>0.10960</td>\n",
              "      <td>...</td>\n",
              "      <td>0.42450</td>\n",
              "      <td>0.4504</td>\n",
              "      <td>0.2430</td>\n",
              "      <td>0.3613</td>\n",
              "      <td>0.08758</td>\n",
              "    </tr>\n",
              "    <tr>\n",
              "      <th>3</th>\n",
              "      <td>11.42</td>\n",
              "      <td>20.38</td>\n",
              "      <td>77.58</td>\n",
              "      <td>386.1</td>\n",
              "      <td>0.14250</td>\n",
              "      <td>...</td>\n",
              "      <td>0.86630</td>\n",
              "      <td>0.6869</td>\n",
              "      <td>0.2575</td>\n",
              "      <td>0.6638</td>\n",
              "      <td>0.17300</td>\n",
              "    </tr>\n",
              "    <tr>\n",
              "      <th>4</th>\n",
              "      <td>20.29</td>\n",
              "      <td>14.34</td>\n",
              "      <td>135.10</td>\n",
              "      <td>1297.0</td>\n",
              "      <td>0.10030</td>\n",
              "      <td>...</td>\n",
              "      <td>0.20500</td>\n",
              "      <td>0.4000</td>\n",
              "      <td>0.1625</td>\n",
              "      <td>0.2364</td>\n",
              "      <td>0.07678</td>\n",
              "    </tr>\n",
              "    <tr>\n",
              "      <th>...</th>\n",
              "      <td>...</td>\n",
              "      <td>...</td>\n",
              "      <td>...</td>\n",
              "      <td>...</td>\n",
              "      <td>...</td>\n",
              "      <td>...</td>\n",
              "      <td>...</td>\n",
              "      <td>...</td>\n",
              "      <td>...</td>\n",
              "      <td>...</td>\n",
              "      <td>...</td>\n",
              "    </tr>\n",
              "    <tr>\n",
              "      <th>564</th>\n",
              "      <td>21.56</td>\n",
              "      <td>22.39</td>\n",
              "      <td>142.00</td>\n",
              "      <td>1479.0</td>\n",
              "      <td>0.11100</td>\n",
              "      <td>...</td>\n",
              "      <td>0.21130</td>\n",
              "      <td>0.4107</td>\n",
              "      <td>0.2216</td>\n",
              "      <td>0.2060</td>\n",
              "      <td>0.07115</td>\n",
              "    </tr>\n",
              "    <tr>\n",
              "      <th>565</th>\n",
              "      <td>20.13</td>\n",
              "      <td>28.25</td>\n",
              "      <td>131.20</td>\n",
              "      <td>1261.0</td>\n",
              "      <td>0.09780</td>\n",
              "      <td>...</td>\n",
              "      <td>0.19220</td>\n",
              "      <td>0.3215</td>\n",
              "      <td>0.1628</td>\n",
              "      <td>0.2572</td>\n",
              "      <td>0.06637</td>\n",
              "    </tr>\n",
              "    <tr>\n",
              "      <th>566</th>\n",
              "      <td>16.60</td>\n",
              "      <td>28.08</td>\n",
              "      <td>108.30</td>\n",
              "      <td>858.1</td>\n",
              "      <td>0.08455</td>\n",
              "      <td>...</td>\n",
              "      <td>0.30940</td>\n",
              "      <td>0.3403</td>\n",
              "      <td>0.1418</td>\n",
              "      <td>0.2218</td>\n",
              "      <td>0.07820</td>\n",
              "    </tr>\n",
              "    <tr>\n",
              "      <th>567</th>\n",
              "      <td>20.60</td>\n",
              "      <td>29.33</td>\n",
              "      <td>140.10</td>\n",
              "      <td>1265.0</td>\n",
              "      <td>0.11780</td>\n",
              "      <td>...</td>\n",
              "      <td>0.86810</td>\n",
              "      <td>0.9387</td>\n",
              "      <td>0.2650</td>\n",
              "      <td>0.4087</td>\n",
              "      <td>0.12400</td>\n",
              "    </tr>\n",
              "    <tr>\n",
              "      <th>568</th>\n",
              "      <td>7.76</td>\n",
              "      <td>24.54</td>\n",
              "      <td>47.92</td>\n",
              "      <td>181.0</td>\n",
              "      <td>0.05263</td>\n",
              "      <td>...</td>\n",
              "      <td>0.06444</td>\n",
              "      <td>0.0000</td>\n",
              "      <td>0.0000</td>\n",
              "      <td>0.2871</td>\n",
              "      <td>0.07039</td>\n",
              "    </tr>\n",
              "  </tbody>\n",
              "</table>\n",
              "<p>569 rows × 30 columns</p>\n",
              "</div>"
            ],
            "text/plain": [
              "     mean radius  mean texture  mean perimeter  mean area  mean smoothness  \\\n",
              "0          17.99         10.38          122.80     1001.0          0.11840   \n",
              "1          20.57         17.77          132.90     1326.0          0.08474   \n",
              "2          19.69         21.25          130.00     1203.0          0.10960   \n",
              "3          11.42         20.38           77.58      386.1          0.14250   \n",
              "4          20.29         14.34          135.10     1297.0          0.10030   \n",
              "..           ...           ...             ...        ...              ...   \n",
              "564        21.56         22.39          142.00     1479.0          0.11100   \n",
              "565        20.13         28.25          131.20     1261.0          0.09780   \n",
              "566        16.60         28.08          108.30      858.1          0.08455   \n",
              "567        20.60         29.33          140.10     1265.0          0.11780   \n",
              "568         7.76         24.54           47.92      181.0          0.05263   \n",
              "\n",
              "     ...  worst compactness  worst concavity  worst concave points  \\\n",
              "0    ...            0.66560           0.7119                0.2654   \n",
              "1    ...            0.18660           0.2416                0.1860   \n",
              "2    ...            0.42450           0.4504                0.2430   \n",
              "3    ...            0.86630           0.6869                0.2575   \n",
              "4    ...            0.20500           0.4000                0.1625   \n",
              "..   ...                ...              ...                   ...   \n",
              "564  ...            0.21130           0.4107                0.2216   \n",
              "565  ...            0.19220           0.3215                0.1628   \n",
              "566  ...            0.30940           0.3403                0.1418   \n",
              "567  ...            0.86810           0.9387                0.2650   \n",
              "568  ...            0.06444           0.0000                0.0000   \n",
              "\n",
              "     worst symmetry  worst fractal dimension  \n",
              "0            0.4601                  0.11890  \n",
              "1            0.2750                  0.08902  \n",
              "2            0.3613                  0.08758  \n",
              "3            0.6638                  0.17300  \n",
              "4            0.2364                  0.07678  \n",
              "..              ...                      ...  \n",
              "564          0.2060                  0.07115  \n",
              "565          0.2572                  0.06637  \n",
              "566          0.2218                  0.07820  \n",
              "567          0.4087                  0.12400  \n",
              "568          0.2871                  0.07039  \n",
              "\n",
              "[569 rows x 30 columns]"
            ]
          },
          "execution_count": 96,
          "metadata": {},
          "output_type": "execute_result"
        }
      ],
      "source": [
        "X = pd.DataFrame(data['data'], columns=data['feature_names'])\n",
        "y = pd.Series(data['target'])\n",
        "\n",
        "X"
      ]
    },
    {
      "cell_type": "markdown",
      "metadata": {
        "id": "RI4jYoaEsEKS"
      },
      "source": [
        "The target variable is a binary trait:   \n",
        "- 212 zeros is the class of malignant tumor (Malignant).   \n",
        "- And 357 ones are the class of benign tumor (Benign)."
      ]
    },
    {
      "cell_type": "code",
      "execution_count": 97,
      "metadata": {
        "colab": {
          "base_uri": "https://localhost:8080/"
        },
        "id": "LxAzIW7urMHs",
        "outputId": "fe02f49b-e3f4-4446-d81f-188e3c7183bb"
      },
      "outputs": [
        {
          "data": {
            "text/plain": [
              "1    357\n",
              "0    212\n",
              "Name: count, dtype: int64"
            ]
          },
          "execution_count": 97,
          "metadata": {},
          "output_type": "execute_result"
        }
      ],
      "source": [
        "y.value_counts()"
      ]
    },
    {
      "cell_type": "markdown",
      "metadata": {
        "id": "8cBdSoaOc8Pk"
      },
      "source": [
        "Let's divide the sample into training and test samples. From the initial set we will take only two random features, and for the test we will take only 9 objects for easy calculation of metrics."
      ]
    },
    {
      "cell_type": "code",
      "execution_count": 98,
      "metadata": {
        "id": "MBoxhEjodNA2"
      },
      "outputs": [],
      "source": [
        "from sklearn.model_selection import train_test_split\n",
        "\n",
        "\n",
        "np.random.seed(5)\n",
        "features = np.random.randint(X.shape[1], size=2)\n",
        "\n",
        "\n",
        "X_train, X_test, y_train, y_test = train_test_split(X.iloc[:, features], y, test_size=9, random_state=4)"
      ]
    },
    {
      "cell_type": "markdown",
      "metadata": {
        "id": "MwUGpFNzNudk"
      },
      "source": [
        "We obtained a sample for which we will calculate the ROC AUC metric."
      ]
    },
    {
      "cell_type": "code",
      "execution_count": 99,
      "metadata": {
        "colab": {
          "base_uri": "https://localhost:8080/",
          "height": 325
        },
        "id": "4C8Hjt8V8vAP",
        "outputId": "38d2dcc0-6cf7-4a76-a76c-d004d5a88d15"
      },
      "outputs": [
        {
          "data": {
            "text/html": [
              "<div>\n",
              "<style scoped>\n",
              "    .dataframe tbody tr th:only-of-type {\n",
              "        vertical-align: middle;\n",
              "    }\n",
              "\n",
              "    .dataframe tbody tr th {\n",
              "        vertical-align: top;\n",
              "    }\n",
              "\n",
              "    .dataframe thead th {\n",
              "        text-align: right;\n",
              "    }\n",
              "</style>\n",
              "<table border=\"1\" class=\"dataframe\">\n",
              "  <thead>\n",
              "    <tr style=\"text-align: right;\">\n",
              "      <th></th>\n",
              "      <th>mean area</th>\n",
              "      <th>smoothness error</th>\n",
              "    </tr>\n",
              "  </thead>\n",
              "  <tbody>\n",
              "    <tr>\n",
              "      <th>340</th>\n",
              "      <td>641.2</td>\n",
              "      <td>0.004577</td>\n",
              "    </tr>\n",
              "    <tr>\n",
              "      <th>382</th>\n",
              "      <td>447.8</td>\n",
              "      <td>0.005042</td>\n",
              "    </tr>\n",
              "    <tr>\n",
              "      <th>300</th>\n",
              "      <td>1217.0</td>\n",
              "      <td>0.006056</td>\n",
              "    </tr>\n",
              "    <tr>\n",
              "      <th>262</th>\n",
              "      <td>947.8</td>\n",
              "      <td>0.006717</td>\n",
              "    </tr>\n",
              "    <tr>\n",
              "      <th>363</th>\n",
              "      <td>838.1</td>\n",
              "      <td>0.007257</td>\n",
              "    </tr>\n",
              "    <tr>\n",
              "      <th>157</th>\n",
              "      <td>880.2</td>\n",
              "      <td>0.003443</td>\n",
              "    </tr>\n",
              "    <tr>\n",
              "      <th>120</th>\n",
              "      <td>403.3</td>\n",
              "      <td>0.006040</td>\n",
              "    </tr>\n",
              "    <tr>\n",
              "      <th>139</th>\n",
              "      <td>384.8</td>\n",
              "      <td>0.011270</td>\n",
              "    </tr>\n",
              "    <tr>\n",
              "      <th>99</th>\n",
              "      <td>642.5</td>\n",
              "      <td>0.008005</td>\n",
              "    </tr>\n",
              "  </tbody>\n",
              "</table>\n",
              "</div>"
            ],
            "text/plain": [
              "     mean area  smoothness error\n",
              "340      641.2          0.004577\n",
              "382      447.8          0.005042\n",
              "300     1217.0          0.006056\n",
              "262      947.8          0.006717\n",
              "363      838.1          0.007257\n",
              "157      880.2          0.003443\n",
              "120      403.3          0.006040\n",
              "139      384.8          0.011270\n",
              "99       642.5          0.008005"
            ]
          },
          "execution_count": 99,
          "metadata": {},
          "output_type": "execute_result"
        }
      ],
      "source": [
        "X_test"
      ]
    },
    {
      "cell_type": "markdown",
      "metadata": {
        "id": "luYUeiTabwhL"
      },
      "source": [
        "Six of them are in class 1 and three are in class 0."
      ]
    },
    {
      "cell_type": "code",
      "execution_count": 100,
      "metadata": {
        "colab": {
          "base_uri": "https://localhost:8080/"
        },
        "id": "fzt_1grT8vgL",
        "outputId": "b19d4f7e-3f30-40b9-e157-f0a20c42f7e6"
      },
      "outputs": [
        {
          "data": {
            "text/plain": [
              "340    1\n",
              "382    1\n",
              "300    0\n",
              "262    0\n",
              "363    1\n",
              "157    1\n",
              "120    1\n",
              "139    1\n",
              "99     0\n",
              "dtype: int64"
            ]
          },
          "execution_count": 100,
          "metadata": {},
          "output_type": "execute_result"
        }
      ],
      "source": [
        "y_test"
      ]
    },
    {
      "cell_type": "markdown",
      "metadata": {
        "id": "v3biXQxAjKqc"
      },
      "source": [
        "## Model training"
      ]
    },
    {
      "cell_type": "markdown",
      "metadata": {
        "id": "h5YckVon8Lp3"
      },
      "source": [
        "And train a decision tree on tumor classification."
      ]
    },
    {
      "cell_type": "code",
      "execution_count": 101,
      "metadata": {
        "colab": {
          "base_uri": "https://localhost:8080/"
        },
        "id": "SOPbbG0i8R8y",
        "outputId": "3e63bb2f-3001-4ff9-c678-2f1c9d942ce2"
      },
      "outputs": [
        {
          "data": {
            "text/html": [
              "<style>#sk-container-id-4 {color: black;}#sk-container-id-4 pre{padding: 0;}#sk-container-id-4 div.sk-toggleable {background-color: white;}#sk-container-id-4 label.sk-toggleable__label {cursor: pointer;display: block;width: 100%;margin-bottom: 0;padding: 0.3em;box-sizing: border-box;text-align: center;}#sk-container-id-4 label.sk-toggleable__label-arrow:before {content: \"▸\";float: left;margin-right: 0.25em;color: #696969;}#sk-container-id-4 label.sk-toggleable__label-arrow:hover:before {color: black;}#sk-container-id-4 div.sk-estimator:hover label.sk-toggleable__label-arrow:before {color: black;}#sk-container-id-4 div.sk-toggleable__content {max-height: 0;max-width: 0;overflow: hidden;text-align: left;background-color: #f0f8ff;}#sk-container-id-4 div.sk-toggleable__content pre {margin: 0.2em;color: black;border-radius: 0.25em;background-color: #f0f8ff;}#sk-container-id-4 input.sk-toggleable__control:checked~div.sk-toggleable__content {max-height: 200px;max-width: 100%;overflow: auto;}#sk-container-id-4 input.sk-toggleable__control:checked~label.sk-toggleable__label-arrow:before {content: \"▾\";}#sk-container-id-4 div.sk-estimator input.sk-toggleable__control:checked~label.sk-toggleable__label {background-color: #d4ebff;}#sk-container-id-4 div.sk-label input.sk-toggleable__control:checked~label.sk-toggleable__label {background-color: #d4ebff;}#sk-container-id-4 input.sk-hidden--visually {border: 0;clip: rect(1px 1px 1px 1px);clip: rect(1px, 1px, 1px, 1px);height: 1px;margin: -1px;overflow: hidden;padding: 0;position: absolute;width: 1px;}#sk-container-id-4 div.sk-estimator {font-family: monospace;background-color: #f0f8ff;border: 1px dotted black;border-radius: 0.25em;box-sizing: border-box;margin-bottom: 0.5em;}#sk-container-id-4 div.sk-estimator:hover {background-color: #d4ebff;}#sk-container-id-4 div.sk-parallel-item::after {content: \"\";width: 100%;border-bottom: 1px solid gray;flex-grow: 1;}#sk-container-id-4 div.sk-label:hover label.sk-toggleable__label {background-color: #d4ebff;}#sk-container-id-4 div.sk-serial::before {content: \"\";position: absolute;border-left: 1px solid gray;box-sizing: border-box;top: 0;bottom: 0;left: 50%;z-index: 0;}#sk-container-id-4 div.sk-serial {display: flex;flex-direction: column;align-items: center;background-color: white;padding-right: 0.2em;padding-left: 0.2em;position: relative;}#sk-container-id-4 div.sk-item {position: relative;z-index: 1;}#sk-container-id-4 div.sk-parallel {display: flex;align-items: stretch;justify-content: center;background-color: white;position: relative;}#sk-container-id-4 div.sk-item::before, #sk-container-id-4 div.sk-parallel-item::before {content: \"\";position: absolute;border-left: 1px solid gray;box-sizing: border-box;top: 0;bottom: 0;left: 50%;z-index: -1;}#sk-container-id-4 div.sk-parallel-item {display: flex;flex-direction: column;z-index: 1;position: relative;background-color: white;}#sk-container-id-4 div.sk-parallel-item:first-child::after {align-self: flex-end;width: 50%;}#sk-container-id-4 div.sk-parallel-item:last-child::after {align-self: flex-start;width: 50%;}#sk-container-id-4 div.sk-parallel-item:only-child::after {width: 0;}#sk-container-id-4 div.sk-dashed-wrapped {border: 1px dashed gray;margin: 0 0.4em 0.5em 0.4em;box-sizing: border-box;padding-bottom: 0.4em;background-color: white;}#sk-container-id-4 div.sk-label label {font-family: monospace;font-weight: bold;display: inline-block;line-height: 1.2em;}#sk-container-id-4 div.sk-label-container {text-align: center;}#sk-container-id-4 div.sk-container {/* jupyter's `normalize.less` sets `[hidden] { display: none; }` but bootstrap.min.css set `[hidden] { display: none !important; }` so we also need the `!important` here to be able to override the default hidden behavior on the sphinx rendered scikit-learn.org. See: https://github.com/scikit-learn/scikit-learn/issues/21755 */display: inline-block !important;position: relative;}#sk-container-id-4 div.sk-text-repr-fallback {display: none;}</style><div id=\"sk-container-id-4\" class=\"sk-top-container\"><div class=\"sk-text-repr-fallback\"><pre>DecisionTreeClassifier(max_depth=5, min_samples_leaf=5, random_state=1)</pre><b>In a Jupyter environment, please rerun this cell to show the HTML representation or trust the notebook. <br />On GitHub, the HTML representation is unable to render, please try loading this page with nbviewer.org.</b></div><div class=\"sk-container\" hidden><div class=\"sk-item\"><div class=\"sk-estimator sk-toggleable\"><input class=\"sk-toggleable__control sk-hidden--visually\" id=\"sk-estimator-id-4\" type=\"checkbox\" checked><label for=\"sk-estimator-id-4\" class=\"sk-toggleable__label sk-toggleable__label-arrow\">DecisionTreeClassifier</label><div class=\"sk-toggleable__content\"><pre>DecisionTreeClassifier(max_depth=5, min_samples_leaf=5, random_state=1)</pre></div></div></div></div></div>"
            ],
            "text/plain": [
              "DecisionTreeClassifier(max_depth=5, min_samples_leaf=5, random_state=1)"
            ]
          },
          "execution_count": 101,
          "metadata": {},
          "output_type": "execute_result"
        }
      ],
      "source": [
        "from sklearn.tree import DecisionTreeClassifier\n",
        "\n",
        "tree = DecisionTreeClassifier(random_state=1, max_depth=5, min_samples_leaf=5)\n",
        "\n",
        "tree.fit(X_train, y_train)"
      ]
    },
    {
      "cell_type": "markdown",
      "metadata": {
        "id": "2Y5Ulw3lqEkF"
      },
      "source": [
        "Our output machine learning models can give a label of the class the object belongs to via the predict method."
      ]
    },
    {
      "cell_type": "code",
      "execution_count": 102,
      "metadata": {
        "colab": {
          "base_uri": "https://localhost:8080/"
        },
        "id": "sZHJonqh8bXo",
        "outputId": "4fb52cca-ee15-45ca-c2d4-b13ceeba7b76"
      },
      "outputs": [
        {
          "data": {
            "text/plain": [
              "array([1, 1, 0, 0, 0, 0, 1, 1, 1])"
            ]
          },
          "execution_count": 102,
          "metadata": {},
          "output_type": "execute_result"
        }
      ],
      "source": [
        "tree.predict(X_test)"
      ]
    },
    {
      "cell_type": "markdown",
      "metadata": {
        "id": "qpXOjN6Fb4T6"
      },
      "source": [
        "And also the probability of belonging to each class via the predict_proba method."
      ]
    },
    {
      "cell_type": "code",
      "execution_count": 103,
      "metadata": {
        "colab": {
          "base_uri": "https://localhost:8080/"
        },
        "id": "63yRikItb9uK",
        "outputId": "7a7bff45-6091-4d5c-c865-e7bc6f31dbab"
      },
      "outputs": [
        {
          "data": {
            "text/plain": [
              "array([[0.1509434 , 0.8490566 ],\n",
              "       [0.03125   , 0.96875   ],\n",
              "       [1.        , 0.        ],\n",
              "       [1.        , 0.        ],\n",
              "       [1.        , 0.        ],\n",
              "       [1.        , 0.        ],\n",
              "       [0.        , 1.        ],\n",
              "       [0.03370787, 0.96629213],\n",
              "       [0.45454545, 0.54545455]])"
            ]
          },
          "execution_count": 103,
          "metadata": {},
          "output_type": "execute_result"
        }
      ],
      "source": [
        "tree.predict_proba(X_test)"
      ]
    },
    {
      "cell_type": "markdown",
      "metadata": {
        "id": "SG6YHuTycIUQ"
      },
      "source": [
        "Since there are only two classes we see 2 bars, bar 1 is the probability that the object is class zero and bar 2 is the probability that the object is class one.   \n",
        "The probabilities add up to give a probability of 1.   \n",
        "\n",
        "For example, the first object is most likely to be class 1 (85% of the object could be class 1, and 15% of the object could be class 0), and the third object is 100% certain to be class 0 (zero probability of being class 1, and unit probability of being class 0)\n",
        "\n",
        "Operating on the probabilities we can independently decide above or below which mark, an object becomes class zero or class one. By default, this cutoff is 0.5."
      ]
    },
    {
      "cell_type": "markdown",
      "metadata": {
        "id": "FwXNr3lxO47f"
      },
      "source": [
        "Let's make sure of it. Let's use our hands to assign appropriate classes to objects with probabilities greater than 0.5. That is, if the probability of being class 1, is greater than or equal to 50%, then we put the object class 1, if the predicted probability of being class 1 is less than 50%, then we put the object labeled class 0. For this purpose, we have taken only the first column."
      ]
    },
    {
      "cell_type": "code",
      "execution_count": 104,
      "metadata": {
        "colab": {
          "base_uri": "https://localhost:8080/"
        },
        "id": "OaFbcJFqdxib",
        "outputId": "772d40c6-926b-454c-e60d-ae65e806ee16"
      },
      "outputs": [
        {
          "data": {
            "text/plain": [
              "array([[0.1509434 , 0.8490566 ],\n",
              "       [0.03125   , 0.96875   ],\n",
              "       [1.        , 0.        ],\n",
              "       [1.        , 0.        ],\n",
              "       [1.        , 0.        ],\n",
              "       [1.        , 0.        ],\n",
              "       [0.        , 1.        ],\n",
              "       [0.03370787, 0.96629213],\n",
              "       [0.45454545, 0.54545455]])"
            ]
          },
          "execution_count": 104,
          "metadata": {},
          "output_type": "execute_result"
        }
      ],
      "source": [
        "pred_proba = tree.predict_proba(X_test)\n",
        "pred_proba"
      ]
    },
    {
      "cell_type": "code",
      "execution_count": 105,
      "metadata": {
        "colab": {
          "base_uri": "https://localhost:8080/"
        },
        "id": "RhsKIjAUPWeT",
        "outputId": "7b7802b0-5e86-40bf-c62d-52312f72b116"
      },
      "outputs": [
        {
          "data": {
            "text/plain": [
              "array([1, 1, 0, 0, 0, 0, 1, 1, 1])"
            ]
          },
          "execution_count": 105,
          "metadata": {},
          "output_type": "execute_result"
        }
      ],
      "source": [
        "np.where(pred_proba[:, 1] >= 0.5, 1, 0)"
      ]
    },
    {
      "cell_type": "code",
      "execution_count": 106,
      "metadata": {
        "colab": {
          "base_uri": "https://localhost:8080/"
        },
        "id": "FXcIpxIDP4KG",
        "outputId": "24d518cc-4770-48fa-9cc1-c1740cbfade4"
      },
      "outputs": [
        {
          "data": {
            "text/plain": [
              "array([1, 1, 0, 0, 0, 0, 1, 1, 1])"
            ]
          },
          "execution_count": 106,
          "metadata": {},
          "output_type": "execute_result"
        }
      ],
      "source": [
        "tree.predict(X_test)"
      ]
    },
    {
      "cell_type": "markdown",
      "metadata": {
        "id": "qK3sc7C6PsWL"
      },
      "source": [
        "We got exactly the same predicted class labels as they were after the predict method, so exactly, the default cutoff in predict methods is 0.5."
      ]
    },
    {
      "cell_type": "markdown",
      "metadata": {
        "id": "lB2oLxbQjTDx"
      },
      "source": [
        "## Probability visualization"
      ]
    },
    {
      "cell_type": "markdown",
      "metadata": {
        "id": "Ac6vY4MjSFNn"
      },
      "source": [
        "Let's visualize the probabilities of being class 1 of our 9 objects, with the ordinal number of objects on the abscissa axis and the probability of being class 1 on the ordinate axis, and color them according to the true class label.   \n",
        "Orange are objects of class 0 and blue are objects of class 1.\n",
        "\n",
        "At the same time there is a low probability to be the objects of both the first class and the zero class."
      ]
    },
    {
      "cell_type": "code",
      "execution_count": 107,
      "metadata": {
        "colab": {
          "base_uri": "https://localhost:8080/",
          "height": 290
        },
        "id": "e5fpONI8QKUl",
        "outputId": "82963a7f-2b32-41f5-d95b-bc7015973d37"
      },
      "outputs": [
        {
          "data": {
            "image/png": "[encoded data removed]",
            "text/plain": [
              "<Figure size 640x480 with 1 Axes>"
            ]
          },
          "metadata": {},
          "output_type": "display_data"
        }
      ],
      "source": [
        "class_1 = pred_proba[:, 1][y_test == 1]\n",
        "class_0 = pred_proba[:, 1][y_test == 0]\n",
        "\n",
        "plt.scatter(np.arange(len(class_1)), class_1, label='class_1')\n",
        "plt.scatter(np.arange(len(class_1), len(class_1)+len(class_0)), class_0, label='class_0')\n",
        "plt.title('Probability of being 1st class')\n",
        "plt.legend();"
      ]
    },
    {
      "cell_type": "markdown",
      "metadata": {
        "id": "qgVJ3tCLjbJO"
      },
      "source": [
        "### Cutoff 0.5"
      ]
    },
    {
      "cell_type": "markdown",
      "metadata": {
        "id": "qDgafUs1SX7u"
      },
      "source": [
        "As we have defined, the default cutoff is 0.5. Let's draw it as well.   \n",
        "According to this cutoff, five objects will be classified as class 1, because their predicted probability is greater than 0.5, and four objects will be classified as class 0, because their predicted probabilities are less than 0.5.  \n",
        "In this case, we mistakenly considered two objects of the first class as null classes, predicted their predicted probabilities small (0), and made False Negative errors.  \n",
        "And there is one more object with another False Positive false positive error - it is a null class object, which we mistakenly considered to be a first class object because it was predicted to have a high probability of being a first class object (0.5454)."
      ]
    },
    {
      "cell_type": "code",
      "execution_count": 108,
      "metadata": {
        "colab": {
          "base_uri": "https://localhost:8080/",
          "height": 290
        },
        "id": "cTRduSjuSXWC",
        "outputId": "cc54126c-f9f3-4ad4-8af3-7bcc1f6913cb"
      },
      "outputs": [
        {
          "data": {
            "image/png": "[encoded data removed]",
            "text/plain": [
              "<Figure size 640x480 with 1 Axes>"
            ]
          },
          "metadata": {},
          "output_type": "display_data"
        }
      ],
      "source": [
        "threshold = 0.5\n",
        "class_1 = pred_proba[:, 1][y_test == 1]\n",
        "class_0 = pred_proba[:, 1][y_test == 0]\n",
        "\n",
        "plt.scatter(np.arange(len(class_1)), class_1, label='class_1')\n",
        "plt.scatter(np.arange(len(class_1), len(class_1)+len(class_0)), class_0, label='class_0')\n",
        "plt.plot([-0.2, len(pred_proba[:, 1])], [threshold, threshold], c='b')\n",
        "plt.title('Probability of being 1st class')\n",
        "plt.legend();"
      ]
    },
    {
      "cell_type": "markdown",
      "metadata": {
        "id": "9A_YUxtwaMYe"
      },
      "source": [
        "We can draw the error matrix for this case, we get 2 TN, 4 TP, 1 FP and 2 FN."
      ]
    },
    {
      "cell_type": "code",
      "execution_count": 109,
      "metadata": {
        "colab": {
          "base_uri": "https://localhost:8080/",
          "height": 293
        },
        "id": "icZxvYRyaQw4",
        "outputId": "007ed6d6-819f-4744-854e-7a467da72e6c"
      },
      "outputs": [
        {
          "data": {
            "image/png": "[encoded data removed]",
            "text/plain": [
              "<Figure size 640x480 with 2 Axes>"
            ]
          },
          "metadata": {},
          "output_type": "display_data"
        }
      ],
      "source": [
        "from sklearn.metrics import confusion_matrix\n",
        "\n",
        "\n",
        "pred = np.where(pred_proba[:, 1] >= threshold, 1, 0)\n",
        "\n",
        "cm = confusion_matrix(y_test, pred)\n",
        "f = sns.heatmap(cm, annot=True)\n",
        "plt.ylabel('Groud truth')\n",
        "plt.xlabel('Prediction');"
      ]
    },
    {
      "cell_type": "markdown",
      "metadata": {
        "id": "yg-Gl_9Nqi7c"
      },
      "source": [
        "And now we should talk about the calculation of the ROC-AUC metric. To get it we need to operate with two metrics, which are based on the error matrix - TPR and FPR.\n",
        "\n",
        "\n",
        "**TPR (True Positive Rate)** is the ratio of the number of true positives to the size of the positive class:\n",
        "\n",
        "$$TPR = \\frac{TP}{TP+FN}$$\n",
        "\n",
        "that is, TPR essentially represents completeness - how many times the model correctly found the target class among those people who are actually it.\n",
        "\n",
        "This metric should ideally tend to one.\n",
        "\n",
        "\n",
        "**FPR (False Positive Rate)** - the ratio of the number of false positives to the total size of the negative class:\n",
        "\n",
        "$$FPR = \\frac{FP}{FP+TN}$$\n",
        "\n",
        "and here we have a certain analog of completeness for errors only - how many times the model erroneously found the target class among all people of the non-target class.\n",
        "\n",
        "This metric should ideally tend to zero."
      ]
    },
    {
      "cell_type": "markdown",
      "metadata": {
        "id": "1iifvaeBqtHT"
      },
      "source": [
        "Let's calculate TPR and FPR. Take the values from the error matrix and substitute them into the formulas."
      ]
    },
    {
      "cell_type": "code",
      "execution_count": 110,
      "metadata": {
        "id": "pyvoFZ6sq4Bg"
      },
      "outputs": [],
      "source": [
        "TN = cm[0, 0]\n",
        "FP = cm[0, 1]\n",
        "FN = cm[1, 0]\n",
        "TP = cm[1, 1]"
      ]
    },
    {
      "cell_type": "markdown",
      "metadata": {
        "id": "ObKGRdqkriQ5"
      },
      "source": [
        "We see that TPR, aka recall for the target class at cutoff 0.5 is not bad, and FPR - error recall is sufficient at cutoff 0.5 is small, which is also not bad."
      ]
    },
    {
      "cell_type": "code",
      "execution_count": 111,
      "metadata": {
        "colab": {
          "base_uri": "https://localhost:8080/"
        },
        "id": "t37wVVvjqge0",
        "outputId": "7cc85a8a-489b-4f2a-b934-a2af846b8562"
      },
      "outputs": [
        {
          "name": "stdout",
          "output_type": "stream",
          "text": [
            "TPR 0.6666666666666666\n",
            "FPR 0.3333333333333333\n"
          ]
        }
      ],
      "source": [
        "print('TPR', TP / (TP + FN))\n",
        "print('FPR', FP / (FP + TN))"
      ]
    },
    {
      "cell_type": "markdown",
      "metadata": {
        "id": "w2YnhsP2je6P"
      },
      "source": [
        "### Cutoff 0.6"
      ]
    },
    {
      "cell_type": "markdown",
      "metadata": {
        "id": "wBS0pMMXaKPp"
      },
      "source": [
        "At the same time, we can change the cutoff of 0.5 as we wish.\n",
        "\n",
        "If we want to increase the purity of classification, and thus reduce the FPR, we can raise the cutoff, for example, to 0.6, in this case our False Positive error is removed, because the predicted probability will now be smaller. This means that there are no more false positive errors and FPR will be equal to zero."
      ]
    },
    {
      "cell_type": "code",
      "execution_count": 112,
      "metadata": {
        "colab": {
          "base_uri": "https://localhost:8080/",
          "height": 290
        },
        "id": "qYfB-7UjghPO",
        "outputId": "882783ac-3309-437d-d255-68950b7ec30d"
      },
      "outputs": [
        {
          "data": {
            "image/png": "[encoded data removed]",
            "text/plain": [
              "<Figure size 640x480 with 1 Axes>"
            ]
          },
          "metadata": {},
          "output_type": "display_data"
        }
      ],
      "source": [
        "threshold = 0.6\n",
        "\n",
        "class_1 = pred_proba[:, 1][y_test == 1]\n",
        "class_0 = pred_proba[:, 1][y_test == 0]\n",
        "\n",
        "pred = np.where(pred_proba[:, 1] >= threshold, 1, 0)\n",
        "\n",
        "plt.scatter(np.arange(len(class_1)), class_1, label='class_1')\n",
        "plt.scatter(np.arange(len(class_1), len(class_1)+len(class_0)), class_0, label='class_0')\n",
        "plt.plot([-0.2, len(pred_proba[:, 1])], [threshold, threshold], c='b')\n",
        "plt.title('Probability of being 1st class')\n",
        "plt.legend();"
      ]
    },
    {
      "cell_type": "markdown",
      "metadata": {
        "id": "57VagMEzgyXZ"
      },
      "source": [
        "Let's calculate the error matrix and see that there are no more false alarm errors. And hence FPR - the fraction of false errors is perfect - zero."
      ]
    },
    {
      "cell_type": "code",
      "execution_count": 113,
      "metadata": {
        "colab": {
          "base_uri": "https://localhost:8080/",
          "height": 329
        },
        "id": "nTGEAKcagyXa",
        "outputId": "dada5e9a-d11e-4533-cbce-d0f1bdfd48bd"
      },
      "outputs": [
        {
          "name": "stdout",
          "output_type": "stream",
          "text": [
            "TPR 0.6666666666666666\n",
            "FPR 0.0\n"
          ]
        },
        {
          "data": {
            "image/png": "[encoded data removed]",
            "text/plain": [
              "<Figure size 640x480 with 2 Axes>"
            ]
          },
          "metadata": {},
          "output_type": "display_data"
        }
      ],
      "source": [
        "cm = confusion_matrix(y_test, pred)\n",
        "TN, FP, FN, TP = cm[0, 0], cm[0, 1], cm[1, 0], cm[1, 1]\n",
        "print('TPR', TP / (TP + FN))\n",
        "print('FPR', FP / (FP + TN))\n",
        "\n",
        "f = sns.heatmap(cm, annot=True)\n",
        "plt.ylabel('Groud truth')\n",
        "plt.xlabel('Prediction');"
      ]
    },
    {
      "cell_type": "markdown",
      "metadata": {
        "id": "pfNGwh4cjkLI"
      },
      "source": [
        "### Cutoff 0"
      ]
    },
    {
      "cell_type": "markdown",
      "metadata": {
        "id": "QrKVSet-QVVr"
      },
      "source": [
        "And we can do it in another way: reduce the cutoff to 0, thus we will classify all objects as first class. This means we will find all objects of the first class. There are no more false miss errors, and the TPR or Recall metric will be one."
      ]
    },
    {
      "cell_type": "code",
      "execution_count": 114,
      "metadata": {
        "colab": {
          "base_uri": "https://localhost:8080/",
          "height": 290
        },
        "id": "Jyw4EkFdQVWW",
        "outputId": "1617a6f8-a15c-4420-92d1-9a6125979aaa"
      },
      "outputs": [
        {
          "data": {
            "image/png": "[encoded data removed]",
            "text/plain": [
              "<Figure size 640x480 with 1 Axes>"
            ]
          },
          "metadata": {},
          "output_type": "display_data"
        }
      ],
      "source": [
        "threshold = 0\n",
        "\n",
        "class_1 = pred_proba[:, 1][y_test == 1]\n",
        "class_0 = pred_proba[:, 1][y_test == 0]\n",
        "\n",
        "pred = np.where(pred_proba[:, 1] >= threshold, 1, 0)\n",
        "\n",
        "plt.scatter(np.arange(len(class_1)), class_1, label='class_1')\n",
        "plt.scatter(np.arange(len(class_1), len(class_1)+len(class_0)), class_0, label='class_0')\n",
        "plt.plot([-0.2, len(pred_proba[:, 1])], [threshold, threshold], c='b')\n",
        "plt.title('Probability of being 1st class')\n",
        "plt.legend();"
      ]
    },
    {
      "cell_type": "markdown",
      "metadata": {
        "id": "wSmCwW4LQVWa"
      },
      "source": [
        "Let's calculate the error matrix and now there are no more false omission errors, just as there are no classifications in the null class. But we see that FPR is equal to 1 - this is bad, it means that we made all possible errors in FP predictions."
      ]
    },
    {
      "cell_type": "code",
      "execution_count": 115,
      "metadata": {
        "colab": {
          "base_uri": "https://localhost:8080/",
          "height": 329
        },
        "id": "CEipS6qqQVWb",
        "outputId": "89d02c7b-722e-4727-8b6f-83b07ad76134"
      },
      "outputs": [
        {
          "name": "stdout",
          "output_type": "stream",
          "text": [
            "TPR 1.0\n",
            "FPR 1.0\n"
          ]
        },
        {
          "data": {
            "image/png": "[encoded data removed]",
            "text/plain": [
              "<Figure size 640x480 with 2 Axes>"
            ]
          },
          "metadata": {},
          "output_type": "display_data"
        }
      ],
      "source": [
        "cm = confusion_matrix(y_test, pred)\n",
        "TN, FP, FN, TP = cm[0, 0], cm[0, 1], cm[1, 0], cm[1, 1]\n",
        "print('TPR', TP / (TP + FN))\n",
        "print('FPR', FP / (FP + TN))\n",
        "\n",
        "f = sns.heatmap(cm, annot=True)\n",
        "plt.ylabel('Groud truth')\n",
        "plt.xlabel('Prediction');"
      ]
    },
    {
      "cell_type": "markdown",
      "metadata": {
        "id": "JuqhIJdbjnk3"
      },
      "source": [
        "## ROC-curve"
      ]
    },
    {
      "cell_type": "markdown",
      "metadata": {
        "id": "KZZatbGnRTfT"
      },
      "source": [
        "The ROC-curve and ROC-AUC metric is built on these different cutoffs. It is a curve consisting of points with different cutoffs.  \n",
        "Below is an example of a ROC curve on a training sample. Different cutoffs are selected and the TPR and FPR metrics are counted, then the points are plotted. The line starts at point (0, 0) where FPR is zero and TPR is zero and ends at point (1, 1) where FPR is one and TPR is the same.\n",
        "\n",
        "Ideally, when the ROC-curve passes through the point (0, 1), where the ideal FPR is zero - there is no single FP error, and the same ideal TPR (recall), saying that there is no single FN error, but on real data you will not meet such a thing, only on synthetic artificial samples."
      ]
    },
    {
      "cell_type": "code",
      "execution_count": 116,
      "metadata": {
        "colab": {
          "base_uri": "https://localhost:8080/",
          "height": 287
        },
        "id": "k23IYrEIRcFZ",
        "outputId": "e6a5d70e-b5da-4867-e2c5-6ba002980da5"
      },
      "outputs": [
        {
          "data": {
            "image/png": "[encoded data removed]",
            "text/plain": [
              "<Figure size 640x480 with 1 Axes>"
            ]
          },
          "metadata": {},
          "output_type": "display_data"
        }
      ],
      "source": [
        "from sklearn.metrics import RocCurveDisplay, roc_curve\n",
        "\n",
        "RocCurveDisplay.from_estimator(tree, X_train, y_train)\n",
        "plt.ylim([0, 1.1]);"
      ]
    },
    {
      "cell_type": "markdown",
      "metadata": {
        "id": "n1eXEzZ9Sbzz"
      },
      "source": [
        "Let's calculate the ROC curve on the test sample ourselves.\n",
        "\n",
        "Let's combine the predicted probabilities of being first class and the true target values into a dataframe and sort by sample, small probabilities first, then large probabilities."
      ]
    },
    {
      "cell_type": "code",
      "execution_count": 117,
      "metadata": {
        "colab": {
          "base_uri": "https://localhost:8080/",
          "height": 328
        },
        "id": "J7vHso6gShBi",
        "outputId": "d4bbef5f-b014-494e-9ff7-9790691a3cae"
      },
      "outputs": [
        {
          "data": {
            "text/html": [
              "<div>\n",
              "<style scoped>\n",
              "    .dataframe tbody tr th:only-of-type {\n",
              "        vertical-align: middle;\n",
              "    }\n",
              "\n",
              "    .dataframe tbody tr th {\n",
              "        vertical-align: top;\n",
              "    }\n",
              "\n",
              "    .dataframe thead th {\n",
              "        text-align: right;\n",
              "    }\n",
              "</style>\n",
              "<table border=\"1\" class=\"dataframe\">\n",
              "  <thead>\n",
              "    <tr style=\"text-align: right;\">\n",
              "      <th></th>\n",
              "      <th>proba</th>\n",
              "      <th>label</th>\n",
              "    </tr>\n",
              "  </thead>\n",
              "  <tbody>\n",
              "    <tr>\n",
              "      <th>300</th>\n",
              "      <td>0.000000</td>\n",
              "      <td>0</td>\n",
              "    </tr>\n",
              "    <tr>\n",
              "      <th>262</th>\n",
              "      <td>0.000000</td>\n",
              "      <td>0</td>\n",
              "    </tr>\n",
              "    <tr>\n",
              "      <th>363</th>\n",
              "      <td>0.000000</td>\n",
              "      <td>1</td>\n",
              "    </tr>\n",
              "    <tr>\n",
              "      <th>157</th>\n",
              "      <td>0.000000</td>\n",
              "      <td>1</td>\n",
              "    </tr>\n",
              "    <tr>\n",
              "      <th>99</th>\n",
              "      <td>0.545455</td>\n",
              "      <td>0</td>\n",
              "    </tr>\n",
              "    <tr>\n",
              "      <th>340</th>\n",
              "      <td>0.849057</td>\n",
              "      <td>1</td>\n",
              "    </tr>\n",
              "    <tr>\n",
              "      <th>139</th>\n",
              "      <td>0.966292</td>\n",
              "      <td>1</td>\n",
              "    </tr>\n",
              "    <tr>\n",
              "      <th>382</th>\n",
              "      <td>0.968750</td>\n",
              "      <td>1</td>\n",
              "    </tr>\n",
              "    <tr>\n",
              "      <th>120</th>\n",
              "      <td>1.000000</td>\n",
              "      <td>1</td>\n",
              "    </tr>\n",
              "  </tbody>\n",
              "</table>\n",
              "</div>"
            ],
            "text/plain": [
              "        proba  label\n",
              "300  0.000000      0\n",
              "262  0.000000      0\n",
              "363  0.000000      1\n",
              "157  0.000000      1\n",
              "99   0.545455      0\n",
              "340  0.849057      1\n",
              "139  0.966292      1\n",
              "382  0.968750      1\n",
              "120  1.000000      1"
            ]
          },
          "execution_count": 117,
          "metadata": {},
          "output_type": "execute_result"
        }
      ],
      "source": [
        "df_pred = pd.DataFrame({\n",
        "    'proba': pred_proba[:, 1],\n",
        "    'label': y_test\n",
        "})\n",
        "\n",
        "df_pred = df_pred.sort_values(by='proba')\n",
        "df_pred"
      ]
    },
    {
      "cell_type": "markdown",
      "metadata": {
        "id": "lOzjqKFYTQkQ"
      },
      "source": [
        "Ideally, there should be a cutoff above which there are only objects of the first class and below which there are objects of the zero class, but in our task with such predictions it is not so, we can not draw such a boundary, there will still be either false miss errors (FN), if we set the cutoff to 0.6, or false positive errors (FP), if we set the cutoff to 0."
      ]
    },
    {
      "cell_type": "markdown",
      "metadata": {
        "id": "elRDUQF2jtG0"
      },
      "source": [
        "### Cutoff 1"
      ]
    },
    {
      "cell_type": "markdown",
      "metadata": {
        "id": "Sse1YsI6xFbX"
      },
      "source": [
        "Still, let's proceed to the construction of the ROC-curve and start by calculating the luck of the metrics at the highest cutoff equal to 1.  \n",
        "In this case, 8 out of 9 objects will be classified as zero class, because they all have predicted probability less than 1 and only one object with a cutoff of 1 will be classified by the model as the first class."
      ]
    },
    {
      "cell_type": "code",
      "execution_count": 118,
      "metadata": {
        "colab": {
          "base_uri": "https://localhost:8080/",
          "height": 328
        },
        "id": "kBfyNM4yxzb4",
        "outputId": "9fc16c05-6188-4d81-d96c-ffcfdab3026d"
      },
      "outputs": [
        {
          "data": {
            "text/html": [
              "<div>\n",
              "<style scoped>\n",
              "    .dataframe tbody tr th:only-of-type {\n",
              "        vertical-align: middle;\n",
              "    }\n",
              "\n",
              "    .dataframe tbody tr th {\n",
              "        vertical-align: top;\n",
              "    }\n",
              "\n",
              "    .dataframe thead th {\n",
              "        text-align: right;\n",
              "    }\n",
              "</style>\n",
              "<table border=\"1\" class=\"dataframe\">\n",
              "  <thead>\n",
              "    <tr style=\"text-align: right;\">\n",
              "      <th></th>\n",
              "      <th>proba</th>\n",
              "      <th>label</th>\n",
              "      <th>pred_label</th>\n",
              "    </tr>\n",
              "  </thead>\n",
              "  <tbody>\n",
              "    <tr>\n",
              "      <th>300</th>\n",
              "      <td>0.000000</td>\n",
              "      <td>0</td>\n",
              "      <td>0</td>\n",
              "    </tr>\n",
              "    <tr>\n",
              "      <th>262</th>\n",
              "      <td>0.000000</td>\n",
              "      <td>0</td>\n",
              "      <td>0</td>\n",
              "    </tr>\n",
              "    <tr>\n",
              "      <th>363</th>\n",
              "      <td>0.000000</td>\n",
              "      <td>1</td>\n",
              "      <td>0</td>\n",
              "    </tr>\n",
              "    <tr>\n",
              "      <th>157</th>\n",
              "      <td>0.000000</td>\n",
              "      <td>1</td>\n",
              "      <td>0</td>\n",
              "    </tr>\n",
              "    <tr>\n",
              "      <th>99</th>\n",
              "      <td>0.545455</td>\n",
              "      <td>0</td>\n",
              "      <td>0</td>\n",
              "    </tr>\n",
              "    <tr>\n",
              "      <th>340</th>\n",
              "      <td>0.849057</td>\n",
              "      <td>1</td>\n",
              "      <td>0</td>\n",
              "    </tr>\n",
              "    <tr>\n",
              "      <th>139</th>\n",
              "      <td>0.966292</td>\n",
              "      <td>1</td>\n",
              "      <td>0</td>\n",
              "    </tr>\n",
              "    <tr>\n",
              "      <th>382</th>\n",
              "      <td>0.968750</td>\n",
              "      <td>1</td>\n",
              "      <td>0</td>\n",
              "    </tr>\n",
              "    <tr>\n",
              "      <th>120</th>\n",
              "      <td>1.000000</td>\n",
              "      <td>1</td>\n",
              "      <td>1</td>\n",
              "    </tr>\n",
              "  </tbody>\n",
              "</table>\n",
              "</div>"
            ],
            "text/plain": [
              "        proba  label  pred_label\n",
              "300  0.000000      0           0\n",
              "262  0.000000      0           0\n",
              "363  0.000000      1           0\n",
              "157  0.000000      1           0\n",
              "99   0.545455      0           0\n",
              "340  0.849057      1           0\n",
              "139  0.966292      1           0\n",
              "382  0.968750      1           0\n",
              "120  1.000000      1           1"
            ]
          },
          "execution_count": 118,
          "metadata": {},
          "output_type": "execute_result"
        }
      ],
      "source": [
        "threshold = 1\n",
        "df_pred['pred_label'] = (df_pred['proba'] >= threshold).astype('int')\n",
        "\n",
        "df_pred"
      ]
    },
    {
      "cell_type": "markdown",
      "metadata": {
        "id": "_Z9eewSsyw5I"
      },
      "source": [
        "We get that TPR will be $\\frac{TP}{TP + FN} = \\frac{1}{1 + 5} = 0.167$, because we found only one unit out of 6 possible units.\n",
        "\n",
        "And FPR would be $\\frac{FP}{FP + TN} = \\frac{0}{0 + 3} = 0$"
      ]
    },
    {
      "cell_type": "code",
      "execution_count": 119,
      "metadata": {
        "colab": {
          "base_uri": "https://localhost:8080/",
          "height": 325
        },
        "id": "fojqA9jYyDUm",
        "outputId": "b6de3c25-a979-47c0-b1dd-99ec476c1ae3"
      },
      "outputs": [
        {
          "name": "stdout",
          "output_type": "stream",
          "text": [
            "TPR 0.16666666666666666\n",
            "FPR 0.0\n"
          ]
        },
        {
          "data": {
            "image/png": "[encoded data removed]",
            "text/plain": [
              "<Figure size 640x480 with 1 Axes>"
            ]
          },
          "metadata": {},
          "output_type": "display_data"
        }
      ],
      "source": [
        "class_1 = df_pred[df_pred.label == 1]\n",
        "class_0 = df_pred[df_pred.label == 0]\n",
        "\n",
        "cm = confusion_matrix(df_pred['label'], df_pred['pred_label'])\n",
        "TN, FP, FN, TP = cm[0, 0], cm[0, 1], cm[1, 0], cm[1, 1]\n",
        "TPR = TP / (TP + FN)\n",
        "FPR = FP / (FP + TN)\n",
        "print('TPR', TPR)\n",
        "print('FPR', FPR)\n",
        "\n",
        "plt.scatter(np.arange(len(class_1)), class_1['proba'], label='class_1')\n",
        "plt.scatter(np.arange(len(class_1), len(class_1)+len(class_0)), class_0['proba'], label='class_0')\n",
        "plt.plot([-0.2, len(df_pred)], [threshold, threshold], c='b')\n",
        "plt.title('Probability of being 1st class')\n",
        "plt.legend();"
      ]
    },
    {
      "cell_type": "markdown",
      "metadata": {
        "id": "k5CmPpn6zVVy"
      },
      "source": [
        "These values of FPR and TPR give us the first point, (0.167, 0)."
      ]
    },
    {
      "cell_type": "code",
      "execution_count": 120,
      "metadata": {
        "id": "yY0PbGR8z4pQ"
      },
      "outputs": [],
      "source": [
        "TPRs = [0]\n",
        "FPRs = [0]"
      ]
    },
    {
      "cell_type": "code",
      "execution_count": 121,
      "metadata": {
        "colab": {
          "base_uri": "https://localhost:8080/",
          "height": 307
        },
        "id": "9oMHVSXd0KBL",
        "outputId": "8a27dd47-be6e-474a-b436-dc73d3774236"
      },
      "outputs": [
        {
          "data": {
            "image/png": "[encoded data removed]",
            "text/plain": [
              "<Figure size 640x480 with 1 Axes>"
            ]
          },
          "metadata": {},
          "output_type": "display_data"
        }
      ],
      "source": [
        "TPRs.append(TPR)\n",
        "FPRs.append(FPR)\n",
        "\n",
        "plt.plot(FPRs, TPRs, marker='o')\n",
        "plt.ylim([0, 1.1]);plt.xlim([0, 1.1])\n",
        "plt.xlabel('FPR');plt.ylabel('TPR')\n",
        "plt.title('ROC_curve');"
      ]
    },
    {
      "cell_type": "markdown",
      "metadata": {
        "id": "tzNmnfGajwcc"
      },
      "source": [
        "### Cutoff 0.84"
      ]
    },
    {
      "cell_type": "markdown",
      "metadata": {
        "id": "xZHQXiMN04q2"
      },
      "source": [
        "We reduce the cutoff to the point where we have found all TP up to the first FP, i.e. this cutoff value is 0.84. If we had taken a cutoff greater than this value, but less than 1, the curve would not change in any way, TPR would increase, but FPR would be equal to zero, the points would be on the same line.\n",
        "\n",
        "Now 5 out of 9 objects will be classified as class zero, and 4 objects have a sample greater than our cutoff, so they will be classified as class one."
      ]
    },
    {
      "cell_type": "code",
      "execution_count": 122,
      "metadata": {
        "colab": {
          "base_uri": "https://localhost:8080/",
          "height": 325
        },
        "id": "7FSNiXxH04rl",
        "outputId": "9e3bcf50-9a1a-469f-9ba8-d40516a8e229"
      },
      "outputs": [
        {
          "data": {
            "text/html": [
              "<div>\n",
              "<style scoped>\n",
              "    .dataframe tbody tr th:only-of-type {\n",
              "        vertical-align: middle;\n",
              "    }\n",
              "\n",
              "    .dataframe tbody tr th {\n",
              "        vertical-align: top;\n",
              "    }\n",
              "\n",
              "    .dataframe thead th {\n",
              "        text-align: right;\n",
              "    }\n",
              "</style>\n",
              "<table border=\"1\" class=\"dataframe\">\n",
              "  <thead>\n",
              "    <tr style=\"text-align: right;\">\n",
              "      <th></th>\n",
              "      <th>proba</th>\n",
              "      <th>label</th>\n",
              "      <th>pred_label</th>\n",
              "    </tr>\n",
              "  </thead>\n",
              "  <tbody>\n",
              "    <tr>\n",
              "      <th>300</th>\n",
              "      <td>0.000000</td>\n",
              "      <td>0</td>\n",
              "      <td>0</td>\n",
              "    </tr>\n",
              "    <tr>\n",
              "      <th>262</th>\n",
              "      <td>0.000000</td>\n",
              "      <td>0</td>\n",
              "      <td>0</td>\n",
              "    </tr>\n",
              "    <tr>\n",
              "      <th>363</th>\n",
              "      <td>0.000000</td>\n",
              "      <td>1</td>\n",
              "      <td>0</td>\n",
              "    </tr>\n",
              "    <tr>\n",
              "      <th>157</th>\n",
              "      <td>0.000000</td>\n",
              "      <td>1</td>\n",
              "      <td>0</td>\n",
              "    </tr>\n",
              "    <tr>\n",
              "      <th>99</th>\n",
              "      <td>0.545455</td>\n",
              "      <td>0</td>\n",
              "      <td>0</td>\n",
              "    </tr>\n",
              "    <tr>\n",
              "      <th>340</th>\n",
              "      <td>0.849057</td>\n",
              "      <td>1</td>\n",
              "      <td>1</td>\n",
              "    </tr>\n",
              "    <tr>\n",
              "      <th>139</th>\n",
              "      <td>0.966292</td>\n",
              "      <td>1</td>\n",
              "      <td>1</td>\n",
              "    </tr>\n",
              "    <tr>\n",
              "      <th>382</th>\n",
              "      <td>0.968750</td>\n",
              "      <td>1</td>\n",
              "      <td>1</td>\n",
              "    </tr>\n",
              "    <tr>\n",
              "      <th>120</th>\n",
              "      <td>1.000000</td>\n",
              "      <td>1</td>\n",
              "      <td>1</td>\n",
              "    </tr>\n",
              "  </tbody>\n",
              "</table>\n",
              "</div>"
            ],
            "text/plain": [
              "        proba  label  pred_label\n",
              "300  0.000000      0           0\n",
              "262  0.000000      0           0\n",
              "363  0.000000      1           0\n",
              "157  0.000000      1           0\n",
              "99   0.545455      0           0\n",
              "340  0.849057      1           1\n",
              "139  0.966292      1           1\n",
              "382  0.968750      1           1\n",
              "120  1.000000      1           1"
            ]
          },
          "execution_count": 122,
          "metadata": {},
          "output_type": "execute_result"
        }
      ],
      "source": [
        "threshold = 0.84\n",
        "df_pred['pred_label'] = (df_pred['proba'] >= threshold).astype('int')\n",
        "\n",
        "df_pred"
      ]
    },
    {
      "cell_type": "markdown",
      "metadata": {
        "id": "zjyLdiyg04rp"
      },
      "source": [
        "TPR will be $\\frac{TP}{TP + FN} = \\frac{4}{4 + 2} = 0.667$, because we found 4 units out of 6 possible units.\n",
        "\n",
        "And FPR would be $\\frac{FP}{FP + TN} = \\frac{0}{0 + 3} = 0$, there is no misclassification of FP yet."
      ]
    },
    {
      "cell_type": "code",
      "execution_count": 123,
      "metadata": {
        "colab": {
          "base_uri": "https://localhost:8080/",
          "height": 326
        },
        "id": "jbRQ8KK-04rq",
        "outputId": "90e8bee9-a8c6-40c0-e904-6670f495fe15"
      },
      "outputs": [
        {
          "name": "stdout",
          "output_type": "stream",
          "text": [
            "TPR 0.6666666666666666\n",
            "FPR 0.0\n"
          ]
        },
        {
          "data": {
            "image/png": "[encoded data removed]",
            "text/plain": [
              "<Figure size 640x480 with 1 Axes>"
            ]
          },
          "metadata": {},
          "output_type": "display_data"
        }
      ],
      "source": [
        "class_1 = df_pred[df_pred.label == 1]\n",
        "class_0 = df_pred[df_pred.label == 0]\n",
        "\n",
        "cm = confusion_matrix(df_pred['label'], df_pred['pred_label'])\n",
        "TN, FP, FN, TP = cm[0, 0], cm[0, 1], cm[1, 0], cm[1, 1]\n",
        "TPR = TP / (TP + FN)\n",
        "FPR = FP / (FP + TN)\n",
        "print('TPR', TPR)\n",
        "print('FPR', FPR)\n",
        "\n",
        "plt.scatter(np.arange(len(class_1)), class_1['proba'], label='class_1')\n",
        "plt.scatter(np.arange(len(class_1), len(class_1)+len(class_0)), class_0['proba'], label='class_0')\n",
        "plt.plot([-0.2, len(df_pred)], [threshold, threshold], c='b')\n",
        "plt.title('Probability of being 1st class')\n",
        "plt.legend();"
      ]
    },
    {
      "cell_type": "markdown",
      "metadata": {
        "id": "f0GsSy4W04rs"
      },
      "source": [
        "These FPR and TPR values give us the second point, (0.667, 0)."
      ]
    },
    {
      "cell_type": "code",
      "execution_count": 124,
      "metadata": {
        "colab": {
          "base_uri": "https://localhost:8080/",
          "height": 307
        },
        "id": "Yps4gQ_804ru",
        "outputId": "7744e312-7ace-42b2-b832-916483791b94"
      },
      "outputs": [
        {
          "data": {
            "image/png": "[encoded data removed]",
            "text/plain": [
              "<Figure size 640x480 with 1 Axes>"
            ]
          },
          "metadata": {},
          "output_type": "display_data"
        }
      ],
      "source": [
        "TPRs.append(TPR)\n",
        "FPRs.append(FPR)\n",
        "\n",
        "plt.plot(FPRs, TPRs, marker='o')\n",
        "plt.ylim([0, 1.1]);plt.xlim([0, 1.1])\n",
        "plt.xlabel('FPR');plt.ylabel('TPR')\n",
        "plt.title('ROC_curve');"
      ]
    },
    {
      "cell_type": "markdown",
      "metadata": {
        "id": "M-dpd3kdjzMF"
      },
      "source": [
        "### Cutoff 0.54"
      ]
    },
    {
      "cell_type": "markdown",
      "metadata": {
        "id": "0xJCqlUd1vtn"
      },
      "source": [
        "We go further and lower the cutoff to 0.54 to allow for the first FP error and change the value of the FPR metric.\n",
        "\n",
        "Now 4 out of 9 objects will be classified as class zero and 5 objects will be categorized as class one."
      ]
    },
    {
      "cell_type": "code",
      "execution_count": 125,
      "metadata": {
        "colab": {
          "base_uri": "https://localhost:8080/",
          "height": 325
        },
        "id": "jPRWKDO41vt4",
        "outputId": "e75266f3-ac95-4c25-b8d8-1e277f46832f"
      },
      "outputs": [
        {
          "data": {
            "text/html": [
              "<div>\n",
              "<style scoped>\n",
              "    .dataframe tbody tr th:only-of-type {\n",
              "        vertical-align: middle;\n",
              "    }\n",
              "\n",
              "    .dataframe tbody tr th {\n",
              "        vertical-align: top;\n",
              "    }\n",
              "\n",
              "    .dataframe thead th {\n",
              "        text-align: right;\n",
              "    }\n",
              "</style>\n",
              "<table border=\"1\" class=\"dataframe\">\n",
              "  <thead>\n",
              "    <tr style=\"text-align: right;\">\n",
              "      <th></th>\n",
              "      <th>proba</th>\n",
              "      <th>label</th>\n",
              "      <th>pred_label</th>\n",
              "    </tr>\n",
              "  </thead>\n",
              "  <tbody>\n",
              "    <tr>\n",
              "      <th>300</th>\n",
              "      <td>0.000000</td>\n",
              "      <td>0</td>\n",
              "      <td>0</td>\n",
              "    </tr>\n",
              "    <tr>\n",
              "      <th>262</th>\n",
              "      <td>0.000000</td>\n",
              "      <td>0</td>\n",
              "      <td>0</td>\n",
              "    </tr>\n",
              "    <tr>\n",
              "      <th>363</th>\n",
              "      <td>0.000000</td>\n",
              "      <td>1</td>\n",
              "      <td>0</td>\n",
              "    </tr>\n",
              "    <tr>\n",
              "      <th>157</th>\n",
              "      <td>0.000000</td>\n",
              "      <td>1</td>\n",
              "      <td>0</td>\n",
              "    </tr>\n",
              "    <tr>\n",
              "      <th>99</th>\n",
              "      <td>0.545455</td>\n",
              "      <td>0</td>\n",
              "      <td>1</td>\n",
              "    </tr>\n",
              "    <tr>\n",
              "      <th>340</th>\n",
              "      <td>0.849057</td>\n",
              "      <td>1</td>\n",
              "      <td>1</td>\n",
              "    </tr>\n",
              "    <tr>\n",
              "      <th>139</th>\n",
              "      <td>0.966292</td>\n",
              "      <td>1</td>\n",
              "      <td>1</td>\n",
              "    </tr>\n",
              "    <tr>\n",
              "      <th>382</th>\n",
              "      <td>0.968750</td>\n",
              "      <td>1</td>\n",
              "      <td>1</td>\n",
              "    </tr>\n",
              "    <tr>\n",
              "      <th>120</th>\n",
              "      <td>1.000000</td>\n",
              "      <td>1</td>\n",
              "      <td>1</td>\n",
              "    </tr>\n",
              "  </tbody>\n",
              "</table>\n",
              "</div>"
            ],
            "text/plain": [
              "        proba  label  pred_label\n",
              "300  0.000000      0           0\n",
              "262  0.000000      0           0\n",
              "363  0.000000      1           0\n",
              "157  0.000000      1           0\n",
              "99   0.545455      0           1\n",
              "340  0.849057      1           1\n",
              "139  0.966292      1           1\n",
              "382  0.968750      1           1\n",
              "120  1.000000      1           1"
            ]
          },
          "execution_count": 125,
          "metadata": {},
          "output_type": "execute_result"
        }
      ],
      "source": [
        "threshold = 0.54\n",
        "df_pred['pred_label'] = (df_pred['proba'] >= threshold).astype('int')\n",
        "\n",
        "df_pred"
      ]
    },
    {
      "cell_type": "markdown",
      "metadata": {
        "id": "FSZtPt991vt6"
      },
      "source": [
        "TPR has not changed in any way, no new TP has been found and TPR will be equal to $\\frac{TP}{TP + FN} = \\frac{4}{4 + 2} = 0.667$.\n",
        "\n",
        "And the completeness for the negative class became larger, FPR would be $\\frac{FP}{FP + TN} = \\frac{1}{1 + 2} = 0.334$"
      ]
    },
    {
      "cell_type": "code",
      "execution_count": 126,
      "metadata": {
        "colab": {
          "base_uri": "https://localhost:8080/",
          "height": 326
        },
        "id": "Em0xB0Rg1vt7",
        "outputId": "ae677795-5b05-48ca-c950-4846f5cc58af"
      },
      "outputs": [
        {
          "name": "stdout",
          "output_type": "stream",
          "text": [
            "TPR 0.6666666666666666\n",
            "FPR 0.3333333333333333\n"
          ]
        },
        {
          "data": {
            "image/png": "[encoded data removed]",
            "text/plain": [
              "<Figure size 640x480 with 1 Axes>"
            ]
          },
          "metadata": {},
          "output_type": "display_data"
        }
      ],
      "source": [
        "class_1 = df_pred[df_pred.label == 1]\n",
        "class_0 = df_pred[df_pred.label == 0]\n",
        "\n",
        "cm = confusion_matrix(df_pred['label'], df_pred['pred_label'])\n",
        "TN, FP, FN, TP = cm[0, 0], cm[0, 1], cm[1, 0], cm[1, 1]\n",
        "TPR = TP / (TP + FN)\n",
        "FPR = FP / (FP + TN)\n",
        "print('TPR', TPR)\n",
        "print('FPR', FPR)\n",
        "\n",
        "plt.scatter(np.arange(len(class_1)), class_1['proba'], label='class_1')\n",
        "plt.scatter(np.arange(len(class_1), len(class_1)+len(class_0)), class_0['proba'], label='class_0')\n",
        "plt.plot([-0.2, len(df_pred)], [threshold, threshold], c='b')\n",
        "plt.title('Probability of being 1st class')\n",
        "plt.legend();"
      ]
    },
    {
      "cell_type": "markdown",
      "metadata": {
        "id": "Akb2YgeE1vt8"
      },
      "source": [
        "These FPR and TPR values give us the third point, (0.334, 0.667)."
      ]
    },
    {
      "cell_type": "code",
      "execution_count": 127,
      "metadata": {
        "colab": {
          "base_uri": "https://localhost:8080/",
          "height": 307
        },
        "id": "uahcDjl_1vt9",
        "outputId": "f4d6eb9d-eef1-4e71-809c-f1a75026131b"
      },
      "outputs": [
        {
          "data": {
            "image/png": "[encoded data removed]",
            "text/plain": [
              "<Figure size 640x480 with 1 Axes>"
            ]
          },
          "metadata": {},
          "output_type": "display_data"
        }
      ],
      "source": [
        "TPRs.append(TPR)\n",
        "FPRs.append(FPR)\n",
        "\n",
        "plt.plot(FPRs, TPRs, marker='o')\n",
        "plt.ylim([0, 1.1]);plt.xlim([0, 1.1])\n",
        "plt.xlabel('FPR');plt.ylabel('TPR')\n",
        "plt.title('ROC_curve');"
      ]
    },
    {
      "cell_type": "markdown",
      "metadata": {
        "id": "K89J0ScKj1jM"
      },
      "source": [
        "### Cutoff 0"
      ]
    },
    {
      "cell_type": "markdown",
      "metadata": {
        "id": "iQt7wuGh2NWa"
      },
      "source": [
        "Now we change the cutoff again to the value where all units are found before the new FP error appears, i.e. to 0.\n",
        "\n",
        "Now all objects will be classified as first class."
      ]
    },
    {
      "cell_type": "code",
      "execution_count": 128,
      "metadata": {
        "colab": {
          "base_uri": "https://localhost:8080/",
          "height": 325
        },
        "id": "aCfOU6yF2NXK",
        "outputId": "a60347d4-0510-41d6-bc99-74ddb4a5f1df"
      },
      "outputs": [
        {
          "data": {
            "text/html": [
              "<div>\n",
              "<style scoped>\n",
              "    .dataframe tbody tr th:only-of-type {\n",
              "        vertical-align: middle;\n",
              "    }\n",
              "\n",
              "    .dataframe tbody tr th {\n",
              "        vertical-align: top;\n",
              "    }\n",
              "\n",
              "    .dataframe thead th {\n",
              "        text-align: right;\n",
              "    }\n",
              "</style>\n",
              "<table border=\"1\" class=\"dataframe\">\n",
              "  <thead>\n",
              "    <tr style=\"text-align: right;\">\n",
              "      <th></th>\n",
              "      <th>proba</th>\n",
              "      <th>label</th>\n",
              "      <th>pred_label</th>\n",
              "    </tr>\n",
              "  </thead>\n",
              "  <tbody>\n",
              "    <tr>\n",
              "      <th>300</th>\n",
              "      <td>0.000000</td>\n",
              "      <td>0</td>\n",
              "      <td>1</td>\n",
              "    </tr>\n",
              "    <tr>\n",
              "      <th>262</th>\n",
              "      <td>0.000000</td>\n",
              "      <td>0</td>\n",
              "      <td>1</td>\n",
              "    </tr>\n",
              "    <tr>\n",
              "      <th>363</th>\n",
              "      <td>0.000000</td>\n",
              "      <td>1</td>\n",
              "      <td>1</td>\n",
              "    </tr>\n",
              "    <tr>\n",
              "      <th>157</th>\n",
              "      <td>0.000000</td>\n",
              "      <td>1</td>\n",
              "      <td>1</td>\n",
              "    </tr>\n",
              "    <tr>\n",
              "      <th>99</th>\n",
              "      <td>0.545455</td>\n",
              "      <td>0</td>\n",
              "      <td>1</td>\n",
              "    </tr>\n",
              "    <tr>\n",
              "      <th>340</th>\n",
              "      <td>0.849057</td>\n",
              "      <td>1</td>\n",
              "      <td>1</td>\n",
              "    </tr>\n",
              "    <tr>\n",
              "      <th>139</th>\n",
              "      <td>0.966292</td>\n",
              "      <td>1</td>\n",
              "      <td>1</td>\n",
              "    </tr>\n",
              "    <tr>\n",
              "      <th>382</th>\n",
              "      <td>0.968750</td>\n",
              "      <td>1</td>\n",
              "      <td>1</td>\n",
              "    </tr>\n",
              "    <tr>\n",
              "      <th>120</th>\n",
              "      <td>1.000000</td>\n",
              "      <td>1</td>\n",
              "      <td>1</td>\n",
              "    </tr>\n",
              "  </tbody>\n",
              "</table>\n",
              "</div>"
            ],
            "text/plain": [
              "        proba  label  pred_label\n",
              "300  0.000000      0           1\n",
              "262  0.000000      0           1\n",
              "363  0.000000      1           1\n",
              "157  0.000000      1           1\n",
              "99   0.545455      0           1\n",
              "340  0.849057      1           1\n",
              "139  0.966292      1           1\n",
              "382  0.968750      1           1\n",
              "120  1.000000      1           1"
            ]
          },
          "execution_count": 128,
          "metadata": {},
          "output_type": "execute_result"
        }
      ],
      "source": [
        "threshold = 0\n",
        "df_pred['pred_label'] = (df_pred['proba'] >= threshold).astype('int')\n",
        "\n",
        "df_pred"
      ]
    },
    {
      "cell_type": "markdown",
      "metadata": {
        "id": "he0aRo0f2NXN"
      },
      "source": [
        "TPR is perfect, since all objects of the first class are found, it is equal to $\\frac{TP}{TP + FN} = \\frac{6}{6 + 0} = 1$.\n",
        "\n",
        "And similarly for the negative class, all potential errors are found, FPR is $\\frac{FP}{FP + TN} = \\frac{3}{3 + 0} = 1$"
      ]
    },
    {
      "cell_type": "code",
      "execution_count": 129,
      "metadata": {
        "colab": {
          "base_uri": "https://localhost:8080/",
          "height": 326
        },
        "id": "23aHiWic2NXP",
        "outputId": "019f067f-b366-4bea-b0b5-0e1c9bd88b9f"
      },
      "outputs": [
        {
          "name": "stdout",
          "output_type": "stream",
          "text": [
            "TPR 1.0\n",
            "FPR 1.0\n"
          ]
        },
        {
          "data": {
            "image/png": "[encoded data removed]",
            "text/plain": [
              "<Figure size 640x480 with 1 Axes>"
            ]
          },
          "metadata": {},
          "output_type": "display_data"
        }
      ],
      "source": [
        "class_1 = df_pred[df_pred.label == 1]\n",
        "class_0 = df_pred[df_pred.label == 0]\n",
        "\n",
        "cm = confusion_matrix(df_pred['label'], df_pred['pred_label'])\n",
        "TN, FP, FN, TP = cm[0, 0], cm[0, 1], cm[1, 0], cm[1, 1]\n",
        "TPR = TP / (TP + FN)\n",
        "FPR = FP / (FP + TN)\n",
        "print('TPR', TPR)\n",
        "print('FPR', FPR)\n",
        "\n",
        "plt.scatter(np.arange(len(class_1)), class_1['proba'], label='class_1')\n",
        "plt.scatter(np.arange(len(class_1), len(class_1)+len(class_0)), class_0['proba'], label='class_0')\n",
        "plt.plot([-0.2, len(df_pred)], [threshold, threshold], c='b')\n",
        "plt.title('Probability of being 1st class')\n",
        "plt.legend();"
      ]
    },
    {
      "cell_type": "markdown",
      "metadata": {
        "id": "PNZwHn682NXQ"
      },
      "source": [
        "These values of FPR and TPR give us the fourth point, (1, 1)."
      ]
    },
    {
      "cell_type": "code",
      "execution_count": 130,
      "metadata": {
        "colab": {
          "base_uri": "https://localhost:8080/",
          "height": 307
        },
        "id": "yEmkZbpE2NXS",
        "outputId": "9ed4afde-7e9f-48d9-f80c-5e9ead653e1c"
      },
      "outputs": [
        {
          "data": {
            "image/png": "[encoded data removed]",
            "text/plain": [
              "<Figure size 640x480 with 1 Axes>"
            ]
          },
          "metadata": {},
          "output_type": "display_data"
        }
      ],
      "source": [
        "TPRs.append(TPR)\n",
        "FPRs.append(FPR)\n",
        "\n",
        "plt.plot(FPRs, TPRs, marker='o')\n",
        "plt.ylim([0, 1.1]);plt.xlim([0, 1.1])\n",
        "plt.xlabel('FPR');plt.ylabel('TPR')\n",
        "plt.title('ROC_curve');"
      ]
    },
    {
      "cell_type": "markdown",
      "metadata": {
        "id": "GBndtY01AqI-"
      },
      "source": [
        "We could get the same curve through sklearn if we call the `roc_curve` function, its output is a list of FPR metrics, a list of TPR metrics, and a list of cutoffs."
      ]
    },
    {
      "cell_type": "code",
      "execution_count": 131,
      "metadata": {
        "colab": {
          "base_uri": "https://localhost:8080/",
          "height": 307
        },
        "id": "-oCxddARzbqD",
        "outputId": "ef2187b9-aa62-40b1-f42b-5ab75a89765c"
      },
      "outputs": [
        {
          "data": {
            "image/png": "[encoded data removed]",
            "text/plain": [
              "<Figure size 640x480 with 1 Axes>"
            ]
          },
          "metadata": {},
          "output_type": "display_data"
        }
      ],
      "source": [
        "fprs, tprs, thr = roc_curve(y_test, pred_proba[:, 1])\n",
        "\n",
        "plt.plot(fprs, tprs, marker='o')\n",
        "plt.ylim([0, 1.1]);plt.xlim([0, 1.1])\n",
        "plt.xlabel('FPR');plt.ylabel('TPR')\n",
        "plt.title('ROC_curve');"
      ]
    },
    {
      "cell_type": "markdown",
      "metadata": {
        "id": "VTZxvGswkD1b"
      },
      "source": [
        "## ROC-AUC"
      ]
    },
    {
      "cell_type": "markdown",
      "metadata": {
        "id": "rhPNccfWCaUf"
      },
      "source": [
        "We can also find out the area under the curves, the results will be the same.  \n",
        "In this case we calculate the area through the function `auc` (area under curve) from `sklearn`.\n",
        "\n",
        "We get the same ROC-AUC metrics for our problem."
      ]
    },
    {
      "cell_type": "code",
      "execution_count": 132,
      "metadata": {
        "colab": {
          "base_uri": "https://localhost:8080/"
        },
        "id": "5gRI7NMKA9_n",
        "outputId": "36bd7836-65fb-4b8d-e601-82938c326b37"
      },
      "outputs": [
        {
          "data": {
            "text/plain": [
              "(0.7777777777777778, 0.7777777777777778)"
            ]
          },
          "execution_count": 132,
          "metadata": {},
          "output_type": "execute_result"
        }
      ],
      "source": [
        "from sklearn.metrics import auc\n",
        "\n",
        "auc(fprs, tprs), auc(FPRs, TPRs)"
      ]
    },
    {
      "cell_type": "markdown",
      "metadata": {
        "id": "IoHK1woXcHkk"
      },
      "source": [
        "# Summary"
      ]
    },
    {
      "cell_type": "markdown",
      "metadata": {
        "id": "R4KYbNBiKOIo"
      },
      "source": [
        "<table>\n",
        "\n",
        "<tr>\n",
        "<td>\n",
        "\n",
        "<b>Metric</b>\n",
        "\n",
        "</td>\n",
        "\n",
        "<td>\n",
        "\n",
        "<b>Definition area</b>\n",
        "\n",
        "</td>\n",
        "\n",
        "<td>\n",
        "\n",
        "<b>Ideal</b>\n",
        "\n",
        "</td>\n",
        "\n",
        "</tr>\n",
        "\n",
        "<tr>\n",
        "<td>\n",
        "\n",
        "ROC-curve\n",
        "\n",
        "</td>\n",
        "\n",
        "<td>\n",
        "\n",
        "the curve starts at point (0,0)<br>and ends at point (1, 1).\n",
        "\n",
        "</td>\n",
        "\n",
        "<td>\n",
        "\n",
        "The higher the curve, the better the algorithm.\n",
        "\n",
        "</td>\n",
        "\n",
        "</tr>\n",
        "\n",
        "\n",
        "\n",
        "<tr>\n",
        "<td>\n",
        "\n",
        "ROC-AUC\n",
        "\n",
        "</td>\n",
        "\n",
        "<td>\n",
        "\n",
        "[0, 1]\n",
        "\n",
        "</td>\n",
        "\n",
        "<td>\n",
        "\n",
        "1\n",
        "\n",
        "</td>\n",
        "\n",
        "</tr>\n",
        "\n",
        "\n",
        "<table>"
      ]
    }
  ],
  "metadata": {
    "colab": {
      "provenance": [],
      "toc_visible": true
    },
    "kernelspec": {
      "display_name": "Python 3",
      "language": "python",
      "name": "python3"
    },
    "language_info": {
      "codemirror_mode": {
        "name": "ipython",
        "version": 3
      },
      "file_extension": ".py",
      "mimetype": "text/x-python",
      "name": "python",
      "nbconvert_exporter": "python",
      "pygments_lexer": "ipython3",
      "version": "3.11.5"
    }
  },
  "nbformat": 4,
  "nbformat_minor": 0
}
