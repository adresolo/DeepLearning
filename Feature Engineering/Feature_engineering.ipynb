{
 "cells": [
  {
   "cell_type": "markdown",
   "metadata": {
    "id": "RNFL5iwdwkyC"
   },
   "source": [
    "# Credit scoring"
   ]
  },
  {
   "cell_type": "markdown",
   "metadata": {
    "id": "sreSSTXSwoSC"
   },
   "source": [
    "There is a [tutorial competition on Kaggle](https://www.kaggle.com/competitions/bank-issues-042022/leaderboard) for this task."
   ]
  },
  {
   "cell_type": "markdown",
   "metadata": {
    "id": "FjWcFtoeE0GF"
   },
   "source": [
    "## Downloading data"
   ]
  },
  {
   "cell_type": "markdown",
   "metadata": {
    "id": "ZHLrVVaFw6gb"
   },
   "source": [
    "Download the data and import the required libraries"
   ]
  },
  {
   "cell_type": "code",
   "execution_count": 1,
   "metadata": {
    "colab": {
     "base_uri": "https://localhost:8080/"
    },
    "execution": {
     "iopub.execute_input": "2023-11-04T20:22:01.598904Z",
     "iopub.status.busy": "2023-11-04T20:22:01.598068Z",
     "iopub.status.idle": "2023-11-04T20:22:13.248993Z",
     "shell.execute_reply": "2023-11-04T20:22:13.248038Z",
     "shell.execute_reply.started": "2023-11-04T20:22:01.598875Z"
    },
    "id": "Kiu6bxTrEqwe",
    "outputId": "8d4b20c4-f0e3-459e-e7d6-939fef781599"
   },
   "outputs": [
    {
     "name": "stdout",
     "output_type": "stream",
     "text": [
      "Collecting wldhx.yadisk-direct\n",
      "  Downloading wldhx.yadisk_direct-0.0.6-py3-none-any.whl (4.5 kB)\n",
      "Requirement already satisfied: requests in /usr/local/lib/python3.9/dist-packages (from wldhx.yadisk-direct) (2.28.2)\n",
      "Requirement already satisfied: idna<4,>=2.5 in /usr/lib/python3/dist-packages (from requests->wldhx.yadisk-direct) (2.8)\n",
      "Requirement already satisfied: urllib3<1.27,>=1.21.1 in /usr/local/lib/python3.9/dist-packages (from requests->wldhx.yadisk-direct) (1.26.14)\n",
      "Requirement already satisfied: charset-normalizer<4,>=2 in /usr/local/lib/python3.9/dist-packages (from requests->wldhx.yadisk-direct) (2.1.1)\n",
      "Requirement already satisfied: certifi>=2017.4.17 in /usr/lib/python3/dist-packages (from requests->wldhx.yadisk-direct) (2019.11.28)\n",
      "Installing collected packages: wldhx.yadisk-direct\n",
      "Successfully installed wldhx.yadisk-direct-0.0.6\n",
      "\u001b[33mWARNING: Running pip as the 'root' user can result in broken permissions and conflicting behaviour with the system package manager. It is recommended to use a virtual environment instead: https://pip.pypa.io/warnings/venv\u001b[0m\u001b[33m\n",
      "\u001b[0m  % Total    % Received % Xferd  Average Speed   Time    Time     Time  Current\n",
      "                                 Dload  Upload   Total   Spent    Left  Speed\n",
      "  0     0    0     0    0     0      0      0 --:--:-- --:--:-- --:--:--     0\n",
      "100 3473k  100 3473k    0     0   547k      0  0:00:06  0:00:06 --:--:--  732k\n"
     ]
    }
   ],
   "source": [
    "! pip install wldhx.yadisk-direct\n",
    "! curl -L $(yadisk-direct https://disk.yandex.com/d/sknuSa3xoNBsDw) -o bank-issues-data.zip"
   ]
  },
  {
   "cell_type": "code",
   "execution_count": 2,
   "metadata": {
    "execution": {
     "iopub.execute_input": "2023-11-04T20:22:13.251360Z",
     "iopub.status.busy": "2023-11-04T20:22:13.251076Z",
     "iopub.status.idle": "2023-11-04T20:22:13.255925Z",
     "shell.execute_reply": "2023-11-04T20:22:13.255114Z",
     "shell.execute_reply.started": "2023-11-04T20:22:13.251334Z"
    },
    "id": "YryIjqGiE8mO"
   },
   "outputs": [],
   "source": [
    "# ! unzip -qq bank-issues-data.zip"
   ]
  },
  {
   "cell_type": "code",
   "execution_count": 3,
   "metadata": {
    "execution": {
     "iopub.execute_input": "2023-11-04T20:22:13.257366Z",
     "iopub.status.busy": "2023-11-04T20:22:13.257097Z",
     "iopub.status.idle": "2023-11-04T20:22:14.185350Z",
     "shell.execute_reply": "2023-11-04T20:22:14.184466Z",
     "shell.execute_reply.started": "2023-11-04T20:22:13.257331Z"
    },
    "id": "3rBogZlyEzmV"
   },
   "outputs": [],
   "source": [
    "import numpy as np\n",
    "import pandas as pd\n",
    "import matplotlib.pyplot as plt"
   ]
  },
  {
   "cell_type": "markdown",
   "metadata": {
    "id": "LD43TOtEGg_T"
   },
   "source": [
    "## Training data processing"
   ]
  },
  {
   "cell_type": "code",
   "execution_count": 4,
   "metadata": {
    "execution": {
     "iopub.execute_input": "2023-11-04T20:22:14.186961Z",
     "iopub.status.busy": "2023-11-04T20:22:14.186599Z",
     "iopub.status.idle": "2023-11-04T20:22:14.518637Z",
     "shell.execute_reply": "2023-11-04T20:22:14.517856Z",
     "shell.execute_reply.started": "2023-11-04T20:22:14.186936Z"
    },
    "id": "41kd9G9yE7Jy"
   },
   "outputs": [],
   "source": [
    "train_data = pd.read_csv('./bank-issues-data/train.csv')\n",
    "test_data = pd.read_csv('./bank-issues-data/test.csv')"
   ]
  },
  {
   "cell_type": "code",
   "execution_count": 5,
   "metadata": {
    "colab": {
     "base_uri": "https://localhost:8080/",
     "height": 275
    },
    "execution": {
     "iopub.execute_input": "2023-11-04T20:22:14.520946Z",
     "iopub.status.busy": "2023-11-04T20:22:14.520719Z",
     "iopub.status.idle": "2023-11-04T20:22:14.539892Z",
     "shell.execute_reply": "2023-11-04T20:22:14.539207Z",
     "shell.execute_reply.started": "2023-11-04T20:22:14.520923Z"
    },
    "id": "5yHwGgQ0FY14",
    "outputId": "1d5e87fb-f54b-49fb-c893-55f50821f00c"
   },
   "outputs": [
    {
     "data": {
      "text/html": [
       "<div>\n",
       "<style scoped>\n",
       "    .dataframe tbody tr th:only-of-type {\n",
       "        vertical-align: middle;\n",
       "    }\n",
       "\n",
       "    .dataframe tbody tr th {\n",
       "        vertical-align: top;\n",
       "    }\n",
       "\n",
       "    .dataframe thead th {\n",
       "        text-align: right;\n",
       "    }\n",
       "</style>\n",
       "<table border=\"1\" class=\"dataframe\">\n",
       "  <thead>\n",
       "    <tr style=\"text-align: right;\">\n",
       "      <th></th>\n",
       "      <th>client_id</th>\n",
       "      <th>gender</th>\n",
       "      <th>age</th>\n",
       "      <th>marital_status</th>\n",
       "      <th>job_position</th>\n",
       "      <th>credit_sum</th>\n",
       "      <th>credit_month</th>\n",
       "      <th>tariff_id</th>\n",
       "      <th>score_shk</th>\n",
       "      <th>education</th>\n",
       "      <th>living_region</th>\n",
       "      <th>monthly_income</th>\n",
       "      <th>credit_count</th>\n",
       "      <th>overdue_credit_count</th>\n",
       "      <th>open_account_flg</th>\n",
       "    </tr>\n",
       "  </thead>\n",
       "  <tbody>\n",
       "    <tr>\n",
       "      <th>0</th>\n",
       "      <td>1</td>\n",
       "      <td>M</td>\n",
       "      <td>25</td>\n",
       "      <td>UNM</td>\n",
       "      <td>SPC</td>\n",
       "      <td>26389.0</td>\n",
       "      <td>10</td>\n",
       "      <td>1.32</td>\n",
       "      <td>0.584105</td>\n",
       "      <td>SCH</td>\n",
       "      <td>ОБЛ КУРСКАЯ</td>\n",
       "      <td>35000.0</td>\n",
       "      <td>2.0</td>\n",
       "      <td>0.0</td>\n",
       "      <td>1</td>\n",
       "    </tr>\n",
       "    <tr>\n",
       "      <th>1</th>\n",
       "      <td>2</td>\n",
       "      <td>F</td>\n",
       "      <td>37</td>\n",
       "      <td>MAR</td>\n",
       "      <td>SPC</td>\n",
       "      <td>19588.0</td>\n",
       "      <td>12</td>\n",
       "      <td>1.43</td>\n",
       "      <td>0.718935</td>\n",
       "      <td>SCH</td>\n",
       "      <td>РЕСПУБЛИКА ТАТАРСТАН</td>\n",
       "      <td>15000.0</td>\n",
       "      <td>0.0</td>\n",
       "      <td>0.0</td>\n",
       "      <td>1</td>\n",
       "    </tr>\n",
       "    <tr>\n",
       "      <th>2</th>\n",
       "      <td>3</td>\n",
       "      <td>F</td>\n",
       "      <td>28</td>\n",
       "      <td>UNM</td>\n",
       "      <td>SPC</td>\n",
       "      <td>53669.0</td>\n",
       "      <td>18</td>\n",
       "      <td>1.10</td>\n",
       "      <td>0.586015</td>\n",
       "      <td>GRD</td>\n",
       "      <td>МОСКВА Г</td>\n",
       "      <td>70000.0</td>\n",
       "      <td>4.0</td>\n",
       "      <td>0.0</td>\n",
       "      <td>1</td>\n",
       "    </tr>\n",
       "    <tr>\n",
       "      <th>3</th>\n",
       "      <td>4</td>\n",
       "      <td>M</td>\n",
       "      <td>34</td>\n",
       "      <td>MAR</td>\n",
       "      <td>SPC</td>\n",
       "      <td>26349.0</td>\n",
       "      <td>10</td>\n",
       "      <td>1.43</td>\n",
       "      <td>0.655703</td>\n",
       "      <td>SCH</td>\n",
       "      <td>СВЕРДЛОВСКАЯ ОБЛАСТЬ</td>\n",
       "      <td>42500.0</td>\n",
       "      <td>4.0</td>\n",
       "      <td>0.0</td>\n",
       "      <td>0</td>\n",
       "    </tr>\n",
       "    <tr>\n",
       "      <th>4</th>\n",
       "      <td>5</td>\n",
       "      <td>F</td>\n",
       "      <td>43</td>\n",
       "      <td>MAR</td>\n",
       "      <td>UMN</td>\n",
       "      <td>11589.0</td>\n",
       "      <td>10</td>\n",
       "      <td>1.10</td>\n",
       "      <td>0.271893</td>\n",
       "      <td>GRD</td>\n",
       "      <td>РЯЗАНСКАЯ ОБЛАСТЬ</td>\n",
       "      <td>20000.0</td>\n",
       "      <td>3.0</td>\n",
       "      <td>0.0</td>\n",
       "      <td>0</td>\n",
       "    </tr>\n",
       "  </tbody>\n",
       "</table>\n",
       "</div>"
      ],
      "text/plain": [
       "   client_id gender  age marital_status job_position  credit_sum  \\\n",
       "0          1      M   25            UNM          SPC     26389.0   \n",
       "1          2      F   37            MAR          SPC     19588.0   \n",
       "2          3      F   28            UNM          SPC     53669.0   \n",
       "3          4      M   34            MAR          SPC     26349.0   \n",
       "4          5      F   43            MAR          UMN     11589.0   \n",
       "\n",
       "   credit_month  tariff_id  score_shk education         living_region  \\\n",
       "0            10       1.32   0.584105       SCH           ОБЛ КУРСКАЯ   \n",
       "1            12       1.43   0.718935       SCH  РЕСПУБЛИКА ТАТАРСТАН   \n",
       "2            18       1.10   0.586015       GRD              МОСКВА Г   \n",
       "3            10       1.43   0.655703       SCH  СВЕРДЛОВСКАЯ ОБЛАСТЬ   \n",
       "4            10       1.10   0.271893       GRD     РЯЗАНСКАЯ ОБЛАСТЬ   \n",
       "\n",
       "   monthly_income  credit_count  overdue_credit_count  open_account_flg  \n",
       "0         35000.0           2.0                   0.0                 1  \n",
       "1         15000.0           0.0                   0.0                 1  \n",
       "2         70000.0           4.0                   0.0                 1  \n",
       "3         42500.0           4.0                   0.0                 0  \n",
       "4         20000.0           3.0                   0.0                 0  "
      ]
     },
     "execution_count": 5,
     "metadata": {},
     "output_type": "execute_result"
    }
   ],
   "source": [
    "train_data.head()"
   ]
  },
  {
   "cell_type": "markdown",
   "metadata": {
    "id": "Y-BTOfC9FdIH"
   },
   "source": [
    "Data Fields:\n",
    "- **client_id** - Unique identifier of the client\n",
    "- **gender** - Gender\n",
    "- **age** - Age (in years)\n",
    "- **marital_status** - Marital status.\n",
    "    Possible values:\n",
    "    - UNM : Single / single\n",
    "    - DIV : Married\n",
    "    - MAR : Married\n",
    "    - WID : Widower, widow\n",
    "    - CIV : Civil Marriage\n",
    "- **job_position** - Job.\n",
    "    Possible values:\n",
    "    - SPC : Non-managerial employee - professional\n",
    "    - DIR : Manager of an organization\n",
    "    - HSK : Housewife\n",
    "    - WOI : Working for a sole proprietor\n",
    "    - WRK : Non-managerial employee - worker\n",
    "    - ATP : Non-managerial employee - service personnel\n",
    "    - WRP : Retired worker\n",
    "    - UMN : Unit Manager\n",
    "    - NOR : Not working\n",
    "    - NS : Retired\n",
    "    - BIS : Own business\n",
    "    - INP : Individual entrepreneur\n",
    "- **credit_sum** - Loan amount\n",
    "- **credit_month** - Credit period in months\n",
    "- **tariff_id** - Number of tariff offered\n",
    "- **education** - Type of education.\n",
    "    Possible knowledge:\n",
    "    - SCH : Primary, Secondary\n",
    "    - PGR : Secondary\n",
    "    - GRD : Graduate\n",
    "    - UGR : Undergraduate\n",
    "    - ACD : Advanced degree\n",
    "- **living_region** - Region of residence\n",
    "- **monthly_income** - Salary per month\n",
    "- **credit_count** - Number of loans a client has.\n",
    "- **overdue_credit_count** - Number of overdue loans of the client\n",
    "- **open_account_flag** - Target variable -- whether the client will choose our bank or not."
   ]
  },
  {
   "cell_type": "markdown",
   "metadata": {
    "id": "LHkyEFnB3le2"
   },
   "source": [
    "Отделим целевую переменную от признаков:"
   ]
  },
  {
   "cell_type": "code",
   "execution_count": 6,
   "metadata": {
    "execution": {
     "iopub.execute_input": "2023-11-04T20:22:14.541156Z",
     "iopub.status.busy": "2023-11-04T20:22:14.540946Z",
     "iopub.status.idle": "2023-11-04T20:22:14.551604Z",
     "shell.execute_reply": "2023-11-04T20:22:14.550700Z",
     "shell.execute_reply.started": "2023-11-04T20:22:14.541136Z"
    },
    "id": "d1vuf-VU3eYG"
   },
   "outputs": [],
   "source": [
    "y_train = train_data['open_account_flg']\n",
    "train_data = train_data.drop(columns=['open_account_flg'])"
   ]
  },
  {
   "cell_type": "code",
   "execution_count": 7,
   "metadata": {
    "colab": {
     "base_uri": "https://localhost:8080/"
    },
    "execution": {
     "iopub.execute_input": "2023-11-04T20:22:14.552855Z",
     "iopub.status.busy": "2023-11-04T20:22:14.552636Z",
     "iopub.status.idle": "2023-11-04T20:22:14.631319Z",
     "shell.execute_reply": "2023-11-04T20:22:14.630563Z",
     "shell.execute_reply.started": "2023-11-04T20:22:14.552833Z"
    },
    "id": "g2_0eoKdFano",
    "outputId": "e530dfe8-e549-443c-8bd5-d4b17a2506ee"
   },
   "outputs": [
    {
     "name": "stdout",
     "output_type": "stream",
     "text": [
      "<class 'pandas.core.frame.DataFrame'>\n",
      "RangeIndex: 119518 entries, 0 to 119517\n",
      "Data columns (total 14 columns):\n",
      " #   Column                Non-Null Count   Dtype  \n",
      "---  ------                --------------   -----  \n",
      " 0   client_id             119518 non-null  int64  \n",
      " 1   gender                119518 non-null  object \n",
      " 2   age                   119518 non-null  int64  \n",
      " 3   marital_status        119518 non-null  object \n",
      " 4   job_position          119518 non-null  object \n",
      " 5   credit_sum            119518 non-null  float64\n",
      " 6   credit_month          119518 non-null  int64  \n",
      " 7   tariff_id             119518 non-null  float64\n",
      " 8   score_shk             119518 non-null  float64\n",
      " 9   education             119518 non-null  object \n",
      " 10  living_region         119385 non-null  object \n",
      " 11  monthly_income        119518 non-null  float64\n",
      " 12  credit_count          113032 non-null  float64\n",
      " 13  overdue_credit_count  113032 non-null  float64\n",
      "dtypes: float64(6), int64(3), object(5)\n",
      "memory usage: 12.8+ MB\n"
     ]
    }
   ],
   "source": [
    "train_data.info()"
   ]
  },
  {
   "cell_type": "markdown",
   "metadata": {
    "id": "LyI640zcGc95"
   },
   "source": [
    "### Filling out passes"
   ]
  },
  {
   "cell_type": "markdown",
   "metadata": {
    "id": "yWqnYmYWxbVB"
   },
   "source": [
    "Once again, let's derive what the training data looks like for easy reference"
   ]
  },
  {
   "cell_type": "code",
   "execution_count": 8,
   "metadata": {
    "colab": {
     "base_uri": "https://localhost:8080/",
     "height": 275
    },
    "execution": {
     "iopub.execute_input": "2023-11-04T20:22:14.633046Z",
     "iopub.status.busy": "2023-11-04T20:22:14.632805Z",
     "iopub.status.idle": "2023-11-04T20:22:14.647154Z",
     "shell.execute_reply": "2023-11-04T20:22:14.645950Z",
     "shell.execute_reply.started": "2023-11-04T20:22:14.633021Z"
    },
    "id": "dVstclcrGLiY",
    "outputId": "abc160a6-8ed3-4545-e015-4f856cdc9e4d"
   },
   "outputs": [
    {
     "data": {
      "text/html": [
       "<div>\n",
       "<style scoped>\n",
       "    .dataframe tbody tr th:only-of-type {\n",
       "        vertical-align: middle;\n",
       "    }\n",
       "\n",
       "    .dataframe tbody tr th {\n",
       "        vertical-align: top;\n",
       "    }\n",
       "\n",
       "    .dataframe thead th {\n",
       "        text-align: right;\n",
       "    }\n",
       "</style>\n",
       "<table border=\"1\" class=\"dataframe\">\n",
       "  <thead>\n",
       "    <tr style=\"text-align: right;\">\n",
       "      <th></th>\n",
       "      <th>client_id</th>\n",
       "      <th>gender</th>\n",
       "      <th>age</th>\n",
       "      <th>marital_status</th>\n",
       "      <th>job_position</th>\n",
       "      <th>credit_sum</th>\n",
       "      <th>credit_month</th>\n",
       "      <th>tariff_id</th>\n",
       "      <th>score_shk</th>\n",
       "      <th>education</th>\n",
       "      <th>living_region</th>\n",
       "      <th>monthly_income</th>\n",
       "      <th>credit_count</th>\n",
       "      <th>overdue_credit_count</th>\n",
       "    </tr>\n",
       "  </thead>\n",
       "  <tbody>\n",
       "    <tr>\n",
       "      <th>0</th>\n",
       "      <td>1</td>\n",
       "      <td>M</td>\n",
       "      <td>25</td>\n",
       "      <td>UNM</td>\n",
       "      <td>SPC</td>\n",
       "      <td>26389.0</td>\n",
       "      <td>10</td>\n",
       "      <td>1.32</td>\n",
       "      <td>0.584105</td>\n",
       "      <td>SCH</td>\n",
       "      <td>ОБЛ КУРСКАЯ</td>\n",
       "      <td>35000.0</td>\n",
       "      <td>2.0</td>\n",
       "      <td>0.0</td>\n",
       "    </tr>\n",
       "    <tr>\n",
       "      <th>1</th>\n",
       "      <td>2</td>\n",
       "      <td>F</td>\n",
       "      <td>37</td>\n",
       "      <td>MAR</td>\n",
       "      <td>SPC</td>\n",
       "      <td>19588.0</td>\n",
       "      <td>12</td>\n",
       "      <td>1.43</td>\n",
       "      <td>0.718935</td>\n",
       "      <td>SCH</td>\n",
       "      <td>РЕСПУБЛИКА ТАТАРСТАН</td>\n",
       "      <td>15000.0</td>\n",
       "      <td>0.0</td>\n",
       "      <td>0.0</td>\n",
       "    </tr>\n",
       "    <tr>\n",
       "      <th>2</th>\n",
       "      <td>3</td>\n",
       "      <td>F</td>\n",
       "      <td>28</td>\n",
       "      <td>UNM</td>\n",
       "      <td>SPC</td>\n",
       "      <td>53669.0</td>\n",
       "      <td>18</td>\n",
       "      <td>1.10</td>\n",
       "      <td>0.586015</td>\n",
       "      <td>GRD</td>\n",
       "      <td>МОСКВА Г</td>\n",
       "      <td>70000.0</td>\n",
       "      <td>4.0</td>\n",
       "      <td>0.0</td>\n",
       "    </tr>\n",
       "    <tr>\n",
       "      <th>3</th>\n",
       "      <td>4</td>\n",
       "      <td>M</td>\n",
       "      <td>34</td>\n",
       "      <td>MAR</td>\n",
       "      <td>SPC</td>\n",
       "      <td>26349.0</td>\n",
       "      <td>10</td>\n",
       "      <td>1.43</td>\n",
       "      <td>0.655703</td>\n",
       "      <td>SCH</td>\n",
       "      <td>СВЕРДЛОВСКАЯ ОБЛАСТЬ</td>\n",
       "      <td>42500.0</td>\n",
       "      <td>4.0</td>\n",
       "      <td>0.0</td>\n",
       "    </tr>\n",
       "    <tr>\n",
       "      <th>4</th>\n",
       "      <td>5</td>\n",
       "      <td>F</td>\n",
       "      <td>43</td>\n",
       "      <td>MAR</td>\n",
       "      <td>UMN</td>\n",
       "      <td>11589.0</td>\n",
       "      <td>10</td>\n",
       "      <td>1.10</td>\n",
       "      <td>0.271893</td>\n",
       "      <td>GRD</td>\n",
       "      <td>РЯЗАНСКАЯ ОБЛАСТЬ</td>\n",
       "      <td>20000.0</td>\n",
       "      <td>3.0</td>\n",
       "      <td>0.0</td>\n",
       "    </tr>\n",
       "  </tbody>\n",
       "</table>\n",
       "</div>"
      ],
      "text/plain": [
       "   client_id gender  age marital_status job_position  credit_sum  \\\n",
       "0          1      M   25            UNM          SPC     26389.0   \n",
       "1          2      F   37            MAR          SPC     19588.0   \n",
       "2          3      F   28            UNM          SPC     53669.0   \n",
       "3          4      M   34            MAR          SPC     26349.0   \n",
       "4          5      F   43            MAR          UMN     11589.0   \n",
       "\n",
       "   credit_month  tariff_id  score_shk education         living_region  \\\n",
       "0            10       1.32   0.584105       SCH           ОБЛ КУРСКАЯ   \n",
       "1            12       1.43   0.718935       SCH  РЕСПУБЛИКА ТАТАРСТАН   \n",
       "2            18       1.10   0.586015       GRD              МОСКВА Г   \n",
       "3            10       1.43   0.655703       SCH  СВЕРДЛОВСКАЯ ОБЛАСТЬ   \n",
       "4            10       1.10   0.271893       GRD     РЯЗАНСКАЯ ОБЛАСТЬ   \n",
       "\n",
       "   monthly_income  credit_count  overdue_credit_count  \n",
       "0         35000.0           2.0                   0.0  \n",
       "1         15000.0           0.0                   0.0  \n",
       "2         70000.0           4.0                   0.0  \n",
       "3         42500.0           4.0                   0.0  \n",
       "4         20000.0           3.0                   0.0  "
      ]
     },
     "execution_count": 8,
     "metadata": {},
     "output_type": "execute_result"
    }
   ],
   "source": [
    "train_data.head()"
   ]
  },
  {
   "cell_type": "markdown",
   "metadata": {
    "id": "xYE1xtdkxf5M"
   },
   "source": [
    "Let's see which columns have omissions in the training data"
   ]
  },
  {
   "cell_type": "code",
   "execution_count": 9,
   "metadata": {
    "colab": {
     "base_uri": "https://localhost:8080/"
    },
    "execution": {
     "iopub.execute_input": "2023-11-04T20:22:14.648457Z",
     "iopub.status.busy": "2023-11-04T20:22:14.648255Z",
     "iopub.status.idle": "2023-11-04T20:22:14.723917Z",
     "shell.execute_reply": "2023-11-04T20:22:14.723021Z",
     "shell.execute_reply.started": "2023-11-04T20:22:14.648436Z"
    },
    "id": "nMSdIJagGJbx",
    "outputId": "8247b432-dfe3-49f2-d130-0260ea2104a6"
   },
   "outputs": [
    {
     "data": {
      "text/plain": [
       "client_id               False\n",
       "gender                  False\n",
       "age                     False\n",
       "marital_status          False\n",
       "job_position            False\n",
       "credit_sum              False\n",
       "credit_month            False\n",
       "tariff_id               False\n",
       "score_shk               False\n",
       "education               False\n",
       "living_region            True\n",
       "monthly_income          False\n",
       "credit_count             True\n",
       "overdue_credit_count     True\n",
       "dtype: bool"
      ]
     },
     "execution_count": 9,
     "metadata": {},
     "output_type": "execute_result"
    }
   ],
   "source": [
    "train_data.isna().any()"
   ]
  },
  {
   "cell_type": "markdown",
   "metadata": {
    "id": "FA0yIL1GJA8f"
   },
   "source": [
    "Let's also see what omissions there are in the test data:"
   ]
  },
  {
   "cell_type": "code",
   "execution_count": 10,
   "metadata": {
    "colab": {
     "base_uri": "https://localhost:8080/"
    },
    "execution": {
     "iopub.execute_input": "2023-11-04T20:22:14.725291Z",
     "iopub.status.busy": "2023-11-04T20:22:14.725055Z",
     "iopub.status.idle": "2023-11-04T20:22:14.764941Z",
     "shell.execute_reply": "2023-11-04T20:22:14.764005Z",
     "shell.execute_reply.started": "2023-11-04T20:22:14.725269Z"
    },
    "id": "g_QwKBDmGvwT",
    "outputId": "86609dbf-27a1-49a9-ea83-aff184243d32"
   },
   "outputs": [
    {
     "data": {
      "text/plain": [
       "client_id               False\n",
       "gender                  False\n",
       "age                     False\n",
       "marital_status          False\n",
       "job_position            False\n",
       "credit_sum              False\n",
       "credit_month            False\n",
       "tariff_id               False\n",
       "score_shk               False\n",
       "education               False\n",
       "living_region            True\n",
       "monthly_income           True\n",
       "credit_count             True\n",
       "overdue_credit_count     True\n",
       "dtype: bool"
      ]
     },
     "execution_count": 10,
     "metadata": {},
     "output_type": "execute_result"
    }
   ],
   "source": [
    "test_data.isna().any()"
   ]
  },
  {
   "cell_type": "markdown",
   "metadata": {
    "id": "GO6WLeD8JEWJ"
   },
   "source": [
    "We see that in the test part there are gaps in the monthly_income column, but in the training part there are no gaps in this column. We will need to understand how we will fill in the gaps in this column."
   ]
  },
  {
   "cell_type": "markdown",
   "metadata": {
    "id": "Kch3GcGPMCp0"
   },
   "source": [
    "**WARNING**: it is important to remember that sometimes there are gaps in the data that pandas does not catch. For example, when there is an omission in the categorical column \"job_position\", and it is expressed by an empty string '' or a space '' instead of a value. Pandas will not catch this."
   ]
  },
  {
   "cell_type": "markdown",
   "metadata": {
    "id": "wIwaQ2z-JTzy"
   },
   "source": [
    "**How can you fill in the gaps in the columns?**\n",
    "\n"
   ]
  },
  {
   "cell_type": "markdown",
   "metadata": {
    "id": "KK3jnZBkKGE6"
   },
   "source": [
    "#### Options for filling in gaps"
   ]
  },
  {
   "cell_type": "markdown",
   "metadata": {
    "id": "wcPta6EKLwxR"
   },
   "source": [
    "- Fill in the blanks with some statistics on the data (mean/median/0/...). [SimpleImputer](https://scikit-learn.org/stable/modules/generated/sklearn.impute.SimpleImputer.html#sklearn.impute.SimpleImputer) from Sklearn can help;\n",
    "\n",
    "    **Question**: why is the median preferred over the mean?\n",
    "\n",
    "- Use more sophisticated strategies. For example, [IterativeImputer](https://scikit-learn.org/stable/modules/generated/sklearn.impute.IterativeImputer.html#sklearn.impute.IterativeImputer) or [KNNImputer](https://scikit-learn.org/stable/modules/generated/sklearn.impute.KNNImputer.html);\n",
    "\n",
    "- Add a \"skip\" value in place of skips. The [MissingIndicator](https://scikit-learn.org/stable/modules/generated/sklearn.impute.MissingIndicator.html#sklearn.impute.MissingIndicator) from Sklearn will help;\n",
    "- And sometimes it happens that it is better to remove rows with many skips from the training data. The logic is as follows: if little is known about an object, this object does not provide useful information for the model. Please note that you cannot delete any rows from the test data!\n",
    "- In general, you should delete a feature with skips. It may be logical if there are too many skips;"
   ]
  },
  {
   "cell_type": "markdown",
   "metadata": {
    "id": "NijO5JK2K_qx"
   },
   "source": [
    "#### Filling in badges in our data"
   ]
  },
  {
   "cell_type": "markdown",
   "metadata": {
    "id": "Gjx5hEcFyfsz"
   },
   "source": [
    "Let's see how many missing values there are in the credit_count and overdue_credit_count columns:"
   ]
  },
  {
   "cell_type": "code",
   "execution_count": 11,
   "metadata": {
    "colab": {
     "base_uri": "https://localhost:8080/"
    },
    "execution": {
     "iopub.execute_input": "2023-11-04T20:22:14.766209Z",
     "iopub.status.busy": "2023-11-04T20:22:14.765978Z",
     "iopub.status.idle": "2023-11-04T20:22:14.775344Z",
     "shell.execute_reply": "2023-11-04T20:22:14.774432Z",
     "shell.execute_reply.started": "2023-11-04T20:22:14.766187Z"
    },
    "id": "lNhMykT5LEd6",
    "outputId": "3cfa734a-75b3-4d99-c7c9-f4ffdbed69ce"
   },
   "outputs": [
    {
     "name": "stdout",
     "output_type": "stream",
     "text": [
      "<class 'pandas.core.series.Series'>\n",
      "RangeIndex: 119518 entries, 0 to 119517\n",
      "Series name: credit_count\n",
      "Non-Null Count   Dtype  \n",
      "--------------   -----  \n",
      "113032 non-null  float64\n",
      "dtypes: float64(1)\n",
      "memory usage: 933.9 KB\n"
     ]
    }
   ],
   "source": [
    "train_data['credit_count'].info()"
   ]
  },
  {
   "cell_type": "code",
   "execution_count": 12,
   "metadata": {
    "colab": {
     "base_uri": "https://localhost:8080/"
    },
    "execution": {
     "iopub.execute_input": "2023-11-04T20:22:14.776601Z",
     "iopub.status.busy": "2023-11-04T20:22:14.776375Z",
     "iopub.status.idle": "2023-11-04T20:22:14.786759Z",
     "shell.execute_reply": "2023-11-04T20:22:14.785914Z",
     "shell.execute_reply.started": "2023-11-04T20:22:14.776580Z"
    },
    "id": "0XTrKSWhLOsH",
    "outputId": "df900d02-83de-46c8-97fe-b49a5e8e9eb4"
   },
   "outputs": [
    {
     "data": {
      "text/plain": [
       "(array([ 0.,  1.,  2.,  3.,  4.,  5.,  6.,  7.,  8.,  9., 10., 11., 12.,\n",
       "        13., 14., 15., 16., 17., 18., 19., nan]),\n",
       " array([18219, 31714, 25799, 16707,  9826,  5285,  2760,  1345,   707,\n",
       "          326,   141,    90,    56,    25,    12,    10,     2,     4,\n",
       "            1,     3,  6486]))"
      ]
     },
     "execution_count": 12,
     "metadata": {},
     "output_type": "execute_result"
    }
   ],
   "source": [
    "np.unique(train_data['credit_count'], return_counts=True)"
   ]
  },
  {
   "cell_type": "markdown",
   "metadata": {
    "id": "pYLak5i9PDQl"
   },
   "source": [
    "Let's fill in the gap in credit_count with the median:"
   ]
  },
  {
   "cell_type": "code",
   "execution_count": 13,
   "metadata": {
    "execution": {
     "iopub.execute_input": "2023-11-04T20:22:14.787733Z",
     "iopub.status.busy": "2023-11-04T20:22:14.787519Z",
     "iopub.status.idle": "2023-11-04T20:22:14.791531Z",
     "shell.execute_reply": "2023-11-04T20:22:14.790631Z",
     "shell.execute_reply.started": "2023-11-04T20:22:14.787713Z"
    },
    "id": "J2OL_ddULVZO"
   },
   "outputs": [],
   "source": [
    "# manual filling of skips with statistics\n",
    "\n",
    "# median_value_credit_count = np.median(train_data['credit_count'].dropna())\n",
    "# train_data['credit_count'].fillna(median_value_credit_count)"
   ]
  },
  {
   "cell_type": "code",
   "execution_count": 14,
   "metadata": {
    "execution": {
     "iopub.execute_input": "2023-11-04T20:22:14.795905Z",
     "iopub.status.busy": "2023-11-04T20:22:14.795092Z",
     "iopub.status.idle": "2023-11-04T20:22:15.303028Z",
     "shell.execute_reply": "2023-11-04T20:22:15.302170Z",
     "shell.execute_reply.started": "2023-11-04T20:22:14.795884Z"
    },
    "id": "LiiiZakBMcqD"
   },
   "outputs": [],
   "source": [
    "from sklearn.impute import SimpleImputer\n",
    "\n",
    "simple_imputer = SimpleImputer(missing_values=np.nan, strategy='median')\n",
    "simple_imputer.fit(train_data[['credit_count']])\n",
    "train_data['credit_count'] = simple_imputer.transform(train_data[['credit_count']])"
   ]
  },
  {
   "cell_type": "code",
   "execution_count": 15,
   "metadata": {
    "colab": {
     "base_uri": "https://localhost:8080/"
    },
    "execution": {
     "iopub.execute_input": "2023-11-04T20:22:15.304376Z",
     "iopub.status.busy": "2023-11-04T20:22:15.304036Z",
     "iopub.status.idle": "2023-11-04T20:22:15.310342Z",
     "shell.execute_reply": "2023-11-04T20:22:15.309363Z",
     "shell.execute_reply.started": "2023-11-04T20:22:15.304353Z"
    },
    "id": "ic8eW0ExMruo",
    "outputId": "d0e80c25-1115-4417-eb40-4c8ae0cfd801"
   },
   "outputs": [
    {
     "data": {
      "text/plain": [
       "False"
      ]
     },
     "execution_count": 15,
     "metadata": {},
     "output_type": "execute_result"
    }
   ],
   "source": [
    "train_data['credit_count'].isna().any()"
   ]
  },
  {
   "cell_type": "code",
   "execution_count": 16,
   "metadata": {
    "colab": {
     "base_uri": "https://localhost:8080/"
    },
    "execution": {
     "iopub.execute_input": "2023-11-04T20:22:15.311646Z",
     "iopub.status.busy": "2023-11-04T20:22:15.311426Z",
     "iopub.status.idle": "2023-11-04T20:22:15.317112Z",
     "shell.execute_reply": "2023-11-04T20:22:15.316502Z",
     "shell.execute_reply.started": "2023-11-04T20:22:15.311626Z"
    },
    "id": "lezMrFCgN6gc",
    "outputId": "757c9a4d-7899-475a-92bc-ac526ab02614"
   },
   "outputs": [
    {
     "data": {
      "text/plain": [
       "dtype('O')"
      ]
     },
     "execution_count": 16,
     "metadata": {},
     "output_type": "execute_result"
    }
   ],
   "source": [
    "train_data['job_position'].dtype"
   ]
  },
  {
   "cell_type": "code",
   "execution_count": 17,
   "metadata": {
    "execution": {
     "iopub.execute_input": "2023-11-04T20:22:15.318480Z",
     "iopub.status.busy": "2023-11-04T20:22:15.317812Z",
     "iopub.status.idle": "2023-11-04T20:22:15.323703Z",
     "shell.execute_reply": "2023-11-04T20:22:15.322763Z",
     "shell.execute_reply.started": "2023-11-04T20:22:15.318458Z"
    }
   },
   "outputs": [
    {
     "data": {
      "text/plain": [
       "dtype('int64')"
      ]
     },
     "execution_count": 17,
     "metadata": {},
     "output_type": "execute_result"
    }
   ],
   "source": [
    "train_data['age'].dtype"
   ]
  },
  {
   "cell_type": "code",
   "execution_count": 18,
   "metadata": {
    "colab": {
     "base_uri": "https://localhost:8080/"
    },
    "execution": {
     "iopub.execute_input": "2023-11-04T20:22:15.325418Z",
     "iopub.status.busy": "2023-11-04T20:22:15.325093Z",
     "iopub.status.idle": "2023-11-04T20:22:15.332372Z",
     "shell.execute_reply": "2023-11-04T20:22:15.331580Z",
     "shell.execute_reply.started": "2023-11-04T20:22:15.325392Z"
    },
    "id": "k62fPZeaNa9d",
    "outputId": "fce817d2-0649-4e5e-a023-78e9bb8c6d17"
   },
   "outputs": [
    {
     "data": {
      "text/plain": [
       "['client_id',\n",
       " 'age',\n",
       " 'credit_sum',\n",
       " 'credit_month',\n",
       " 'tariff_id',\n",
       " 'score_shk',\n",
       " 'monthly_income',\n",
       " 'credit_count',\n",
       " 'overdue_credit_count']"
      ]
     },
     "execution_count": 18,
     "metadata": {},
     "output_type": "execute_result"
    }
   ],
   "source": [
    "numeric_columns = [column for column in train_data.columns if train_data[column].dtype != 'O']\n",
    "numeric_columns"
   ]
  },
  {
   "cell_type": "markdown",
   "metadata": {
    "id": "H_xnctoLPJVz"
   },
   "source": [
    "Let's fill in the pass in overdue_credit_count using KNNImputer:"
   ]
  },
  {
   "cell_type": "code",
   "execution_count": 19,
   "metadata": {
    "execution": {
     "iopub.execute_input": "2023-11-04T20:22:15.333687Z",
     "iopub.status.busy": "2023-11-04T20:22:15.333469Z",
     "iopub.status.idle": "2023-11-04T20:23:09.130955Z",
     "shell.execute_reply": "2023-11-04T20:23:09.130174Z",
     "shell.execute_reply.started": "2023-11-04T20:22:15.333665Z"
    },
    "id": "l99JODFsM2ab"
   },
   "outputs": [],
   "source": [
    "from sklearn.impute import KNNImputer\n",
    "\n",
    "knn_imputer = KNNImputer(n_neighbors=2)\n",
    "knn_imputer.fit(train_data[numeric_columns])\n",
    "transformed_overdue_credit_count = knn_imputer.transform(train_data[numeric_columns])[:, 8]\n",
    "train_data['overdue_credit_count'] = transformed_overdue_credit_count"
   ]
  },
  {
   "cell_type": "code",
   "execution_count": 20,
   "metadata": {
    "colab": {
     "base_uri": "https://localhost:8080/"
    },
    "execution": {
     "iopub.execute_input": "2023-11-04T20:23:09.132792Z",
     "iopub.status.busy": "2023-11-04T20:23:09.132131Z",
     "iopub.status.idle": "2023-11-04T20:23:09.138998Z",
     "shell.execute_reply": "2023-11-04T20:23:09.138279Z",
     "shell.execute_reply.started": "2023-11-04T20:23:09.132764Z"
    },
    "id": "i4DyCysCOIpB",
    "outputId": "acfea50d-9dc5-4447-c356-f83f878a1d0c"
   },
   "outputs": [
    {
     "data": {
      "text/plain": [
       "False"
      ]
     },
     "execution_count": 20,
     "metadata": {},
     "output_type": "execute_result"
    }
   ],
   "source": [
    "train_data['overdue_credit_count'].isna().any()"
   ]
  },
  {
   "cell_type": "markdown",
   "metadata": {
    "id": "px4t9DyjPkul"
   },
   "source": [
    "### Processing of categorical attributes"
   ]
  },
  {
   "cell_type": "code",
   "execution_count": 21,
   "metadata": {
    "colab": {
     "base_uri": "https://localhost:8080/",
     "height": 275
    },
    "execution": {
     "iopub.execute_input": "2023-11-04T20:23:09.140083Z",
     "iopub.status.busy": "2023-11-04T20:23:09.139848Z",
     "iopub.status.idle": "2023-11-04T20:23:09.154242Z",
     "shell.execute_reply": "2023-11-04T20:23:09.153560Z",
     "shell.execute_reply.started": "2023-11-04T20:23:09.140061Z"
    },
    "id": "kO8jVcXfPnoj",
    "outputId": "54e351f8-76e4-4d73-8b61-1e2680dde51b"
   },
   "outputs": [
    {
     "data": {
      "text/html": [
       "<div>\n",
       "<style scoped>\n",
       "    .dataframe tbody tr th:only-of-type {\n",
       "        vertical-align: middle;\n",
       "    }\n",
       "\n",
       "    .dataframe tbody tr th {\n",
       "        vertical-align: top;\n",
       "    }\n",
       "\n",
       "    .dataframe thead th {\n",
       "        text-align: right;\n",
       "    }\n",
       "</style>\n",
       "<table border=\"1\" class=\"dataframe\">\n",
       "  <thead>\n",
       "    <tr style=\"text-align: right;\">\n",
       "      <th></th>\n",
       "      <th>client_id</th>\n",
       "      <th>gender</th>\n",
       "      <th>age</th>\n",
       "      <th>marital_status</th>\n",
       "      <th>job_position</th>\n",
       "      <th>credit_sum</th>\n",
       "      <th>credit_month</th>\n",
       "      <th>tariff_id</th>\n",
       "      <th>score_shk</th>\n",
       "      <th>education</th>\n",
       "      <th>living_region</th>\n",
       "      <th>monthly_income</th>\n",
       "      <th>credit_count</th>\n",
       "      <th>overdue_credit_count</th>\n",
       "    </tr>\n",
       "  </thead>\n",
       "  <tbody>\n",
       "    <tr>\n",
       "      <th>0</th>\n",
       "      <td>1</td>\n",
       "      <td>M</td>\n",
       "      <td>25</td>\n",
       "      <td>UNM</td>\n",
       "      <td>SPC</td>\n",
       "      <td>26389.0</td>\n",
       "      <td>10</td>\n",
       "      <td>1.32</td>\n",
       "      <td>0.584105</td>\n",
       "      <td>SCH</td>\n",
       "      <td>ОБЛ КУРСКАЯ</td>\n",
       "      <td>35000.0</td>\n",
       "      <td>2.0</td>\n",
       "      <td>0.0</td>\n",
       "    </tr>\n",
       "    <tr>\n",
       "      <th>1</th>\n",
       "      <td>2</td>\n",
       "      <td>F</td>\n",
       "      <td>37</td>\n",
       "      <td>MAR</td>\n",
       "      <td>SPC</td>\n",
       "      <td>19588.0</td>\n",
       "      <td>12</td>\n",
       "      <td>1.43</td>\n",
       "      <td>0.718935</td>\n",
       "      <td>SCH</td>\n",
       "      <td>РЕСПУБЛИКА ТАТАРСТАН</td>\n",
       "      <td>15000.0</td>\n",
       "      <td>0.0</td>\n",
       "      <td>0.0</td>\n",
       "    </tr>\n",
       "    <tr>\n",
       "      <th>2</th>\n",
       "      <td>3</td>\n",
       "      <td>F</td>\n",
       "      <td>28</td>\n",
       "      <td>UNM</td>\n",
       "      <td>SPC</td>\n",
       "      <td>53669.0</td>\n",
       "      <td>18</td>\n",
       "      <td>1.10</td>\n",
       "      <td>0.586015</td>\n",
       "      <td>GRD</td>\n",
       "      <td>МОСКВА Г</td>\n",
       "      <td>70000.0</td>\n",
       "      <td>4.0</td>\n",
       "      <td>0.0</td>\n",
       "    </tr>\n",
       "    <tr>\n",
       "      <th>3</th>\n",
       "      <td>4</td>\n",
       "      <td>M</td>\n",
       "      <td>34</td>\n",
       "      <td>MAR</td>\n",
       "      <td>SPC</td>\n",
       "      <td>26349.0</td>\n",
       "      <td>10</td>\n",
       "      <td>1.43</td>\n",
       "      <td>0.655703</td>\n",
       "      <td>SCH</td>\n",
       "      <td>СВЕРДЛОВСКАЯ ОБЛАСТЬ</td>\n",
       "      <td>42500.0</td>\n",
       "      <td>4.0</td>\n",
       "      <td>0.0</td>\n",
       "    </tr>\n",
       "    <tr>\n",
       "      <th>4</th>\n",
       "      <td>5</td>\n",
       "      <td>F</td>\n",
       "      <td>43</td>\n",
       "      <td>MAR</td>\n",
       "      <td>UMN</td>\n",
       "      <td>11589.0</td>\n",
       "      <td>10</td>\n",
       "      <td>1.10</td>\n",
       "      <td>0.271893</td>\n",
       "      <td>GRD</td>\n",
       "      <td>РЯЗАНСКАЯ ОБЛАСТЬ</td>\n",
       "      <td>20000.0</td>\n",
       "      <td>3.0</td>\n",
       "      <td>0.0</td>\n",
       "    </tr>\n",
       "  </tbody>\n",
       "</table>\n",
       "</div>"
      ],
      "text/plain": [
       "   client_id gender  age marital_status job_position  credit_sum  \\\n",
       "0          1      M   25            UNM          SPC     26389.0   \n",
       "1          2      F   37            MAR          SPC     19588.0   \n",
       "2          3      F   28            UNM          SPC     53669.0   \n",
       "3          4      M   34            MAR          SPC     26349.0   \n",
       "4          5      F   43            MAR          UMN     11589.0   \n",
       "\n",
       "   credit_month  tariff_id  score_shk education         living_region  \\\n",
       "0            10       1.32   0.584105       SCH           ОБЛ КУРСКАЯ   \n",
       "1            12       1.43   0.718935       SCH  РЕСПУБЛИКА ТАТАРСТАН   \n",
       "2            18       1.10   0.586015       GRD              МОСКВА Г   \n",
       "3            10       1.43   0.655703       SCH  СВЕРДЛОВСКАЯ ОБЛАСТЬ   \n",
       "4            10       1.10   0.271893       GRD     РЯЗАНСКАЯ ОБЛАСТЬ   \n",
       "\n",
       "   monthly_income  credit_count  overdue_credit_count  \n",
       "0         35000.0           2.0                   0.0  \n",
       "1         15000.0           0.0                   0.0  \n",
       "2         70000.0           4.0                   0.0  \n",
       "3         42500.0           4.0                   0.0  \n",
       "4         20000.0           3.0                   0.0  "
      ]
     },
     "execution_count": 21,
     "metadata": {},
     "output_type": "execute_result"
    }
   ],
   "source": [
    "train_data.head()"
   ]
  },
  {
   "cell_type": "code",
   "execution_count": 22,
   "metadata": {
    "colab": {
     "base_uri": "https://localhost:8080/"
    },
    "execution": {
     "iopub.execute_input": "2023-11-04T20:23:09.155441Z",
     "iopub.status.busy": "2023-11-04T20:23:09.155194Z",
     "iopub.status.idle": "2023-11-04T20:23:09.161345Z",
     "shell.execute_reply": "2023-11-04T20:23:09.160571Z",
     "shell.execute_reply.started": "2023-11-04T20:23:09.155420Z"
    },
    "id": "_JoISWJLPpUd",
    "outputId": "33a7111e-e951-4535-e791-ad3f7017a448"
   },
   "outputs": [
    {
     "data": {
      "text/plain": [
       "['gender', 'marital_status', 'job_position', 'education', 'living_region']"
      ]
     },
     "execution_count": 22,
     "metadata": {},
     "output_type": "execute_result"
    }
   ],
   "source": [
    "categorical_columns = [column for column in train_data.columns if train_data[column].dtype == 'O']\n",
    "categorical_columns"
   ]
  },
  {
   "cell_type": "code",
   "execution_count": 23,
   "metadata": {
    "execution": {
     "iopub.execute_input": "2023-11-04T20:23:09.162559Z",
     "iopub.status.busy": "2023-11-04T20:23:09.162253Z",
     "iopub.status.idle": "2023-11-04T20:23:09.166674Z",
     "shell.execute_reply": "2023-11-04T20:23:09.165727Z",
     "shell.execute_reply.started": "2023-11-04T20:23:09.162537Z"
    },
    "id": "FdaB4h_CSQbb"
   },
   "outputs": [],
   "source": [
    "categorical_columns = [x for x in categorical_columns if x != 'living_region']"
   ]
  },
  {
   "cell_type": "markdown",
   "metadata": {
    "id": "UCFdUu_2T9M5"
   },
   "source": [
    "#### One-hot coding"
   ]
  },
  {
   "cell_type": "code",
   "execution_count": 24,
   "metadata": {
    "execution": {
     "iopub.execute_input": "2023-11-04T20:23:09.167687Z",
     "iopub.status.busy": "2023-11-04T20:23:09.167457Z",
     "iopub.status.idle": "2023-11-04T20:23:09.171530Z",
     "shell.execute_reply": "2023-11-04T20:23:09.170457Z",
     "shell.execute_reply.started": "2023-11-04T20:23:09.167666Z"
    },
    "id": "5sF--r1tPuxV"
   },
   "outputs": [],
   "source": [
    "# dummy_features = pd.get_dummies(train_data[categorical_columns])\n",
    "# dummy_features.head()"
   ]
  },
  {
   "cell_type": "markdown",
   "metadata": {
    "id": "2kD3YN3TRkUq"
   },
   "source": [
    "One-hot encoding with OneHotEncoder from Sklearn"
   ]
  },
  {
   "cell_type": "code",
   "execution_count": 25,
   "metadata": {
    "execution": {
     "iopub.execute_input": "2023-11-04T20:23:09.172539Z",
     "iopub.status.busy": "2023-11-04T20:23:09.172320Z",
     "iopub.status.idle": "2023-11-04T20:23:09.326939Z",
     "shell.execute_reply": "2023-11-04T20:23:09.325999Z",
     "shell.execute_reply.started": "2023-11-04T20:23:09.172519Z"
    },
    "id": "sQ25kktuRiNg"
   },
   "outputs": [],
   "source": [
    "from sklearn.preprocessing import OneHotEncoder\n",
    "\n",
    "ohe = OneHotEncoder(drop='if_binary', sparse=False)\n",
    "ohe.fit(train_data[categorical_columns])\n",
    "new_category_columns = ohe.transform(train_data[categorical_columns])"
   ]
  },
  {
   "cell_type": "code",
   "execution_count": 26,
   "metadata": {
    "colab": {
     "base_uri": "https://localhost:8080/"
    },
    "execution": {
     "iopub.execute_input": "2023-11-04T20:23:09.328320Z",
     "iopub.status.busy": "2023-11-04T20:23:09.328087Z",
     "iopub.status.idle": "2023-11-04T20:23:09.334528Z",
     "shell.execute_reply": "2023-11-04T20:23:09.333766Z",
     "shell.execute_reply.started": "2023-11-04T20:23:09.328298Z"
    },
    "id": "lk1YezjPJxDg",
    "outputId": "fb081695-cfe1-4c44-ec7a-318102231817"
   },
   "outputs": [
    {
     "data": {
      "text/plain": [
       "array([[1., 0., 0., ..., 0., 1., 0.],\n",
       "       [0., 0., 0., ..., 0., 1., 0.],\n",
       "       [0., 0., 0., ..., 0., 0., 0.],\n",
       "       ...,\n",
       "       [0., 0., 0., ..., 0., 0., 0.],\n",
       "       [0., 0., 0., ..., 0., 0., 0.],\n",
       "       [1., 0., 0., ..., 0., 0., 0.]])"
      ]
     },
     "execution_count": 26,
     "metadata": {},
     "output_type": "execute_result"
    }
   ],
   "source": [
    "new_category_columns"
   ]
  },
  {
   "cell_type": "code",
   "execution_count": 27,
   "metadata": {
    "colab": {
     "base_uri": "https://localhost:8080/"
    },
    "execution": {
     "iopub.execute_input": "2023-11-04T20:23:09.335837Z",
     "iopub.status.busy": "2023-11-04T20:23:09.335632Z",
     "iopub.status.idle": "2023-11-04T20:23:09.341874Z",
     "shell.execute_reply": "2023-11-04T20:23:09.340976Z",
     "shell.execute_reply.started": "2023-11-04T20:23:09.335818Z"
    },
    "id": "62OU2rJbTWJR",
    "outputId": "9d911856-182a-4d2c-d94e-b3f93fcdc959"
   },
   "outputs": [
    {
     "data": {
      "text/plain": [
       "array(['gender_M', 'marital_status_CIV', 'marital_status_DIV',\n",
       "       'marital_status_MAR', 'marital_status_UNM', 'marital_status_WID',\n",
       "       'job_position_ATP', 'job_position_BIS', 'job_position_BIU',\n",
       "       'job_position_DIR', 'job_position_HSK', 'job_position_INP',\n",
       "       'job_position_NOR', 'job_position_PNA', 'job_position_PNI',\n",
       "       'job_position_PNS', 'job_position_PNV', 'job_position_SPC',\n",
       "       'job_position_UMN', 'job_position_WOI', 'job_position_WRK',\n",
       "       'job_position_WRP', 'education_ACD', 'education_GRD',\n",
       "       'education_PGR', 'education_SCH', 'education_UGR'], dtype=object)"
      ]
     },
     "execution_count": 27,
     "metadata": {},
     "output_type": "execute_result"
    }
   ],
   "source": [
    "ohe.get_feature_names_out()"
   ]
  },
  {
   "cell_type": "code",
   "execution_count": 28,
   "metadata": {
    "colab": {
     "base_uri": "https://localhost:8080/",
     "height": 304
    },
    "execution": {
     "iopub.execute_input": "2023-11-04T20:23:09.343486Z",
     "iopub.status.busy": "2023-11-04T20:23:09.342980Z",
     "iopub.status.idle": "2023-11-04T20:23:09.441983Z",
     "shell.execute_reply": "2023-11-04T20:23:09.440947Z",
     "shell.execute_reply.started": "2023-11-04T20:23:09.343460Z"
    },
    "id": "za3LSBCNTZE4",
    "outputId": "c899b92d-362b-4420-8777-5f669596e0c7"
   },
   "outputs": [
    {
     "data": {
      "text/html": [
       "<div>\n",
       "<style scoped>\n",
       "    .dataframe tbody tr th:only-of-type {\n",
       "        vertical-align: middle;\n",
       "    }\n",
       "\n",
       "    .dataframe tbody tr th {\n",
       "        vertical-align: top;\n",
       "    }\n",
       "\n",
       "    .dataframe thead th {\n",
       "        text-align: right;\n",
       "    }\n",
       "</style>\n",
       "<table border=\"1\" class=\"dataframe\">\n",
       "  <thead>\n",
       "    <tr style=\"text-align: right;\">\n",
       "      <th></th>\n",
       "      <th>client_id</th>\n",
       "      <th>age</th>\n",
       "      <th>credit_sum</th>\n",
       "      <th>credit_month</th>\n",
       "      <th>tariff_id</th>\n",
       "      <th>score_shk</th>\n",
       "      <th>living_region</th>\n",
       "      <th>monthly_income</th>\n",
       "      <th>credit_count</th>\n",
       "      <th>overdue_credit_count</th>\n",
       "      <th>...</th>\n",
       "      <th>job_position_SPC</th>\n",
       "      <th>job_position_UMN</th>\n",
       "      <th>job_position_WOI</th>\n",
       "      <th>job_position_WRK</th>\n",
       "      <th>job_position_WRP</th>\n",
       "      <th>education_ACD</th>\n",
       "      <th>education_GRD</th>\n",
       "      <th>education_PGR</th>\n",
       "      <th>education_SCH</th>\n",
       "      <th>education_UGR</th>\n",
       "    </tr>\n",
       "  </thead>\n",
       "  <tbody>\n",
       "    <tr>\n",
       "      <th>0</th>\n",
       "      <td>1</td>\n",
       "      <td>25</td>\n",
       "      <td>26389.0</td>\n",
       "      <td>10</td>\n",
       "      <td>1.32</td>\n",
       "      <td>0.584105</td>\n",
       "      <td>ОБЛ КУРСКАЯ</td>\n",
       "      <td>35000.0</td>\n",
       "      <td>2.0</td>\n",
       "      <td>0.0</td>\n",
       "      <td>...</td>\n",
       "      <td>1.0</td>\n",
       "      <td>0.0</td>\n",
       "      <td>0.0</td>\n",
       "      <td>0.0</td>\n",
       "      <td>0.0</td>\n",
       "      <td>0.0</td>\n",
       "      <td>0.0</td>\n",
       "      <td>0.0</td>\n",
       "      <td>1.0</td>\n",
       "      <td>0.0</td>\n",
       "    </tr>\n",
       "    <tr>\n",
       "      <th>1</th>\n",
       "      <td>2</td>\n",
       "      <td>37</td>\n",
       "      <td>19588.0</td>\n",
       "      <td>12</td>\n",
       "      <td>1.43</td>\n",
       "      <td>0.718935</td>\n",
       "      <td>РЕСПУБЛИКА ТАТАРСТАН</td>\n",
       "      <td>15000.0</td>\n",
       "      <td>0.0</td>\n",
       "      <td>0.0</td>\n",
       "      <td>...</td>\n",
       "      <td>1.0</td>\n",
       "      <td>0.0</td>\n",
       "      <td>0.0</td>\n",
       "      <td>0.0</td>\n",
       "      <td>0.0</td>\n",
       "      <td>0.0</td>\n",
       "      <td>0.0</td>\n",
       "      <td>0.0</td>\n",
       "      <td>1.0</td>\n",
       "      <td>0.0</td>\n",
       "    </tr>\n",
       "    <tr>\n",
       "      <th>2</th>\n",
       "      <td>3</td>\n",
       "      <td>28</td>\n",
       "      <td>53669.0</td>\n",
       "      <td>18</td>\n",
       "      <td>1.10</td>\n",
       "      <td>0.586015</td>\n",
       "      <td>МОСКВА Г</td>\n",
       "      <td>70000.0</td>\n",
       "      <td>4.0</td>\n",
       "      <td>0.0</td>\n",
       "      <td>...</td>\n",
       "      <td>1.0</td>\n",
       "      <td>0.0</td>\n",
       "      <td>0.0</td>\n",
       "      <td>0.0</td>\n",
       "      <td>0.0</td>\n",
       "      <td>0.0</td>\n",
       "      <td>1.0</td>\n",
       "      <td>0.0</td>\n",
       "      <td>0.0</td>\n",
       "      <td>0.0</td>\n",
       "    </tr>\n",
       "    <tr>\n",
       "      <th>3</th>\n",
       "      <td>4</td>\n",
       "      <td>34</td>\n",
       "      <td>26349.0</td>\n",
       "      <td>10</td>\n",
       "      <td>1.43</td>\n",
       "      <td>0.655703</td>\n",
       "      <td>СВЕРДЛОВСКАЯ ОБЛАСТЬ</td>\n",
       "      <td>42500.0</td>\n",
       "      <td>4.0</td>\n",
       "      <td>0.0</td>\n",
       "      <td>...</td>\n",
       "      <td>1.0</td>\n",
       "      <td>0.0</td>\n",
       "      <td>0.0</td>\n",
       "      <td>0.0</td>\n",
       "      <td>0.0</td>\n",
       "      <td>0.0</td>\n",
       "      <td>0.0</td>\n",
       "      <td>0.0</td>\n",
       "      <td>1.0</td>\n",
       "      <td>0.0</td>\n",
       "    </tr>\n",
       "    <tr>\n",
       "      <th>4</th>\n",
       "      <td>5</td>\n",
       "      <td>43</td>\n",
       "      <td>11589.0</td>\n",
       "      <td>10</td>\n",
       "      <td>1.10</td>\n",
       "      <td>0.271893</td>\n",
       "      <td>РЯЗАНСКАЯ ОБЛАСТЬ</td>\n",
       "      <td>20000.0</td>\n",
       "      <td>3.0</td>\n",
       "      <td>0.0</td>\n",
       "      <td>...</td>\n",
       "      <td>0.0</td>\n",
       "      <td>1.0</td>\n",
       "      <td>0.0</td>\n",
       "      <td>0.0</td>\n",
       "      <td>0.0</td>\n",
       "      <td>0.0</td>\n",
       "      <td>1.0</td>\n",
       "      <td>0.0</td>\n",
       "      <td>0.0</td>\n",
       "      <td>0.0</td>\n",
       "    </tr>\n",
       "  </tbody>\n",
       "</table>\n",
       "<p>5 rows × 37 columns</p>\n",
       "</div>"
      ],
      "text/plain": [
       "   client_id  age  credit_sum  credit_month  tariff_id  score_shk  \\\n",
       "0          1   25     26389.0            10       1.32   0.584105   \n",
       "1          2   37     19588.0            12       1.43   0.718935   \n",
       "2          3   28     53669.0            18       1.10   0.586015   \n",
       "3          4   34     26349.0            10       1.43   0.655703   \n",
       "4          5   43     11589.0            10       1.10   0.271893   \n",
       "\n",
       "          living_region  monthly_income  credit_count  overdue_credit_count  \\\n",
       "0           ОБЛ КУРСКАЯ         35000.0           2.0                   0.0   \n",
       "1  РЕСПУБЛИКА ТАТАРСТАН         15000.0           0.0                   0.0   \n",
       "2              МОСКВА Г         70000.0           4.0                   0.0   \n",
       "3  СВЕРДЛОВСКАЯ ОБЛАСТЬ         42500.0           4.0                   0.0   \n",
       "4     РЯЗАНСКАЯ ОБЛАСТЬ         20000.0           3.0                   0.0   \n",
       "\n",
       "   ...  job_position_SPC  job_position_UMN  job_position_WOI  \\\n",
       "0  ...               1.0               0.0               0.0   \n",
       "1  ...               1.0               0.0               0.0   \n",
       "2  ...               1.0               0.0               0.0   \n",
       "3  ...               1.0               0.0               0.0   \n",
       "4  ...               0.0               1.0               0.0   \n",
       "\n",
       "   job_position_WRK  job_position_WRP  education_ACD  education_GRD  \\\n",
       "0               0.0               0.0            0.0            0.0   \n",
       "1               0.0               0.0            0.0            0.0   \n",
       "2               0.0               0.0            0.0            1.0   \n",
       "3               0.0               0.0            0.0            0.0   \n",
       "4               0.0               0.0            0.0            1.0   \n",
       "\n",
       "   education_PGR  education_SCH  education_UGR  \n",
       "0            0.0            1.0            0.0  \n",
       "1            0.0            1.0            0.0  \n",
       "2            0.0            0.0            0.0  \n",
       "3            0.0            1.0            0.0  \n",
       "4            0.0            0.0            0.0  \n",
       "\n",
       "[5 rows x 37 columns]"
      ]
     },
     "execution_count": 28,
     "metadata": {},
     "output_type": "execute_result"
    }
   ],
   "source": [
    "new_train_columns = pd.DataFrame(new_category_columns, columns=ohe.get_feature_names_out())\n",
    "train_data = train_data.drop(columns=categorical_columns)\n",
    "train_data = pd.concat([train_data, new_train_columns], axis=1)\n",
    "train_data.head()"
   ]
  },
  {
   "cell_type": "markdown",
   "metadata": {
    "id": "Q-G4102sT4X9"
   },
   "source": [
    "#### Processing living_region"
   ]
  },
  {
   "cell_type": "code",
   "execution_count": 29,
   "metadata": {
    "colab": {
     "base_uri": "https://localhost:8080/"
    },
    "execution": {
     "iopub.execute_input": "2023-11-04T20:23:09.443753Z",
     "iopub.status.busy": "2023-11-04T20:23:09.443065Z",
     "iopub.status.idle": "2023-11-04T20:23:09.542859Z",
     "shell.execute_reply": "2023-11-04T20:23:09.541978Z",
     "shell.execute_reply.started": "2023-11-04T20:23:09.443727Z"
    },
    "id": "Kl-y4vDOUI6B",
    "outputId": "7d6dff54-94b5-4dd4-c33f-45445d18fcb9"
   },
   "outputs": [
    {
     "data": {
      "text/plain": [
       "(array(['74', '98', 'АДЫГЕЯ РЕСП', 'АЛТАЙСКИЙ', 'АЛТАЙСКИЙ КРАЙ',\n",
       "        'АМУРСКАЯ ОБЛ', 'АМУРСКАЯ ОБЛАСТЬ', 'АО НЕНЕЦКИЙ',\n",
       "        'АО ХАНТЫ-МАНСИЙСКИЙ АВТОНОМНЫЙ ОКРУГ - Ю', 'АО ЯМАЛО-НЕНЕЦКИЙ',\n",
       "        'АОБЛ ЕВРЕЙСКАЯ', 'АРХАНГЕЛЬСКАЯ', 'АРХАНГЕЛЬСКАЯ ОБЛ',\n",
       "        'АРХАНГЕЛЬСКАЯ ОБЛАСТЬ', 'АСТРАХАНСКАЯ', 'АСТРАХАНСКАЯ ОБЛ',\n",
       "        'АСТРАХАНСКАЯ ОБЛАСТЬ', 'БАШКОРТОСТАН', 'БАШКОРТОСТАН РЕСП',\n",
       "        'БЕЛГОРОДСКАЯ ОБЛ', 'БЕЛГОРОДСКАЯ ОБЛАСТЬ', 'БРЯНСКАЯ ОБЛ',\n",
       "        'БРЯНСКАЯ ОБЛАСТЬ', 'БРЯНСКИЙ', 'БУРЯТИЯ', 'БУРЯТИЯ РЕСП',\n",
       "        'ВЛАДИМИРСКАЯ ОБЛ', 'ВЛАДИМИРСКАЯ ОБЛАСТЬ', 'ВОЛГОГРАДСКАЯ ОБЛ',\n",
       "        'ВОЛГОГРАДСКАЯ ОБЛАСТЬ', 'ВОЛОГОДСКАЯ', 'ВОЛОГОДСКАЯ ОБЛ',\n",
       "        'ВОЛОГОДСКАЯ ОБЛ.', 'ВОЛОГОДСКАЯ ОБЛАСТЬ', 'ВОРОНЕЖСКАЯ ОБЛ',\n",
       "        'ВОРОНЕЖСКАЯ ОБЛАСТЬ', 'Г МОСКВА', 'Г. МОСКВА',\n",
       "        'Г. САНКТ-ПЕТЕРБУРГ', 'Г.МОСКВА', 'ГОРЬКОВСКАЯ ОБЛ',\n",
       "        'ГУСЬ-ХРУСТАЛЬНЫЙ Р-Н', 'ДАГЕСТАН РЕСП', 'ЕВРЕЙСКАЯ АВТОНОМНАЯ',\n",
       "        'ЕВРЕЙСКАЯ АОБЛ', 'ЗАБАЙКАЛЬСКИЙ КРАЙ', 'ИВАНОВСКАЯ ОБЛ',\n",
       "        'ИВАНОВСКАЯ ОБЛАСТЬ', 'ИНГУШЕТИЯ РЕСП', 'ИРКУТСКАЯ ОБЛ',\n",
       "        'ИРКУТСКАЯ ОБЛАСТЬ', 'КАБАРДИНО-БАЛКАРСКАЯ',\n",
       "        'КАБАРДИНО-БАЛКАРСКАЯ РЕСП', 'КАЛИНИНГРАДСКАЯ ОБЛ',\n",
       "        'КАЛИНИНГРАДСКАЯ ОБЛ.', 'КАЛМЫКИЯ', 'КАЛМЫКИЯ РЕСП', 'КАЛУЖСКАЯ',\n",
       "        'КАЛУЖСКАЯ ОБЛ', 'КАЛУЖСКАЯ ОБЛАСТЬ', 'КАМЧАТСКАЯ ОБЛАСТЬ',\n",
       "        'КАМЧАТСКИЙ КРАЙ', 'КАРАЧАЕВО-ЧЕРКЕССКАЯ РЕСП', 'КАРЕЛИЯ',\n",
       "        'КАРЕЛИЯ РЕСП', 'КЕМЕРОВСКАЯ ОБЛ', 'КЕМЕРОВСКАЯ ОБЛАСТЬ',\n",
       "        'КИРОВСКАЯ ОБЛ', 'КИРОВСКАЯ ОБЛАСТЬ', 'КОМИ', 'КОМИ РЕСП',\n",
       "        'КОСТРОМСКАЯ ОБЛ', 'КОСТРОМСКАЯ ОБЛАСТЬ', 'КРАЙ АЛТАЙСКИЙ',\n",
       "        'КРАЙ ЗАБАЙКАЛЬСКИЙ', 'КРАЙ КАМЧАТСКИЙ', 'КРАЙ КРАСНОДАРСКИЙ',\n",
       "        'КРАЙ КРАСНОЯРСКИЙ', 'КРАЙ ПЕРМСКИЙ', 'КРАЙ ПРИМОРСКИЙ',\n",
       "        'КРАЙ СТАВРОПОЛЬСКИЙ', 'КРАЙ ХАБАРОВСКИЙ', 'КРАЙ. КРАСНОЯРСКИЙ',\n",
       "        'КРАЙ. ПЕРМСКИЙ', 'КРАЙ. СТАВРОПОЛЬСКИЙ', 'КРАСНОДАРСКИЙ',\n",
       "        'КРАСНОДАРСКИЙ КРАЙ', 'КРАСНОЯРСКИЙ КРАЙ', 'КУРГАНСКАЯ ОБЛ',\n",
       "        'КУРГАНСКАЯ ОБЛАСТЬ', 'КУРСКАЯ ОБЛ', 'КУРСКАЯ ОБЛАСТЬ',\n",
       "        'ЛЕНИНГРАДСКАЯ', 'ЛЕНИНГРАДСКАЯ ОБЛ', 'ЛЕНИНГРАДСКАЯ ОБЛАСТЬ',\n",
       "        'ЛИПЕЦКАЯ ОБЛ', 'ЛИПЕЦКАЯ ОБЛАСТЬ', 'МАГАДАНСКАЯ ОБЛАСТЬ',\n",
       "        'МАРИЙ ЭЛ РЕСП', 'МОРДОВИЯ РЕСП', 'МОСКВА', 'МОСКВА Г',\n",
       "        'МОСКОВСКАЯ', 'МОСКОВСКАЯ ОБЛ', 'МОСКОВСКАЯ ОБЛАСТЬ',\n",
       "        'МУРМАНСКАЯ ОБЛ', 'МУРМАНСКАЯ ОБЛАСТЬ', 'МЫТИЩИНСКИЙ Р-Н',\n",
       "        'НЕНЕЦКИЙ АО', 'НИЖЕГОРОДСКАЯ ОБЛ', 'НИЖЕГОРОДСКАЯ ОБЛАСТЬ',\n",
       "        'НОВГОРОДСКАЯ ОБЛ', 'НОВГОРОДСКАЯ ОБЛАСТЬ', 'НОВОСИБИРСКАЯ',\n",
       "        'НОВОСИБИРСКАЯ ОБЛ', 'НОВОСИБИРСКАЯ ОБЛАСТЬ', 'ОБЛ АМУРСКАЯ',\n",
       "        'ОБЛ АРХАНГЕЛЬСКАЯ', 'ОБЛ АСТРАХАНСКАЯ', 'ОБЛ БЕЛГОРОДСКАЯ',\n",
       "        'ОБЛ БРЯНСКАЯ', 'ОБЛ ВЛАДИМИРСКАЯ', 'ОБЛ ВОЛГОГРАДСКАЯ',\n",
       "        'ОБЛ ВОЛОГОДСКАЯ', 'ОБЛ ВОРОНЕЖСКАЯ', 'ОБЛ ИВАНОВСКАЯ',\n",
       "        'ОБЛ ИРКУТСКАЯ', 'ОБЛ КАЛИНИНГРАДСКАЯ', 'ОБЛ КАЛУЖСКАЯ',\n",
       "        'ОБЛ КЕМЕРОВСКАЯ', 'ОБЛ КИРОВСКАЯ', 'ОБЛ КОСТРОМСКАЯ',\n",
       "        'ОБЛ КУРГАНСКАЯ', 'ОБЛ КУРСКАЯ', 'ОБЛ ЛЕНИНГРАДСКАЯ',\n",
       "        'ОБЛ ЛИПЕЦКАЯ', 'ОБЛ МАГАДАНСКАЯ', 'ОБЛ МОСКОВСКАЯ',\n",
       "        'ОБЛ МУРМАНСКАЯ', 'ОБЛ НИЖЕГОРОДСКАЯ', 'ОБЛ НОВГОРОДСКАЯ',\n",
       "        'ОБЛ НОВОСИБИРСКАЯ', 'ОБЛ ОМСКАЯ', 'ОБЛ ОРЕНБУРГСКАЯ',\n",
       "        'ОБЛ ОРЛОВСКАЯ', 'ОБЛ ПЕНЗЕНСКАЯ', 'ОБЛ ПСКОВСКАЯ',\n",
       "        'ОБЛ РОСТОВСКАЯ', 'ОБЛ РЯЗАНСКАЯ', 'ОБЛ САМАРСКАЯ',\n",
       "        'ОБЛ САРАТОВСКАЯ', 'ОБЛ САХАЛИНСКАЯ', 'ОБЛ СВЕРДЛОВСКАЯ',\n",
       "        'ОБЛ СМОЛЕНСКАЯ', 'ОБЛ ТАМБОВСКАЯ', 'ОБЛ ТВЕРСКАЯ', 'ОБЛ ТОМСКАЯ',\n",
       "        'ОБЛ ТУЛЬСКАЯ', 'ОБЛ ТЮМЕНСКАЯ', 'ОБЛ УЛЬЯНОВСКАЯ',\n",
       "        'ОБЛ ЧЕЛЯБИНСКАЯ', 'ОБЛ ЯРОСЛАВСКАЯ', 'ОБЛ. ВЛАДИМИРСКАЯ',\n",
       "        'ОБЛ. КУРГАНСКАЯ', 'ОБЛ. СВЕРДЛОВСКАЯ', 'ОБЛ.НИЖЕГОРОДСКАЯ',\n",
       "        'ОБЛ.РОСТОВСКАЯ', 'ОБЛ.САРАТОВСКАЯ', 'ОМСКАЯ', 'ОМСКАЯ ОБЛ',\n",
       "        'ОМСКАЯ ОБЛАСТЬ', 'ОРЁЛ', 'ОРЕНБУРГСКАЯ ОБЛ',\n",
       "        'ОРЕНБУРГСКАЯ ОБЛАСТЬ', 'ОРЛОВСКАЯ ОБЛ', 'ОРЛОВСКАЯ ОБЛАСТЬ',\n",
       "        'ПЕНЗЕНСКАЯ ОБЛ', 'ПЕНЗЕНСКАЯ ОБЛАСТЬ', 'ПЕРМСКАЯ ОБЛ', 'ПЕРМСКИЙ',\n",
       "        'ПЕРМСКИЙ КРАЙ', 'ПРИВОЛЖСКИЙ ФЕДЕРАЛЬНЫЙ ОКРУГ',\n",
       "        'ПРИМОРСКИЙ КРАЙ', 'ПСКОВСКАЯ ОБЛ', 'ПСКОВСКАЯ ОБЛАСТЬ',\n",
       "        'РЕСП АДЫГЕЯ', 'РЕСП АЛТАЙ', 'РЕСП БАШКОРТОСТАН', 'РЕСП БУРЯТИЯ',\n",
       "        'РЕСП ДАГЕСТАН', 'РЕСП ИНГУШЕТИЯ', 'РЕСП КАБАРДИНО-БАЛКАРСКАЯ',\n",
       "        'РЕСП КАЛМЫКИЯ', 'РЕСП КАРАЧАЕВО-ЧЕРКЕССКАЯ', 'РЕСП КАРЕЛИЯ',\n",
       "        'РЕСП КОМИ', 'РЕСП МАРИЙ ЭЛ', 'РЕСП МОРДОВИЯ',\n",
       "        'РЕСП САХА /ЯКУТИЯ/', 'РЕСП СЕВЕРНАЯ ОСЕТИЯ - АЛАНИЯ',\n",
       "        'РЕСП ТАТАРСТАН', 'РЕСП ТЫВА', 'РЕСП УДМУРТСКАЯ', 'РЕСП ХАКАСИЯ',\n",
       "        'РЕСП ЧЕЧЕНСКАЯ', 'РЕСП ЧУВАШСКАЯ - ЧУВАШИЯ', 'РЕСП. БАШКОРТОСТАН',\n",
       "        'РЕСП. КОМИ', 'РЕСП. САХА (ЯКУТИЯ)', 'РЕСП.БАШКОРТОСТАН',\n",
       "        'РЕСПУБЛИКА АДЫГЕЯ', 'РЕСПУБЛИКА АЛТАЙ', 'РЕСПУБЛИКА БУРЯТИЯ',\n",
       "        'РЕСПУБЛИКА ДАГЕСТАН', 'РЕСПУБЛИКА КАЛМЫКИЯ', 'РЕСПУБЛИКА КАРЕЛИЯ',\n",
       "        'РЕСПУБЛИКА КОМИ', 'РЕСПУБЛИКА МАРИЙ ЭЛ', 'РЕСПУБЛИКА МОРДОВИЯ',\n",
       "        'РЕСПУБЛИКА ТАТАРСТАН', 'РЕСПУБЛИКА ТЫВА', 'РЕСПУБЛИКАТАТАРСТАН',\n",
       "        'РОССИЯ', 'РОСТОВСКАЯ', 'РОСТОВСКАЯ ОБЛ', 'РОСТОВСКАЯ ОБЛАСТЬ',\n",
       "        'РЯЗАНСКАЯ ОБЛ', 'РЯЗАНСКАЯ ОБЛАСТЬ', 'САМАРСКАЯ', 'САМАРСКАЯ ОБЛ',\n",
       "        'САМАРСКАЯ ОБЛАСТЬ', 'САНКТ-ПЕТЕРБУРГ', 'САНКТ-ПЕТЕРБУРГ Г',\n",
       "        'САРАТОВСКАЯ ОБЛ', 'САРАТОВСКАЯ ОБЛАСТЬ', 'САХА /ЯКУТИЯ/',\n",
       "        'САХА /ЯКУТИЯ/ РЕСП', 'САХАЛИНСКАЯ ОБЛ', 'САХАЛИНСКАЯ ОБЛАСТЬ',\n",
       "        'СВЕРДЛОВСКАЯ', 'СВЕРДЛОВСКАЯ ОБЛ', 'СВЕРДЛОВСКАЯ ОБЛАСТЬ',\n",
       "        'СЕВ. ОСЕТИЯ - АЛАНИЯ', 'СЕВЕРНАЯ ОСЕТИЯ - АЛАНИЯ РЕСП',\n",
       "        'СМОЛЕНСКАЯ ОБЛ', 'СМОЛЕНСКАЯ ОБЛАСТЬ', 'СТАВРОПОЛЬСКИЙ',\n",
       "        'СТАВРОПОЛЬСКИЙ КРАЙ', 'ТАМБОВСКАЯ ОБЛ', 'ТАМБОВСКАЯ ОБЛАСТЬ',\n",
       "        'ТАТАРСТАН РЕСП', 'ТВЕРСКАЯ ОБЛ', 'ТВЕРСКАЯ ОБЛАСТЬ', 'ТОМСКАЯ',\n",
       "        'ТОМСКАЯ ОБЛ', 'ТОМСКАЯ ОБЛАСТЬ', 'ТУЛЬСКАЯ ОБЛ',\n",
       "        'ТУЛЬСКАЯ ОБЛАСТЬ', 'ТЫВА РЕСП', 'ТЮМЕНСКАЯ', 'ТЮМЕНСКАЯ ОБЛ',\n",
       "        'ТЮМЕНСКАЯ ОБЛАСТЬ', 'УДМУРТСКАЯ РЕСП', 'УДМУРТСКАЯ РЕСПУБЛИКА',\n",
       "        'УЛЬЯНОВСКАЯ ОБЛ', 'УЛЬЯНОВСКАЯ ОБЛАСТЬ', 'ХАБАРОВСКИЙ КРАЙ',\n",
       "        'ХАКАСИЯ', 'ХАКАСИЯ РЕСП',\n",
       "        'ХАНТЫ-МАНСИЙСКИЙ АВТОНОМНЫЙ ОКРУГ - ЮГРА', 'ХАНТЫ-МАНСИЙСКИЙ АО',\n",
       "        'ЧЕЛЯБИНСКАЯ ОБЛ', 'ЧЕЛЯБИНСКАЯ ОБЛАСТЬ', 'ЧЕЧЕНСКАЯ РЕСП',\n",
       "        'ЧЕЧЕНСКАЯ РЕСПУБЛИКА', 'ЧИТИНСКАЯ ОБЛ',\n",
       "        'ЧУВАШИЯ ЧУВАШСКАЯ РЕСПУБЛИКА -', 'ЧУВАШСКАЯ - ЧУВАШИЯ РЕСП',\n",
       "        'ЧУВАШСКАЯ РЕСП', 'ЧУВАШСКАЯ РЕСПУБЛИКА',\n",
       "        'ЧУВАШСКАЯ РЕСПУБЛИКА - ЧУВАШИЯ', 'ЧУКОТСКИЙ АО',\n",
       "        'ЯМАЛО-НЕНЕЦКИЙ АО', 'ЯРОСЛАВСКАЯ ОБЛ', 'ЯРОСЛАВСКАЯ ОБЛАСТЬ'],\n",
       "       dtype=object),\n",
       " array([   1,    1,    5,    2,    7,    9,   15,   13,  396,   94,    3,\n",
       "           1,   16,    7,   18,   27,   99,   18,   99,   21,   20,    8,\n",
       "           4,    1,   13,   19,   23,   15,   17,   26,   30,    6,    1,\n",
       "          30,    8,    8,   13,   47,   23,    1,   16,    1,    5,    6,\n",
       "         130,   46,    4,    3,    1,  101,   62,    9,   25,    8,    1,\n",
       "           1,    3,    1,   11,   11,    1,    8,   12,    1,    2,   20,\n",
       "          17,    5,    1,    1,   12,    3,    4,  374,  863,  271,  615,\n",
       "         123,  600,   32, 1833,   43,    1,    1,    1,    7, 5176, 2087,\n",
       "          20,    8,   40,   36,   15,   66,   87,    6,   10,    1,    9,\n",
       "           5, 3821, 2509,    6,  266,  156,   13,    9,    1,  100,   51,\n",
       "          35,   11,    3,    1,   31,    6,  580, 1204, 1756,  498,  544,\n",
       "        1078, 1587, 1756, 1172,  667, 2863,  503,  773, 1993,  438,  372,\n",
       "         918,  809, 2235,  582,  106, 8564,  919, 2504,  514, 1496,   64,\n",
       "          83,   60,   54,  148,  157,   49, 2034,   97,   16,  899,   36,\n",
       "          46,   63,   36,   54,  434,   38,  469,   36,    1,    1,    1,\n",
       "           1,    1,    1,    1,  413,  185,    1,  638,  190,  313,  161,\n",
       "         362,  243,   39,    1, 1930,    1,  862,  162,   98,  282,   32,\n",
       "        3358,  851,   40,   16,  427,  138,  412,  387,  894,  357,  341,\n",
       "          43,   33,  223,   18,   44,   99,   13,    1, 1011,    1,  358,\n",
       "           1,  112,    3,  264,    4,   61,   82,  409,  130,  151, 1513,\n",
       "         102,    1,    1,    2, 2111,  729,  268,  195,   23,  959,  570,\n",
       "        3968, 1866, 1023,  511,    1,  880,  326,  141,    1, 2782, 1410,\n",
       "          33,  195,  461,  212,    4, 1395,  451,  282, 3635,  650,  364,\n",
       "           1,  232,  166,  610,  290,  276,    1,  840,  433,  516,  192,\n",
       "         394,  232, 1039,    1,  238, 1575, 1038, 2047, 1093,    6,    2,\n",
       "           8,   35,   53,    1,  205,  367,   21, 1249,  377,  230]))"
      ]
     },
     "execution_count": 29,
     "metadata": {},
     "output_type": "execute_result"
    }
   ],
   "source": [
    "np.unique(train_data['living_region'].dropna(), return_counts=True)"
   ]
  },
  {
   "cell_type": "markdown",
   "metadata": {
    "id": "Ap4g1ffmUcxB"
   },
   "source": [
    "What are or could be the problems here:\n",
    "\n",
    "- The same region is written differently;\n",
    "- There are regions that are very rare;\n",
    "- Two types of situations are possible:\n",
    "    - Some region is in the training data, but it is not in the test data;\n",
    "    - A region is in the test data but not in the training data."
   ]
  },
  {
   "cell_type": "markdown",
   "metadata": {
    "id": "k025DgC0VKAs"
   },
   "source": [
    "### Creating new features"
   ]
  },
  {
   "cell_type": "markdown",
   "metadata": {
    "id": "S98iHnn6zgqD"
   },
   "source": [
    "#### Manual creation of new features"
   ]
  },
  {
   "cell_type": "code",
   "execution_count": 30,
   "metadata": {
    "colab": {
     "base_uri": "https://localhost:8080/",
     "height": 304
    },
    "execution": {
     "iopub.execute_input": "2023-11-04T20:23:09.545003Z",
     "iopub.status.busy": "2023-11-04T20:23:09.544140Z",
     "iopub.status.idle": "2023-11-04T20:23:09.571108Z",
     "shell.execute_reply": "2023-11-04T20:23:09.570136Z",
     "shell.execute_reply.started": "2023-11-04T20:23:09.544975Z"
    },
    "id": "Tqavb8fwRIgg",
    "outputId": "e7a3d0fb-9d4b-4bc4-96de-e9aee5dbd31b"
   },
   "outputs": [
    {
     "data": {
      "text/html": [
       "<div>\n",
       "<style scoped>\n",
       "    .dataframe tbody tr th:only-of-type {\n",
       "        vertical-align: middle;\n",
       "    }\n",
       "\n",
       "    .dataframe tbody tr th {\n",
       "        vertical-align: top;\n",
       "    }\n",
       "\n",
       "    .dataframe thead th {\n",
       "        text-align: right;\n",
       "    }\n",
       "</style>\n",
       "<table border=\"1\" class=\"dataframe\">\n",
       "  <thead>\n",
       "    <tr style=\"text-align: right;\">\n",
       "      <th></th>\n",
       "      <th>client_id</th>\n",
       "      <th>age</th>\n",
       "      <th>credit_sum</th>\n",
       "      <th>credit_month</th>\n",
       "      <th>tariff_id</th>\n",
       "      <th>score_shk</th>\n",
       "      <th>living_region</th>\n",
       "      <th>monthly_income</th>\n",
       "      <th>credit_count</th>\n",
       "      <th>overdue_credit_count</th>\n",
       "      <th>...</th>\n",
       "      <th>job_position_SPC</th>\n",
       "      <th>job_position_UMN</th>\n",
       "      <th>job_position_WOI</th>\n",
       "      <th>job_position_WRK</th>\n",
       "      <th>job_position_WRP</th>\n",
       "      <th>education_ACD</th>\n",
       "      <th>education_GRD</th>\n",
       "      <th>education_PGR</th>\n",
       "      <th>education_SCH</th>\n",
       "      <th>education_UGR</th>\n",
       "    </tr>\n",
       "  </thead>\n",
       "  <tbody>\n",
       "    <tr>\n",
       "      <th>0</th>\n",
       "      <td>1</td>\n",
       "      <td>25</td>\n",
       "      <td>26389.0</td>\n",
       "      <td>10</td>\n",
       "      <td>1.32</td>\n",
       "      <td>0.584105</td>\n",
       "      <td>ОБЛ КУРСКАЯ</td>\n",
       "      <td>35000.0</td>\n",
       "      <td>2.0</td>\n",
       "      <td>0.0</td>\n",
       "      <td>...</td>\n",
       "      <td>1.0</td>\n",
       "      <td>0.0</td>\n",
       "      <td>0.0</td>\n",
       "      <td>0.0</td>\n",
       "      <td>0.0</td>\n",
       "      <td>0.0</td>\n",
       "      <td>0.0</td>\n",
       "      <td>0.0</td>\n",
       "      <td>1.0</td>\n",
       "      <td>0.0</td>\n",
       "    </tr>\n",
       "    <tr>\n",
       "      <th>1</th>\n",
       "      <td>2</td>\n",
       "      <td>37</td>\n",
       "      <td>19588.0</td>\n",
       "      <td>12</td>\n",
       "      <td>1.43</td>\n",
       "      <td>0.718935</td>\n",
       "      <td>РЕСПУБЛИКА ТАТАРСТАН</td>\n",
       "      <td>15000.0</td>\n",
       "      <td>0.0</td>\n",
       "      <td>0.0</td>\n",
       "      <td>...</td>\n",
       "      <td>1.0</td>\n",
       "      <td>0.0</td>\n",
       "      <td>0.0</td>\n",
       "      <td>0.0</td>\n",
       "      <td>0.0</td>\n",
       "      <td>0.0</td>\n",
       "      <td>0.0</td>\n",
       "      <td>0.0</td>\n",
       "      <td>1.0</td>\n",
       "      <td>0.0</td>\n",
       "    </tr>\n",
       "    <tr>\n",
       "      <th>2</th>\n",
       "      <td>3</td>\n",
       "      <td>28</td>\n",
       "      <td>53669.0</td>\n",
       "      <td>18</td>\n",
       "      <td>1.10</td>\n",
       "      <td>0.586015</td>\n",
       "      <td>МОСКВА Г</td>\n",
       "      <td>70000.0</td>\n",
       "      <td>4.0</td>\n",
       "      <td>0.0</td>\n",
       "      <td>...</td>\n",
       "      <td>1.0</td>\n",
       "      <td>0.0</td>\n",
       "      <td>0.0</td>\n",
       "      <td>0.0</td>\n",
       "      <td>0.0</td>\n",
       "      <td>0.0</td>\n",
       "      <td>1.0</td>\n",
       "      <td>0.0</td>\n",
       "      <td>0.0</td>\n",
       "      <td>0.0</td>\n",
       "    </tr>\n",
       "    <tr>\n",
       "      <th>3</th>\n",
       "      <td>4</td>\n",
       "      <td>34</td>\n",
       "      <td>26349.0</td>\n",
       "      <td>10</td>\n",
       "      <td>1.43</td>\n",
       "      <td>0.655703</td>\n",
       "      <td>СВЕРДЛОВСКАЯ ОБЛАСТЬ</td>\n",
       "      <td>42500.0</td>\n",
       "      <td>4.0</td>\n",
       "      <td>0.0</td>\n",
       "      <td>...</td>\n",
       "      <td>1.0</td>\n",
       "      <td>0.0</td>\n",
       "      <td>0.0</td>\n",
       "      <td>0.0</td>\n",
       "      <td>0.0</td>\n",
       "      <td>0.0</td>\n",
       "      <td>0.0</td>\n",
       "      <td>0.0</td>\n",
       "      <td>1.0</td>\n",
       "      <td>0.0</td>\n",
       "    </tr>\n",
       "    <tr>\n",
       "      <th>4</th>\n",
       "      <td>5</td>\n",
       "      <td>43</td>\n",
       "      <td>11589.0</td>\n",
       "      <td>10</td>\n",
       "      <td>1.10</td>\n",
       "      <td>0.271893</td>\n",
       "      <td>РЯЗАНСКАЯ ОБЛАСТЬ</td>\n",
       "      <td>20000.0</td>\n",
       "      <td>3.0</td>\n",
       "      <td>0.0</td>\n",
       "      <td>...</td>\n",
       "      <td>0.0</td>\n",
       "      <td>1.0</td>\n",
       "      <td>0.0</td>\n",
       "      <td>0.0</td>\n",
       "      <td>0.0</td>\n",
       "      <td>0.0</td>\n",
       "      <td>1.0</td>\n",
       "      <td>0.0</td>\n",
       "      <td>0.0</td>\n",
       "      <td>0.0</td>\n",
       "    </tr>\n",
       "  </tbody>\n",
       "</table>\n",
       "<p>5 rows × 37 columns</p>\n",
       "</div>"
      ],
      "text/plain": [
       "   client_id  age  credit_sum  credit_month  tariff_id  score_shk  \\\n",
       "0          1   25     26389.0            10       1.32   0.584105   \n",
       "1          2   37     19588.0            12       1.43   0.718935   \n",
       "2          3   28     53669.0            18       1.10   0.586015   \n",
       "3          4   34     26349.0            10       1.43   0.655703   \n",
       "4          5   43     11589.0            10       1.10   0.271893   \n",
       "\n",
       "          living_region  monthly_income  credit_count  overdue_credit_count  \\\n",
       "0           ОБЛ КУРСКАЯ         35000.0           2.0                   0.0   \n",
       "1  РЕСПУБЛИКА ТАТАРСТАН         15000.0           0.0                   0.0   \n",
       "2              МОСКВА Г         70000.0           4.0                   0.0   \n",
       "3  СВЕРДЛОВСКАЯ ОБЛАСТЬ         42500.0           4.0                   0.0   \n",
       "4     РЯЗАНСКАЯ ОБЛАСТЬ         20000.0           3.0                   0.0   \n",
       "\n",
       "   ...  job_position_SPC  job_position_UMN  job_position_WOI  \\\n",
       "0  ...               1.0               0.0               0.0   \n",
       "1  ...               1.0               0.0               0.0   \n",
       "2  ...               1.0               0.0               0.0   \n",
       "3  ...               1.0               0.0               0.0   \n",
       "4  ...               0.0               1.0               0.0   \n",
       "\n",
       "   job_position_WRK  job_position_WRP  education_ACD  education_GRD  \\\n",
       "0               0.0               0.0            0.0            0.0   \n",
       "1               0.0               0.0            0.0            0.0   \n",
       "2               0.0               0.0            0.0            1.0   \n",
       "3               0.0               0.0            0.0            0.0   \n",
       "4               0.0               0.0            0.0            1.0   \n",
       "\n",
       "   education_PGR  education_SCH  education_UGR  \n",
       "0            0.0            1.0            0.0  \n",
       "1            0.0            1.0            0.0  \n",
       "2            0.0            0.0            0.0  \n",
       "3            0.0            1.0            0.0  \n",
       "4            0.0            0.0            0.0  \n",
       "\n",
       "[5 rows x 37 columns]"
      ]
     },
     "execution_count": 30,
     "metadata": {},
     "output_type": "execute_result"
    }
   ],
   "source": [
    "train_data.head()"
   ]
  },
  {
   "cell_type": "markdown",
   "metadata": {
    "id": "mdbAU859zdID"
   },
   "source": [
    "#### Automatic creation of new features"
   ]
  },
  {
   "cell_type": "markdown",
   "metadata": {
    "id": "Foe4kQFU1ZPF"
   },
   "source": [
    "The [PolynomialFeatures](sklearn.preprocessing.PolynomialFeatures) from sklearn will help"
   ]
  },
  {
   "cell_type": "markdown",
   "metadata": {
    "id": "QggLSuwTz06h"
   },
   "source": [
    "### Feature filtering"
   ]
  },
  {
   "cell_type": "markdown",
   "metadata": {
    "id": "xzMN5pxdz3IN"
   },
   "source": [
    "The [SequentialFeatureSelector](https://scikit-learn.org/stable/modules/generated/sklearn.feature_selection.SequentialFeatureSelector.html#sklearn.feature_selection.SequentialFeatureSelector), [SelectFromModel](https://scikit-learn.org/stable/modules/generated/sklearn.feature_selection.SelectFromModel.html#sklearn.feature_selection.SelectFromModel) and other classes from the [feature_selection](https://scikit-learn.org/stable/modules/classes.html#module-sklearn.feature_selection) sklearn module will help."
   ]
  },
  {
   "cell_type": "markdown",
   "metadata": {
    "id": "ph9d7m5IPdky"
   },
   "source": [
    "## Test data processing"
   ]
  },
  {
   "cell_type": "code",
   "execution_count": 31,
   "metadata": {
    "colab": {
     "base_uri": "https://localhost:8080/",
     "height": 292
    },
    "execution": {
     "iopub.execute_input": "2023-11-04T20:23:09.572417Z",
     "iopub.status.busy": "2023-11-04T20:23:09.572188Z",
     "iopub.status.idle": "2023-11-04T20:23:09.589025Z",
     "shell.execute_reply": "2023-11-04T20:23:09.588040Z",
     "shell.execute_reply.started": "2023-11-04T20:23:09.572390Z"
    },
    "id": "ofNam26APhXP",
    "outputId": "f47cc68f-b1b5-4c70-f835-531e486a84ae"
   },
   "outputs": [
    {
     "data": {
      "text/html": [
       "<div>\n",
       "<style scoped>\n",
       "    .dataframe tbody tr th:only-of-type {\n",
       "        vertical-align: middle;\n",
       "    }\n",
       "\n",
       "    .dataframe tbody tr th {\n",
       "        vertical-align: top;\n",
       "    }\n",
       "\n",
       "    .dataframe thead th {\n",
       "        text-align: right;\n",
       "    }\n",
       "</style>\n",
       "<table border=\"1\" class=\"dataframe\">\n",
       "  <thead>\n",
       "    <tr style=\"text-align: right;\">\n",
       "      <th></th>\n",
       "      <th>client_id</th>\n",
       "      <th>gender</th>\n",
       "      <th>age</th>\n",
       "      <th>marital_status</th>\n",
       "      <th>job_position</th>\n",
       "      <th>credit_sum</th>\n",
       "      <th>credit_month</th>\n",
       "      <th>tariff_id</th>\n",
       "      <th>score_shk</th>\n",
       "      <th>education</th>\n",
       "      <th>living_region</th>\n",
       "      <th>monthly_income</th>\n",
       "      <th>credit_count</th>\n",
       "      <th>overdue_credit_count</th>\n",
       "    </tr>\n",
       "  </thead>\n",
       "  <tbody>\n",
       "    <tr>\n",
       "      <th>0</th>\n",
       "      <td>119519</td>\n",
       "      <td>F</td>\n",
       "      <td>24</td>\n",
       "      <td>MAR</td>\n",
       "      <td>SPC</td>\n",
       "      <td>28429.0</td>\n",
       "      <td>18</td>\n",
       "      <td>1.10</td>\n",
       "      <td>0.593836</td>\n",
       "      <td>GRD</td>\n",
       "      <td>ОБЛ ИРКУТСКАЯ</td>\n",
       "      <td>33000.0</td>\n",
       "      <td>3.0</td>\n",
       "      <td>0.0</td>\n",
       "    </tr>\n",
       "    <tr>\n",
       "      <th>1</th>\n",
       "      <td>119520</td>\n",
       "      <td>M</td>\n",
       "      <td>25</td>\n",
       "      <td>UNM</td>\n",
       "      <td>SPC</td>\n",
       "      <td>15997.0</td>\n",
       "      <td>10</td>\n",
       "      <td>1.60</td>\n",
       "      <td>0.615015</td>\n",
       "      <td>SCH</td>\n",
       "      <td>УЛЬЯНОВСКАЯ ОБЛ</td>\n",
       "      <td>35000.0</td>\n",
       "      <td>2.0</td>\n",
       "      <td>0.0</td>\n",
       "    </tr>\n",
       "    <tr>\n",
       "      <th>2</th>\n",
       "      <td>119521</td>\n",
       "      <td>M</td>\n",
       "      <td>25</td>\n",
       "      <td>UNM</td>\n",
       "      <td>SPC</td>\n",
       "      <td>11043.0</td>\n",
       "      <td>10</td>\n",
       "      <td>1.16</td>\n",
       "      <td>0.666758</td>\n",
       "      <td>SCH</td>\n",
       "      <td>РЕСП БАШКОРТОСТАН</td>\n",
       "      <td>25000.0</td>\n",
       "      <td>3.0</td>\n",
       "      <td>0.0</td>\n",
       "    </tr>\n",
       "    <tr>\n",
       "      <th>3</th>\n",
       "      <td>119522</td>\n",
       "      <td>F</td>\n",
       "      <td>34</td>\n",
       "      <td>MAR</td>\n",
       "      <td>SPC</td>\n",
       "      <td>14617.0</td>\n",
       "      <td>10</td>\n",
       "      <td>1.40</td>\n",
       "      <td>0.447745</td>\n",
       "      <td>GRD</td>\n",
       "      <td>ПЕНЗЕНСКАЯ ОБЛ</td>\n",
       "      <td>15000.0</td>\n",
       "      <td>2.0</td>\n",
       "      <td>0.0</td>\n",
       "    </tr>\n",
       "    <tr>\n",
       "      <th>4</th>\n",
       "      <td>119523</td>\n",
       "      <td>M</td>\n",
       "      <td>33</td>\n",
       "      <td>MAR</td>\n",
       "      <td>SPC</td>\n",
       "      <td>38147.0</td>\n",
       "      <td>12</td>\n",
       "      <td>1.60</td>\n",
       "      <td>0.706974</td>\n",
       "      <td>UGR</td>\n",
       "      <td>ОБЛ МОСКОВСКАЯ</td>\n",
       "      <td>55000.0</td>\n",
       "      <td>1.0</td>\n",
       "      <td>0.0</td>\n",
       "    </tr>\n",
       "  </tbody>\n",
       "</table>\n",
       "</div>"
      ],
      "text/plain": [
       "   client_id gender  age marital_status job_position  credit_sum  \\\n",
       "0     119519      F   24            MAR          SPC     28429.0   \n",
       "1     119520      M   25            UNM          SPC     15997.0   \n",
       "2     119521      M   25            UNM          SPC     11043.0   \n",
       "3     119522      F   34            MAR          SPC     14617.0   \n",
       "4     119523      M   33            MAR          SPC     38147.0   \n",
       "\n",
       "   credit_month  tariff_id  score_shk education      living_region  \\\n",
       "0            18       1.10   0.593836       GRD      ОБЛ ИРКУТСКАЯ   \n",
       "1            10       1.60   0.615015       SCH    УЛЬЯНОВСКАЯ ОБЛ   \n",
       "2            10       1.16   0.666758       SCH  РЕСП БАШКОРТОСТАН   \n",
       "3            10       1.40   0.447745       GRD     ПЕНЗЕНСКАЯ ОБЛ   \n",
       "4            12       1.60   0.706974       UGR     ОБЛ МОСКОВСКАЯ   \n",
       "\n",
       "   monthly_income  credit_count  overdue_credit_count  \n",
       "0         33000.0           3.0                   0.0  \n",
       "1         35000.0           2.0                   0.0  \n",
       "2         25000.0           3.0                   0.0  \n",
       "3         15000.0           2.0                   0.0  \n",
       "4         55000.0           1.0                   0.0  "
      ]
     },
     "execution_count": 31,
     "metadata": {},
     "output_type": "execute_result"
    }
   ],
   "source": [
    "test_data.head()"
   ]
  },
  {
   "cell_type": "markdown",
   "metadata": {
    "id": "598mJobI2bcb"
   },
   "source": [
    "Filling in the gaps in the data:"
   ]
  },
  {
   "cell_type": "code",
   "execution_count": 32,
   "metadata": {
    "execution": {
     "iopub.execute_input": "2023-11-04T20:23:09.590386Z",
     "iopub.status.busy": "2023-11-04T20:23:09.590155Z",
     "iopub.status.idle": "2023-11-04T20:23:32.115969Z",
     "shell.execute_reply": "2023-11-04T20:23:32.115149Z",
     "shell.execute_reply.started": "2023-11-04T20:23:09.590363Z"
    },
    "id": "u7rkM3U91_la"
   },
   "outputs": [],
   "source": [
    "test_data['credit_count'] = simple_imputer.transform(test_data[['credit_count']])\n",
    "transformed_test_data = knn_imputer.transform(test_data[numeric_columns])[:, 8]\n",
    "test_data['overdue_credit_count'] = transformed_test_data"
   ]
  },
  {
   "cell_type": "markdown",
   "metadata": {
    "id": "zmjRopUzPWLp"
   },
   "source": [
    "Recall now that the test data also has a skip in the monthly_income column.\n",
    "\n",
    "**Task**: fill in the omission in monthly_income in the test data"
   ]
  },
  {
   "cell_type": "markdown",
   "metadata": {
    "id": "FR8OPDEH2v1C"
   },
   "source": [
    "Processing of categorical attributes:"
   ]
  },
  {
   "cell_type": "code",
   "execution_count": 33,
   "metadata": {
    "execution": {
     "iopub.execute_input": "2023-11-04T20:23:32.117286Z",
     "iopub.status.busy": "2023-11-04T20:23:32.116951Z",
     "iopub.status.idle": "2023-11-04T20:23:32.221066Z",
     "shell.execute_reply": "2023-11-04T20:23:32.220386Z",
     "shell.execute_reply.started": "2023-11-04T20:23:32.117260Z"
    },
    "id": "55y5G2Xr2XcY"
   },
   "outputs": [
    {
     "data": {
      "text/html": [
       "<div>\n",
       "<style scoped>\n",
       "    .dataframe tbody tr th:only-of-type {\n",
       "        vertical-align: middle;\n",
       "    }\n",
       "\n",
       "    .dataframe tbody tr th {\n",
       "        vertical-align: top;\n",
       "    }\n",
       "\n",
       "    .dataframe thead th {\n",
       "        text-align: right;\n",
       "    }\n",
       "</style>\n",
       "<table border=\"1\" class=\"dataframe\">\n",
       "  <thead>\n",
       "    <tr style=\"text-align: right;\">\n",
       "      <th></th>\n",
       "      <th>client_id</th>\n",
       "      <th>age</th>\n",
       "      <th>credit_sum</th>\n",
       "      <th>credit_month</th>\n",
       "      <th>tariff_id</th>\n",
       "      <th>score_shk</th>\n",
       "      <th>living_region</th>\n",
       "      <th>monthly_income</th>\n",
       "      <th>credit_count</th>\n",
       "      <th>overdue_credit_count</th>\n",
       "      <th>...</th>\n",
       "      <th>job_position_SPC</th>\n",
       "      <th>job_position_UMN</th>\n",
       "      <th>job_position_WOI</th>\n",
       "      <th>job_position_WRK</th>\n",
       "      <th>job_position_WRP</th>\n",
       "      <th>education_ACD</th>\n",
       "      <th>education_GRD</th>\n",
       "      <th>education_PGR</th>\n",
       "      <th>education_SCH</th>\n",
       "      <th>education_UGR</th>\n",
       "    </tr>\n",
       "  </thead>\n",
       "  <tbody>\n",
       "    <tr>\n",
       "      <th>0</th>\n",
       "      <td>119519</td>\n",
       "      <td>24</td>\n",
       "      <td>28429.0</td>\n",
       "      <td>18</td>\n",
       "      <td>1.10</td>\n",
       "      <td>0.593836</td>\n",
       "      <td>ОБЛ ИРКУТСКАЯ</td>\n",
       "      <td>33000.0</td>\n",
       "      <td>3.0</td>\n",
       "      <td>0.0</td>\n",
       "      <td>...</td>\n",
       "      <td>1.0</td>\n",
       "      <td>0.0</td>\n",
       "      <td>0.0</td>\n",
       "      <td>0.0</td>\n",
       "      <td>0.0</td>\n",
       "      <td>0.0</td>\n",
       "      <td>1.0</td>\n",
       "      <td>0.0</td>\n",
       "      <td>0.0</td>\n",
       "      <td>0.0</td>\n",
       "    </tr>\n",
       "    <tr>\n",
       "      <th>1</th>\n",
       "      <td>119520</td>\n",
       "      <td>25</td>\n",
       "      <td>15997.0</td>\n",
       "      <td>10</td>\n",
       "      <td>1.60</td>\n",
       "      <td>0.615015</td>\n",
       "      <td>УЛЬЯНОВСКАЯ ОБЛ</td>\n",
       "      <td>35000.0</td>\n",
       "      <td>2.0</td>\n",
       "      <td>0.0</td>\n",
       "      <td>...</td>\n",
       "      <td>1.0</td>\n",
       "      <td>0.0</td>\n",
       "      <td>0.0</td>\n",
       "      <td>0.0</td>\n",
       "      <td>0.0</td>\n",
       "      <td>0.0</td>\n",
       "      <td>0.0</td>\n",
       "      <td>0.0</td>\n",
       "      <td>1.0</td>\n",
       "      <td>0.0</td>\n",
       "    </tr>\n",
       "    <tr>\n",
       "      <th>2</th>\n",
       "      <td>119521</td>\n",
       "      <td>25</td>\n",
       "      <td>11043.0</td>\n",
       "      <td>10</td>\n",
       "      <td>1.16</td>\n",
       "      <td>0.666758</td>\n",
       "      <td>РЕСП БАШКОРТОСТАН</td>\n",
       "      <td>25000.0</td>\n",
       "      <td>3.0</td>\n",
       "      <td>0.0</td>\n",
       "      <td>...</td>\n",
       "      <td>1.0</td>\n",
       "      <td>0.0</td>\n",
       "      <td>0.0</td>\n",
       "      <td>0.0</td>\n",
       "      <td>0.0</td>\n",
       "      <td>0.0</td>\n",
       "      <td>0.0</td>\n",
       "      <td>0.0</td>\n",
       "      <td>1.0</td>\n",
       "      <td>0.0</td>\n",
       "    </tr>\n",
       "    <tr>\n",
       "      <th>3</th>\n",
       "      <td>119522</td>\n",
       "      <td>34</td>\n",
       "      <td>14617.0</td>\n",
       "      <td>10</td>\n",
       "      <td>1.40</td>\n",
       "      <td>0.447745</td>\n",
       "      <td>ПЕНЗЕНСКАЯ ОБЛ</td>\n",
       "      <td>15000.0</td>\n",
       "      <td>2.0</td>\n",
       "      <td>0.0</td>\n",
       "      <td>...</td>\n",
       "      <td>1.0</td>\n",
       "      <td>0.0</td>\n",
       "      <td>0.0</td>\n",
       "      <td>0.0</td>\n",
       "      <td>0.0</td>\n",
       "      <td>0.0</td>\n",
       "      <td>1.0</td>\n",
       "      <td>0.0</td>\n",
       "      <td>0.0</td>\n",
       "      <td>0.0</td>\n",
       "    </tr>\n",
       "    <tr>\n",
       "      <th>4</th>\n",
       "      <td>119523</td>\n",
       "      <td>33</td>\n",
       "      <td>38147.0</td>\n",
       "      <td>12</td>\n",
       "      <td>1.60</td>\n",
       "      <td>0.706974</td>\n",
       "      <td>ОБЛ МОСКОВСКАЯ</td>\n",
       "      <td>55000.0</td>\n",
       "      <td>1.0</td>\n",
       "      <td>0.0</td>\n",
       "      <td>...</td>\n",
       "      <td>1.0</td>\n",
       "      <td>0.0</td>\n",
       "      <td>0.0</td>\n",
       "      <td>0.0</td>\n",
       "      <td>0.0</td>\n",
       "      <td>0.0</td>\n",
       "      <td>0.0</td>\n",
       "      <td>0.0</td>\n",
       "      <td>0.0</td>\n",
       "      <td>1.0</td>\n",
       "    </tr>\n",
       "  </tbody>\n",
       "</table>\n",
       "<p>5 rows × 37 columns</p>\n",
       "</div>"
      ],
      "text/plain": [
       "   client_id  age  credit_sum  credit_month  tariff_id  score_shk  \\\n",
       "0     119519   24     28429.0            18       1.10   0.593836   \n",
       "1     119520   25     15997.0            10       1.60   0.615015   \n",
       "2     119521   25     11043.0            10       1.16   0.666758   \n",
       "3     119522   34     14617.0            10       1.40   0.447745   \n",
       "4     119523   33     38147.0            12       1.60   0.706974   \n",
       "\n",
       "       living_region  monthly_income  credit_count  overdue_credit_count  ...  \\\n",
       "0      ОБЛ ИРКУТСКАЯ         33000.0           3.0                   0.0  ...   \n",
       "1    УЛЬЯНОВСКАЯ ОБЛ         35000.0           2.0                   0.0  ...   \n",
       "2  РЕСП БАШКОРТОСТАН         25000.0           3.0                   0.0  ...   \n",
       "3     ПЕНЗЕНСКАЯ ОБЛ         15000.0           2.0                   0.0  ...   \n",
       "4     ОБЛ МОСКОВСКАЯ         55000.0           1.0                   0.0  ...   \n",
       "\n",
       "   job_position_SPC  job_position_UMN  job_position_WOI  job_position_WRK  \\\n",
       "0               1.0               0.0               0.0               0.0   \n",
       "1               1.0               0.0               0.0               0.0   \n",
       "2               1.0               0.0               0.0               0.0   \n",
       "3               1.0               0.0               0.0               0.0   \n",
       "4               1.0               0.0               0.0               0.0   \n",
       "\n",
       "   job_position_WRP  education_ACD  education_GRD  education_PGR  \\\n",
       "0               0.0            0.0            1.0            0.0   \n",
       "1               0.0            0.0            0.0            0.0   \n",
       "2               0.0            0.0            0.0            0.0   \n",
       "3               0.0            0.0            1.0            0.0   \n",
       "4               0.0            0.0            0.0            0.0   \n",
       "\n",
       "   education_SCH  education_UGR  \n",
       "0            0.0            0.0  \n",
       "1            1.0            0.0  \n",
       "2            1.0            0.0  \n",
       "3            0.0            0.0  \n",
       "4            0.0            1.0  \n",
       "\n",
       "[5 rows x 37 columns]"
      ]
     },
     "execution_count": 33,
     "metadata": {},
     "output_type": "execute_result"
    }
   ],
   "source": [
    "new_category_columns_test = ohe.transform(test_data[categorical_columns])\n",
    "new_test_columns = pd.DataFrame(new_category_columns_test, columns=ohe.get_feature_names_out())\n",
    "test_data = test_data.drop(columns=categorical_columns)\n",
    "test_data = pd.concat([test_data, new_test_columns], axis=1)\n",
    "test_data.head()"
   ]
  },
  {
   "cell_type": "markdown",
   "metadata": {
    "id": "jHZ_OPyq3QUS"
   },
   "source": [
    "And there is still a separate living_region feature.\n",
    "\n",
    "**Task**: preprocess the living_region feature"
   ]
  },
  {
   "cell_type": "markdown",
   "metadata": {
    "id": "Smf2x6zd3wu7"
   },
   "source": [
    "## Training and model parameterization"
   ]
  },
  {
   "cell_type": "markdown",
   "metadata": {
    "id": "upkINpre31_u"
   },
   "source": [
    "**Task**: train a machine learning model on training data and select hyperparameters.\n",
    "\n",
    "Question: when should I split the data into train/val? Before or after preprocessing the features of the training dataset?\n",
    "\n",
    "Note that the quality metric in [cont. on Kaggle](https://www.kaggle.com/competitions/bank-issues-042022/leaderboard) for this task is ROC AUC"
   ]
  },
  {
   "cell_type": "markdown",
   "metadata": {
    "id": "E8n2QZP24GW4"
   },
   "source": [
    "## Obtaining predictions on test data"
   ]
  },
  {
   "cell_type": "markdown",
   "metadata": {
    "id": "ZBYdQrEx4I_T"
   },
   "source": [
    "**Task**: get model predictions on test_data. Submit your predictions to [Kaggle contest](https://www.kaggle.com/competitions/bank-issues-042022/leaderboard)."
   ]
  }
 ],
 "metadata": {
  "colab": {
   "collapsed_sections": [
    "KK3jnZBkKGE6",
    "NijO5JK2K_qx",
    "px4t9DyjPkul",
    "UCFdUu_2T9M5",
    "Q-G4102sT4X9",
    "k025DgC0VKAs",
    "QggLSuwTz06h",
    "Smf2x6zd3wu7",
    "E8n2QZP24GW4"
   ],
   "provenance": []
  },
  "kernelspec": {
   "display_name": "Python 3 (ipykernel)",
   "language": "python",
   "name": "python3"
  },
  "language_info": {
   "codemirror_mode": {
    "name": "ipython",
    "version": 3
   },
   "file_extension": ".py",
   "mimetype": "text/x-python",
   "name": "python",
   "nbconvert_exporter": "python",
   "pygments_lexer": "ipython3",
   "version": "3.9.16"
  }
 },
 "nbformat": 4,
 "nbformat_minor": 4
}
